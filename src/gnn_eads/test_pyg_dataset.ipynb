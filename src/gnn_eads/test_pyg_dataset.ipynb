{
 "cells": [
  {
   "cell_type": "code",
   "execution_count": null,
   "metadata": {},
   "outputs": [],
   "source": [
    "import sys\n",
    "sys.path.append('..')\n",
    "\n",
    "from create_pyg_dataset import AdsorptionGraphDataset\n",
    "from gnn_eads.graph_tools import graph_plotter"
   ]
  },
  {
   "cell_type": "code",
   "execution_count": null,
   "metadata": {},
   "outputs": [],
   "source": [
    "ASE_DB_PATH = \"/home/smorandi/Desktop/gnn_eads/data/FG_dataset/FG_DATASET.db\"\n",
    "STRUCTURE_DICT = {\"tolerance\": 0.5, \"scaling_factor\": 1.2, \"second_order_nn\": False}\n",
    "FEATURES_DICT = {\"adsorbate\": False, \"ring\": False, \"aromatic\": False, \"radical\": False, \"facet\": False}\n",
    "GRAPH_PARAMS = {\"structure\": STRUCTURE_DICT, \"features\": FEATURES_DICT, \"target\": \"scaled_e_ads\"}\n",
    "\n",
    "FG_dataset = AdsorptionGraphDataset(ASE_DB_PATH, GRAPH_PARAMS, \"calc_type=adsorption,family=group2\")\n",
    "FG_dataset.print_summary()"
   ]
  },
  {
   "cell_type": "code",
   "execution_count": null,
   "metadata": {},
   "outputs": [],
   "source": [
    "print(FG_dataset)"
   ]
  },
  {
   "cell_type": "code",
   "execution_count": null,
   "metadata": {},
   "outputs": [],
   "source": [
    "print(FG_dataset.data)"
   ]
  },
  {
   "cell_type": "code",
   "execution_count": null,
   "metadata": {},
   "outputs": [],
   "source": [
    "print(FG_dataset.counter_isomorphism, FG_dataset.counter_H_filter, FG_dataset.counter_C_filter, FG_dataset.counter_fragment_filter, FG_dataset.counter_adsorption_filter, len(FG_dataset), FG_dataset.database_size)\n",
    "        "
   ]
  },
  {
   "cell_type": "code",
   "execution_count": null,
   "metadata": {},
   "outputs": [],
   "source": [
    "FG_dataset.node_dim"
   ]
  },
  {
   "cell_type": "code",
   "execution_count": null,
   "metadata": {},
   "outputs": [],
   "source": [
    "random_graph = FG_dataset[59]\n",
    "print(random_graph)"
   ]
  },
  {
   "cell_type": "code",
   "execution_count": null,
   "metadata": {},
   "outputs": [],
   "source": [
    "random_graph.x"
   ]
  },
  {
   "cell_type": "code",
   "execution_count": null,
   "metadata": {},
   "outputs": [],
   "source": [
    "df = random_graph.x.detach().numpy()\n",
    "df.columns = FG_dataset.node_feature_list"
   ]
  },
  {
   "cell_type": "code",
   "execution_count": null,
   "metadata": {},
   "outputs": [],
   "source": [
    "import pprint\n",
    "pprint.pprint(FG_dataset.node_feature_list)\n",
    "pprint.pprint(random_graph.x[:, 2])\n",
    "pprint.pprint(random_graph.x[:, 11])\n",
    "pprint.pprint(random_graph.x[:, -1])"
   ]
  },
  {
   "cell_type": "code",
   "execution_count": null,
   "metadata": {},
   "outputs": [],
   "source": [
    "import pandas as pd\n",
    "random_graph = FG_dataset[3000]\n",
    "df = pd.DataFrame(random_graph.x.numpy())\n",
    "df.columns = FG_dataset.node_feature_list\n",
    "print(df)"
   ]
  },
  {
   "cell_type": "code",
   "execution_count": null,
   "metadata": {},
   "outputs": [],
   "source": [
    "print(random_graph)"
   ]
  },
  {
   "cell_type": "code",
   "execution_count": null,
   "metadata": {},
   "outputs": [],
   "source": [
    "random_graph = FG_dataset[4000]\n",
    "graph_plotter(random_graph)"
   ]
  },
  {
   "cell_type": "code",
   "execution_count": null,
   "metadata": {},
   "outputs": [],
   "source": [
    "dir(FG_dataset)"
   ]
  },
  {
   "cell_type": "code",
   "execution_count": null,
   "metadata": {},
   "outputs": [],
   "source": [
    "print(FG_dataset.dataset_id)"
   ]
  },
  {
   "cell_type": "code",
   "execution_count": null,
   "metadata": {},
   "outputs": [],
   "source": [
    "database_size = FG_dataset.database_size\n",
    "graph_dataset_size = len(FG_dataset)\n",
    "bin_C_filter = FG_dataset.counter_C_filter\n",
    "bin_H_filter = FG_dataset.counter_H_filter\n",
    "bin_fragment_filter = FG_dataset.counter_fragment_filter\n",
    "bin_adsorption_filter = FG_dataset.counter_adsorption_filter\n",
    "bin_isomorphism = FG_dataset.counter_isomorphism\n",
    "\n",
    "print(\"ASE database size: \", database_size)\n",
    "print(\"Graph dataset size: \", graph_dataset_size)\n",
    "print(\"C filter: \", bin_C_filter)\n",
    "print(\"H filter: \", bin_H_filter)\n",
    "print(\"Fragment filter: \", bin_fragment_filter)\n",
    "print(\"Adsorption filter: \", bin_adsorption_filter)\n",
    "print(\"Isomorphism: \", bin_isomorphism)\n"
   ]
  },
  {
   "attachments": {},
   "cell_type": "markdown",
   "metadata": {},
   "source": [
    "# Representation study"
   ]
  },
  {
   "cell_type": "code",
   "execution_count": null,
   "metadata": {},
   "outputs": [],
   "source": [
    "adsorbate_nodes = 0\n",
    "catalyst_nodes = 0\n",
    "for graph in FG_dataset:\n",
    "    for node in graph.x:\n",
    "        if node[-1] == 1:\n",
    "            adsorbate_nodes += 1\n",
    "        elif node[-1] == 0:\n",
    "            catalyst_nodes += 1\n",
    "        else:\n",
    "            raise ValueError(\"Node type not recognized\")\n",
    "print(\"Adsorbate nodes: \", adsorbate_nodes)\n",
    "print(\"Catalyst nodes: \", catalyst_nodes)"
   ]
  },
  {
   "cell_type": "code",
   "execution_count": null,
   "metadata": {},
   "outputs": [],
   "source": [
    "facet_111 = 0\n",
    "facet_0001 = 0\n",
    "facet_110 = 0\n",
    "\n",
    "for graph in FG_dataset:\n",
    "    if graph.facet == \"fcc(111)\":\n",
    "        facet_111 += 1\n",
    "    elif graph.facet == \"hcp(0001)\":\n",
    "        facet_0001 += 1\n",
    "    elif graph.facet == \"bcc(110)\":\n",
    "        facet_110 += 1\n",
    "    else:\n",
    "        raise ValueError(\"Facet not recognized\")\n",
    "print(\"Facet 111: \", facet_111)\n",
    "print(\"Facet 0001: \", facet_0001)\n",
    "print(\"Facet 110: \", facet_110)"
   ]
  },
  {
   "cell_type": "code",
   "execution_count": null,
   "metadata": {},
   "outputs": [],
   "source": [
    "# get distribution of metals\n",
    "metals = []\n",
    "for graph in FG_dataset:\n",
    "    metals.append(graph.metal)\n",
    "\n",
    "#create dictionary of metals and their counts\n",
    "metal_dict = {}\n",
    "for metal in metals:\n",
    "    if metal not in metal_dict:\n",
    "        metal_dict[metal] = 1\n",
    "    else:\n",
    "        metal_dict[metal] += 1\n",
    "# generate boxplot of metals\n",
    "import matplotlib.pyplot as plt\n",
    "\n",
    "plt.bar(metal_dict.keys(), metal_dict.values())"
   ]
  },
  {
   "cell_type": "code",
   "execution_count": null,
   "metadata": {},
   "outputs": [],
   "source": [
    "from ase.db import connect\n",
    "from rdkit import Chem\n",
    "\n",
    "db = connect(ASE_DB_PATH)\n",
    "metals = [\"Ag\", \"Au\", \"Cd\", \"Co\", \"Cu\", \"Fe\", \"Ir\", \"Ni\", \"Os\", \"Pd\", \"Pt\", \"Rh\", \"Ru\", \"Zn\"]\n",
    "\n",
    "atoms_obj = db.get_atoms(id=1000)\n",
    "atoms_obj"
   ]
  },
  {
   "cell_type": "code",
   "execution_count": null,
   "metadata": {},
   "outputs": [],
   "source": [
    "from rdkit import Chem\n",
    "from rdkit.Chem import AllChem\n",
    "import numpy as np\n",
    "import copy\n",
    "from ase.atoms import Atoms\n",
    "from rdkit.Chem import rdDetermineBonds\n",
    "\n",
    "metals = [\"Ag\", \"Au\", \"Cd\", \"Co\", \"Cu\", \"Fe\", \"Ir\", \"Ni\", \"Os\", \"Pd\", \"Pt\", \"Rh\", \"Ru\", \"Zn\"]\n",
    "\n",
    "def get_aromatic_atoms(atoms_obj: Atoms, \n",
    "                       molecule_elements: list[str]) -> list[int]:\n",
    "    \"\"\"\n",
    "    Get the aromatic atoms in an atoms object\n",
    "\n",
    "    Args:\n",
    "        atoms_obj: ASE atoms object\n",
    "\n",
    "    Returns:\n",
    "        aromatic_atoms: list of aromatic atoms indices\n",
    "    \"\"\"\n",
    "    molecule_atoms_obj = Atoms()\n",
    "    molecule_atoms_obj.set_cell(atoms_obj.get_cell())\n",
    "    molecule_atoms_obj.set_pbc(atoms_obj.get_pbc())\n",
    "    for atom in atoms_obj:\n",
    "        if atom.symbol in molecule_elements:\n",
    "            molecule_atoms_obj.append(atom)\n",
    "    atomic_symbols = molecule_atoms_obj.get_chemical_symbols()\n",
    "    coordinates = molecule_atoms_obj.get_positions()\n",
    "    xyz = '\\n'.join(f'{symbol} {x} {y} {z}' for symbol, (x, y, z) in zip(atomic_symbols, coordinates))\n",
    "    xyz = \"{}\\n\\n{}\".format(len(molecule_atoms_obj), xyz)\n",
    "    rdkit_mol = Chem.MolFromXYZBlock(xyz)\n",
    "    conn_mol = Chem.Mol(rdkit_mol)\n",
    "    rdDetermineBonds.DetermineBonds(conn_mol)\n",
    "    aromatic_atoms = [atom.GetIdx() for atom in conn_mol.GetAtoms() if atom.GetIsAromatic()]\n",
    "    return aromatic_atoms"
   ]
  },
  {
   "cell_type": "code",
   "execution_count": null,
   "metadata": {},
   "outputs": [],
   "source": [
    "get_aromatic_atoms(atoms_obj, metals)"
   ]
  },
  {
   "cell_type": "code",
   "execution_count": null,
   "metadata": {},
   "outputs": [],
   "source": [
    "atoms_obj"
   ]
  },
  {
   "cell_type": "code",
   "execution_count": null,
   "metadata": {},
   "outputs": [],
   "source": [
    "print(aromatic_atoms)"
   ]
  },
  {
   "cell_type": "code",
   "execution_count": null,
   "metadata": {},
   "outputs": [],
   "source": [
    "# Remove all metal atoms from rdkit_mol\n",
    "for atom in rdkit_mol:\n",
    "    if atom.GetSymbol() in metals:\n",
    "        rdkit_mol.RemoveAtom(atom.GetIdx())"
   ]
  }
 ],
 "metadata": {
  "kernelspec": {
   "display_name": "gnn_original",
   "language": "python",
   "name": "python3"
  },
  "language_info": {
   "codemirror_mode": {
    "name": "ipython",
    "version": 3
   },
   "file_extension": ".py",
   "mimetype": "text/x-python",
   "name": "python",
   "nbconvert_exporter": "python",
   "pygments_lexer": "ipython3",
   "version": "3.9.13"
  },
  "orig_nbformat": 4
 },
 "nbformat": 4,
 "nbformat_minor": 2
}
