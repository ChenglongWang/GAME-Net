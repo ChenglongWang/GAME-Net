{
 "cells": [
  {
   "cell_type": "markdown",
   "id": "a6738217",
   "metadata": {},
   "source": [
    "Notebook for generating the samples for the GNN model.\n",
    "For each dataset, the final output is the Dataset.dat file needed by the GNN model."
   ]
  },
  {
   "cell_type": "code",
   "execution_count": null,
   "id": "7db97384",
   "metadata": {},
   "outputs": [],
   "source": [
    "from functions import get_tuples, export_tuples, geometry_to_graph_analysis\n",
    "from paths import paths\n",
    "from constants import VORONOI_TOLERANCE, CORDERO, FG_RAW_GROUPS, CORDERO_ORIGINAL"
   ]
  },
  {
   "cell_type": "markdown",
   "id": "38eaffde",
   "metadata": {},
   "source": [
    "# Create graph representations\n",
    "\n",
    "Here we are performing the conversion of the molecule/adsorption geometries into a graph data structure. The final graphs are stored in a text format that contains all the information needed to generate the graph objects in a suitbale Pytorch geometric format. The conversion to PyG suitable format is performed within the HetGraphDataset class."
   ]
  },
  {
   "cell_type": "code",
   "execution_count": null,
   "id": "ff0a73fd",
   "metadata": {},
   "outputs": [],
   "source": [
    "bad_samples = 0\n",
    "tot_samples = 0\n",
    "print(\"VORONOI TOLERANCE = {} Angstrom\".format(VORONOI_TOLERANCE))\n",
    "for dataset in FG_RAW_GROUPS:\n",
    "    my_tuple = get_tuples(dataset, VORONOI_TOLERANCE, CORDERO)\n",
    "    export_tuples(paths[dataset]['dataset'], my_tuple)\n",
    "    x = geometry_to_graph_analysis(dataset)\n",
    "    if dataset[:3] != \"gas\":\n",
    "        bad_samples += x[0]\n",
    "        tot_samples += x[2]\n",
    "print(\"Voronoi tolerance: {} Angstrom\".format(VORONOI_TOLERANCE))\n",
    "print(\"Bad samples: {}\".format(bad_samples))\n",
    "print(\"Total samples: {}\".format(tot_samples))\n",
    "print(\"Percentage of bad samples: {:.2f}%\".format(bad_samples * 100/tot_samples))"
   ]
  },
  {
   "cell_type": "markdown",
   "id": "975715c4",
   "metadata": {},
   "source": [
    "## Sensitivity analysis of the bad representations wrt Voronoi tolerance parameter"
   ]
  },
  {
   "cell_type": "code",
   "execution_count": null,
   "id": "67e22852",
   "metadata": {},
   "outputs": [],
   "source": [
    "voronoi_array = [0, 0.25, 0.5, 0.75, 1.0]\n",
    "bad_representations_array = []\n",
    "tot_representations_array = []\n",
    "for i in range(len(voronoi_array)):\n",
    "    bad_samples = 0\n",
    "    tot_samples = 0\n",
    "    V = voronoi_array[i]\n",
    "    for dataset in FG_RAW_GROUPS:\n",
    "        my_tuple = get_tuples(dataset, V, CORDERO_ORIGINAL)\n",
    "        export_tuples(paths[dataset]['dataset'], my_tuple)\n",
    "        x = geometry_to_graph_analysis(dataset)\n",
    "        if dataset[:3] != \"gas\":\n",
    "            bad_samples += x[0]\n",
    "            tot_samples += x[2]\n",
    "    bad_representations_array.append(bad_samples)\n",
    "    tot_representations_array.append(tot_samples)\n",
    "    "
   ]
  },
  {
   "cell_type": "code",
   "execution_count": null,
   "id": "1874c499",
   "metadata": {},
   "outputs": [],
   "source": [
    "print(bad_representations_array)\n",
    "print(tot_representations_array)\n"
   ]
  },
  {
   "cell_type": "code",
   "execution_count": null,
   "id": "71376cc7",
   "metadata": {},
   "outputs": [],
   "source": [
    "import matplotlib.pyplot as plt"
   ]
  },
  {
   "cell_type": "code",
   "execution_count": null,
   "id": "69a85fec",
   "metadata": {},
   "outputs": [],
   "source": [
    "plt.plot(voronoi_array, bad_representations_array)\n",
    "plt.xlabel(\"Voronoi tolerance\")\n",
    "plt.ylabel(\"Bad representations\")\n",
    "plt.title(\"Missing M-A connections\")"
   ]
  },
  {
   "cell_type": "code",
   "execution_count": null,
   "id": "64893e46",
   "metadata": {},
   "outputs": [],
   "source": []
  }
 ],
 "metadata": {
  "interpreter": {
   "hash": "929eb757b548c43686da14be07befd842a942a01eb9dc843387956885175000a"
  },
  "kernelspec": {
   "display_name": "Python 3.9.12 ('GNN')",
   "language": "python",
   "name": "python3"
  },
  "language_info": {
   "codemirror_mode": {
    "name": "ipython",
    "version": 3
   },
   "file_extension": ".py",
   "mimetype": "text/x-python",
   "name": "python",
   "nbconvert_exporter": "python",
   "pygments_lexer": "ipython3",
   "version": "3.9.12"
  },
  "toc": {
   "base_numbering": 1,
   "nav_menu": {},
   "number_sections": true,
   "sideBar": true,
   "skip_h1_title": false,
   "title_cell": "Table of Contents",
   "title_sidebar": "Contents",
   "toc_cell": false,
   "toc_position": {},
   "toc_section_display": true,
   "toc_window_display": false
  },
  "varInspector": {
   "cols": {
    "lenName": 16,
    "lenType": 16,
    "lenVar": 40
   },
   "kernels_config": {
    "python": {
     "delete_cmd_postfix": "",
     "delete_cmd_prefix": "del ",
     "library": "var_list.py",
     "varRefreshCmd": "print(var_dic_list())"
    },
    "r": {
     "delete_cmd_postfix": ") ",
     "delete_cmd_prefix": "rm(",
     "library": "var_list.r",
     "varRefreshCmd": "cat(var_dic_list()) "
    }
   },
   "types_to_exclude": [
    "module",
    "function",
    "builtin_function_or_method",
    "instance",
    "_Feature"
   ],
   "window_display": false
  }
 },
 "nbformat": 4,
 "nbformat_minor": 5
}
