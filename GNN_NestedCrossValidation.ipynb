{
 "cells": [
  {
   "cell_type": "code",
   "execution_count": null,
   "metadata": {},
   "outputs": [],
   "source": [
    "import torch \n",
    "import time\n",
    "from functions import *\n",
    "from graph_tools import *\n",
    "from processed_datasets import *\n",
    "from post_training import *\n",
    "from nets import SantyxNet\n",
    "from copy import copy, deepcopy\n",
    "from torch.optim import Adam\n",
    "from torch.optim.lr_scheduler import ReduceLROnPlateau\n",
    "\n",
    "gnn_dataset = (group2_dataset, group2b_dataset,\n",
    "               aromatics_dataset, aromatics2_dataset,\n",
    "               amides_dataset, amidines_dataset,\n",
    "               oximes_dataset, carbamate_esters_dataset,\n",
    "               group3S_dataset, group3N_dataset,\n",
    "               group4_dataset, gas_amides_dataset,\n",
    "               gas_amidines_dataset, gas_aromatics_dataset,\n",
    "               gas_aromatics2_dataset, gas_carbamate_esters_dataset,\n",
    "               gas_group2_dataset, gas_group2b_dataset,\n",
    "               gas_group3N_dataset, gas_group3S_dataset,\n",
    "               gas_group4_dataset, gas_oximes_dataset) \n",
    "\n",
    "device = \"cuda\" if torch.cuda.is_available() else \"cpu\"\n",
    "print(\"Current device: {}\".format(device))\n",
    "if device == \"cuda\":\n",
    "    print(\"Device name: {}\".format(torch.cuda.get_device_name(0)))\n",
    "    print(\"CUDA Version: {}\".format(torch.version.cuda))\n",
    "    print(\"CuDNN Version: {}\".format(torch.backends.cudnn.version()))\n",
    "    \n",
    "DIM = 128  \n",
    "EPOCHS = 300          \n",
    "LOSS_FN = F.l1_loss   \n",
    "BATCH_SIZE = 32       \n",
    "SPLITS = 5            \n",
    "LR = 0.001\n",
    "PATIENCE = 5   \n",
    "FACTOR = 0.7   \n",
    "MIN_LR = 1e-7  "
   ]
  },
  {
   "cell_type": "code",
   "execution_count": null,
   "metadata": {},
   "outputs": [],
   "source": [
    "\n",
    "def split_list(a: list, n: int):\n",
    "    k, m = divmod(len(a), n)\n",
    "    return (a[i*k+min(i, m):(i+1)*k+min(i+1, m)] for i in range(n))\n",
    "\n",
    "def create_loaders_nested(datasets, split=5, batch_size=32):\n",
    "    \"\"\"\n",
    "    Create dataloaders for training+validation and test.\n",
    "    Args:\n",
    "        datasets(tuple): tuple containing the HetGraphDataset objects.\n",
    "        split(int): number of splits to generate train/val/test sets\n",
    "        batch(int): batch size    \n",
    "    Returns:\n",
    "        (tuple): tuple with dataloaders for training, validation and testing.\n",
    "    \"\"\"\n",
    "    chunk = [[] for _ in range(split)]\n",
    "    for dataset in datasets:\n",
    "        dataset.shuffle()\n",
    "        iterator = split_list(dataset, split)\n",
    "        for index, item in enumerate(iterator):\n",
    "            chunk[index] += item\n",
    "        chunk = sorted(chunk, key=len)\n",
    "    \n",
    "    for index in range(len(chunk)):\n",
    "        proxy = copy(chunk)\n",
    "        test_loader = DataLoader(proxy.pop(index), batch_size=batch_size, shuffle=False)\n",
    "        for index_2 in range(len(proxy)):\n",
    "            proxy_2 = copy(proxy)\n",
    "            val_loader = DataLoader(proxy_2.pop(index_2), batch_size=batch_size, shuffle=False)\n",
    "            flatten_training = [item for sublist in proxy_2 for item in sublist]\n",
    "            train_loader = DataLoader(flatten_training, batch_size=batch_size, shuffle=True)\n",
    "            yield deepcopy((train_loader, val_loader, test_loader))"
   ]
  },
  {
   "cell_type": "code",
   "execution_count": null,
   "metadata": {},
   "outputs": [],
   "source": [
    "\n",
    "iterator = create_loaders_nested(gnn_dataset, split=SPLITS, batch_size=BATCH_SIZE)\n",
    "MAE_outer = []\n",
    "counter = 0\n",
    "tot_runs = SPLITS * (SPLITS - 1)\n",
    "for outer in range(SPLITS):\n",
    "    MAE_inner = []\n",
    "    for inner in range(SPLITS - 1):\n",
    "        counter += 1\n",
    "        train_loader, val_loader, test_loader = next(iterator)\n",
    "        train_loader, val_loader, test_loader, mean_tv, std_tv = scale_target(train_loader, val_loader, test_loader,\n",
    "                                                                              mode=\"std\", verbose=False)\n",
    "        model = SantyxNet(dim=DIM, node_features=node_features).to(device)\n",
    "        optimizer = Adam(model.parameters(), lr=LR)  \n",
    "        scheduler = ReduceLROnPlateau(optimizer, mode='min', factor=FACTOR, patience=PATIENCE, min_lr=MIN_LR)\n",
    "        loss_list = []  \n",
    "        train_list = [] \n",
    "        val_list = []   \n",
    "        test_list = []  \n",
    "        t0 = time.time()        \n",
    "        for epoch in range(1, EPOCHS+1):\n",
    "            lr = scheduler.optimizer.param_groups[0]['lr']\n",
    "            loss, train_MAE = train_loop(model, device, train_loader, optimizer, LOSS_FN)  \n",
    "            val_MAE = test_loop(model, val_loader, device, std_tv)            \n",
    "            scheduler.step(val_MAE)                                                       \n",
    "            test_MAE = test_loop(model, test_loader, device, std_tv)    \n",
    "            print('{}/{}-Epoch {:03d}: LR={:.7f}  Loss={:.6f}  Validation MAE: {:.6f} eV, '\n",
    "                'Test MAE: {:.6f} eV'.format(counter, tot_runs, epoch, lr, loss, val_MAE, test_MAE))\n",
    "            if epoch == EPOCHS:\n",
    "                MAE_inner.append(test_MAE)\n",
    "        print(\"Training time: {:.2f} s\".format(time.time() - t0))\n",
    "        loss_list.append(loss)\n",
    "        train_list.append(train_MAE * std_tv)\n",
    "        val_list.append(val_MAE)\n",
    "        test_list.append(test_MAE)\n",
    "        x, y = test_performance(\"{}-{}\".format(counter, tot_runs), model, \n",
    "                               train_loader, val_loader, test_loader, \n",
    "                               mean_tv, std_tv, \n",
    "                               SPLITS, EPOCHS, BATCH_SIZE, \n",
    "                               lr, MIN_LR, train_list, val_list, test_list)\n",
    "        with open(\"./NestedCrossValidation/Test.csv\", mode=\"a\") as outfile:\n",
    "            for a, b in zip(x, y):\n",
    "                outfile.write(f\"name,{a},ener{counter},{b}\\n\")\n",
    "        del model\n",
    "        if device == \"cuda\":\n",
    "            torch.cuda.empty_cache()\n",
    "    MAE_outer.append(np.mean(MAE_inner))\n",
    "MAE = np.mean(MAE_outer)\n",
    "print(\"NESTED CROSS VALIDATION: MAE = {:.2f}\".format(MAE))"
   ]
  }
 ],
 "metadata": {
  "interpreter": {
   "hash": "929eb757b548c43686da14be07befd842a942a01eb9dc843387956885175000a"
  },
  "kernelspec": {
   "display_name": "Python 3.9.12 ('GNN')",
   "language": "python",
   "name": "python3"
  },
  "language_info": {
   "codemirror_mode": {
    "name": "ipython",
    "version": 3
   },
   "file_extension": ".py",
   "mimetype": "text/x-python",
   "name": "python",
   "nbconvert_exporter": "python",
   "pygments_lexer": "ipython3",
   "version": "3.9.12"
  },
  "toc": {
   "base_numbering": 1,
   "nav_menu": {},
   "number_sections": true,
   "sideBar": true,
   "skip_h1_title": false,
   "title_cell": "Table of Contents",
   "title_sidebar": "Contents",
   "toc_cell": false,
   "toc_position": {
    "height": "calc(100% - 180px)",
    "left": "10px",
    "top": "150px",
    "width": "165px"
   },
   "toc_section_display": true,
   "toc_window_display": false
  },
  "varInspector": {
   "cols": {
    "lenName": 16,
    "lenType": 16,
    "lenVar": 40
   },
   "kernels_config": {
    "python": {
     "delete_cmd_postfix": "",
     "delete_cmd_prefix": "del ",
     "library": "var_list.py",
     "varRefreshCmd": "print(var_dic_list())"
    },
    "r": {
     "delete_cmd_postfix": ") ",
     "delete_cmd_prefix": "rm(",
     "library": "var_list.r",
     "varRefreshCmd": "cat(var_dic_list()) "
    }
   },
   "types_to_exclude": [
    "module",
    "function",
    "builtin_function_or_method",
    "instance",
    "_Feature"
   ],
   "window_display": false
  }
 },
 "nbformat": 4,
 "nbformat_minor": 1
}
