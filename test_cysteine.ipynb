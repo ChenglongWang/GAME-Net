{
 "cells": [
  {
   "cell_type": "code",
   "execution_count": null,
   "metadata": {},
   "outputs": [],
   "source": [
    "from nets import SantyxNet, FlexibleNet\n",
    "from functions import get_graph_sample, get_mean_std_from_model\n",
    "from constants import NODE_FEATURES\n",
    "import torch\n",
    "from graph_tools import plotter\n",
    "\n",
    "# Load GNN pre-trained model \n",
    "MODEL_NAME = \"GMT_2heads\"\n",
    "MODEL_PATH = \"./Models/{}/\".format(MODEL_NAME)    \n",
    "model = SantyxNet(dim=128)\n",
    "model.load_state_dict(torch.load(\"{}GNN.pth\".format(MODEL_PATH)))\n",
    "model.eval()\n",
    "mean_tv, std_tv = get_mean_std_from_model(MODEL_PATH)"
   ]
  },
  {
   "cell_type": "code",
   "execution_count": null,
   "metadata": {},
   "outputs": [],
   "source": [
    "graph = get_graph_sample(\"./Tests/CO_NO/CO/pt-1011-b/\", \"./Tests/metal_surfaces/pt-0000/\")\n",
    "print(graph)"
   ]
  },
  {
   "cell_type": "code",
   "execution_count": null,
   "metadata": {},
   "outputs": [],
   "source": [
    "GNN = model(graph).item() * std_tv + mean_tv\n",
    "print(\"{}: GNN = {:.2f} eV    DFT = {:.2f} eV    abs. error = {:.2f} eV\".format(graph.formula.strip(), \n",
    "                                                      GNN, graph.y, abs(GNN - graph.y)))"
   ]
  },
  {
   "cell_type": "code",
   "execution_count": null,
   "metadata": {},
   "outputs": [],
   "source": [
    "import matplotlib.pyplot as plt\n",
    "plt.figure(figsize=(1,1))\n",
    "plotter(graph)"
   ]
  },
  {
   "cell_type": "code",
   "execution_count": null,
   "metadata": {},
   "outputs": [],
   "source": []
  }
 ],
 "metadata": {
  "kernelspec": {
   "display_name": "Python 3.9.12 ('GNN')",
   "language": "python",
   "name": "python3"
  },
  "language_info": {
   "codemirror_mode": {
    "name": "ipython",
    "version": 3
   },
   "file_extension": ".py",
   "mimetype": "text/x-python",
   "name": "python",
   "nbconvert_exporter": "python",
   "pygments_lexer": "ipython3",
   "version": "3.9.12"
  },
  "vscode": {
   "interpreter": {
    "hash": "929eb757b548c43686da14be07befd842a942a01eb9dc843387956885175000a"
   }
  }
 },
 "nbformat": 4,
 "nbformat_minor": 2
}
