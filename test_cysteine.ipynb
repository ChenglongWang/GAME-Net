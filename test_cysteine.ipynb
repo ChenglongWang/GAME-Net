{
 "cells": [
  {
   "cell_type": "code",
   "execution_count": 1,
   "metadata": {},
   "outputs": [],
   "source": [
    "from nets import SantyxNet\n",
    "from functions import get_graph_sample, get_mean_std_from_model\n",
    "from constants import NODE_FEATURES\n",
    "import torch\n"
   ]
  },
  {
   "cell_type": "code",
   "execution_count": 3,
   "metadata": {},
   "outputs": [],
   "source": [
    "graph = get_graph_sample(\"./Tests/Test_Jordi/Cys-Au\", \"./Tests/Test_Jordi/Au\")"
   ]
  },
  {
   "cell_type": "code",
   "execution_count": 4,
   "metadata": {},
   "outputs": [
    {
     "name": "stdout",
     "output_type": "stream",
     "text": [
      "Data(x=[16, 17], edge_index=[2, 30], y=-80.09660898000001, formula='C3H7N1O2S1-Au2')\n"
     ]
    }
   ],
   "source": [
    "print(graph)"
   ]
  },
  {
   "cell_type": "code",
   "execution_count": 5,
   "metadata": {},
   "outputs": [],
   "source": [
    "# Load GNN pre-trained model \n",
    "MODEL_NAME = \"SN1\"\n",
    "MODEL_PATH = \"./Models/{}/\".format(MODEL_NAME)    \n",
    "model = SantyxNet(dim=128, node_features=NODE_FEATURES)\n",
    "model.load_state_dict(torch.load(\"{}GNN.pth\".format(MODEL_PATH)))\n",
    "model.eval()\n",
    "mean_tv, std_tv = get_mean_std_from_model(MODEL_PATH)"
   ]
  },
  {
   "cell_type": "code",
   "execution_count": 6,
   "metadata": {},
   "outputs": [
    {
     "data": {
      "text/plain": [
       "tensor([-81.2583], grad_fn=<AddBackward0>)"
      ]
     },
     "execution_count": 6,
     "metadata": {},
     "output_type": "execute_result"
    }
   ],
   "source": [
    "model(graph) * std_tv + mean_tv"
   ]
  }
 ],
 "metadata": {
  "kernelspec": {
   "display_name": "Python 3.9.12 ('GNN')",
   "language": "python",
   "name": "python3"
  },
  "language_info": {
   "codemirror_mode": {
    "name": "ipython",
    "version": 3
   },
   "file_extension": ".py",
   "mimetype": "text/x-python",
   "name": "python",
   "nbconvert_exporter": "python",
   "pygments_lexer": "ipython3",
   "version": "3.9.12"
  },
  "orig_nbformat": 4,
  "vscode": {
   "interpreter": {
    "hash": "929eb757b548c43686da14be07befd842a942a01eb9dc843387956885175000a"
   }
  }
 },
 "nbformat": 4,
 "nbformat_minor": 2
}
