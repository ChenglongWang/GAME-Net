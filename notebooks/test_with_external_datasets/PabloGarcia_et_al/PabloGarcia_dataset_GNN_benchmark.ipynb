{
 "cells": [
  {
   "cell_type": "code",
   "execution_count": null,
   "metadata": {},
   "outputs": [],
   "source": [
    "import sys, os\n",
    "sys.path.insert(0, '../../../src')\n",
    "\n",
    "import pandas as pd\n",
    "import numpy as np\n",
    "import matplotlib.pyplot as plt\n",
    "from matplotlib.ticker import MaxNLocator\n",
    "from matplotlib.font_manager import FontProperties\n",
    "legend_font = FontProperties(family='Arial', style='normal', size=9)\n",
    "import seaborn as sns\n",
    "from sklearn.metrics import r2_score\n",
    "\n",
    "from gnn_eads.functions import contcar_to_graph\n",
    "from gnn_eads.graph_filters import single_fragment_filter\n",
    "from gnn_eads.nets import PreTrainedModel\n",
    "\n",
    "def get_fragment_energy(structure: str): \n",
    "    \"\"\"Calculate the fragment formation energy from closed-shell reference molecules.\"\"\"\n",
    "    e_CO2 = -22.96215586\n",
    "    e_H2O = -14.21877278\n",
    "    e_H2 = -6.76639487\n",
    "    # Count elements in the structure based on the structure name (ex. i123032)\n",
    "    n_C = int(structure[1])\n",
    "    try:\n",
    "        n_H = int(structure[2])\n",
    "    except ValueError:\n",
    "        if structure[2] == \"a\":\n",
    "            n_H = 10\n",
    "        if structure[2] == \"b\":\n",
    "            n_H = 11\n",
    "        if structure[2] == \"c\":\n",
    "            n_H = 12\n",
    "    n_O = int(structure[3])\n",
    "    # Calculate fragment formation energy\n",
    "    e_fragment = n_C * e_CO2 + (n_O - 2*n_C) * e_H2O + (4*n_C + n_H - 2*n_O) * e_H2 * 0.5\n",
    "    return e_fragment"
   ]
  },
  {
   "attachments": {},
   "cell_type": "markdown",
   "metadata": {},
   "source": [
    "## 1) Load GAME-Net"
   ]
  },
  {
   "cell_type": "code",
   "execution_count": null,
   "metadata": {},
   "outputs": [],
   "source": [
    "MODEL_NAME = \"GAME-Net\"\n",
    "MODEL_PATH = \"../../../models/{}\".format(MODEL_NAME)  \n",
    "model = PreTrainedModel(MODEL_PATH)\n",
    "print(model)"
   ]
  },
  {
   "attachments": {},
   "cell_type": "markdown",
   "metadata": {},
   "source": [
    "## 2) Retrieve data, convert them to graph and get predictions\n",
    "\n",
    "As we do not provide the dataset, please refer to the related paper. We already provide a .csv file containing the data generated in this step, go directly to section 4)."
   ]
  },
  {
   "cell_type": "code",
   "execution_count": null,
   "metadata": {},
   "outputs": [],
   "source": [
    "DATA_PATH = \"/home/smorandi/teklahome/benchmark_propylene_network\"  # Path to the dataset"
   ]
  },
  {
   "cell_type": "code",
   "execution_count": null,
   "metadata": {},
   "outputs": [],
   "source": [
    "# Read the data\n",
    "df = pd.read_csv(os.path.join(DATA_PATH, \"energies.dat\"), sep=\" \", header=None)\n",
    "# Define headers\n",
    "df.columns = [\"structure\", \"energy_DFT\"]\n",
    "# Delete data containing more than 8 characters in the structure name (filter out failed, warnings, etc.)\n",
    "df = df[df[\"structure\"].str.len() <= 8]\n",
    "# Subtruct energy of i000000\n",
    "df[\"reduced_energy_DFT\"] = df[\"energy_DFT\"] - df[df[\"structure\"] == \"i000000\"][\"energy_DFT\"].values[0]\n",
    "# Delete i000000\n",
    "df = df[df[\"structure\"] != \"i000000\"]\n",
    "# Get graph from contcars with for loop and try except, together with GNN prediction\n",
    "graphs, energies_GNN = [], []\n",
    "for row, system in df.iterrows():\n",
    "    try:\n",
    "        file_path = os.path.join(DATA_PATH, \"contcars\", \"{}.contcar\".format(df[\"structure\"][row]))\n",
    "        graphs.append(contcar_to_graph(file_path, \n",
    "                                       model.g_tol, \n",
    "                                       model.g_sf, \n",
    "                                       model.g_metal_2nn))\n",
    "        energies_GNN.append(model.evaluate(graphs[-1]))\n",
    "        print(\"Done with {}\".format(df[\"structure\"][row]))\n",
    "    except:\n",
    "        graphs.append(None)\n",
    "        energies_GNN.append(None)\n",
    "        print(\"Error in {}\".format(df[\"structure\"][row]))\n",
    "# Add graphs to dataframe\n",
    "df[\"graph\"] = graphs\n",
    "df[\"reduced_energy_GNN\"] = energies_GNN\n",
    "# Delete rows with None graphs\n",
    "df = df[df[\"graph\"].notna()]\n",
    "# Remove graphs with multiple adsorbates using single_fragment_filter\n",
    "df = df[df[\"graph\"].apply(single_fragment_filter)]\n",
    "# Get adsorbate energy from structure name\n",
    "df[\"adsorbate_energy\"] = df[\"structure\"].apply(get_fragment_energy)\n",
    "# Get DFT and GNN adsorption energies\n",
    "df[\"eads_DFT\"] = df[\"reduced_energy_DFT\"] - df[\"adsorbate_energy\"]\n",
    "df[\"eads_GNN\"] = df[\"reduced_energy_GNN\"] - df[\"adsorbate_energy\"]\n",
    "# Get error and absolute error\n",
    "df[\"error\"] = df[\"eads_DFT\"] - df[\"eads_GNN\"]\n",
    "df[\"abs_error\"] = np.abs(df[\"eads_DFT\"] - df[\"eads_GNN\"])\n",
    "# Get number of C atoms from the structure name\n",
    "df[\"C\"] = df[\"structure\"].str[1].astype(int)\n",
    "# Get statistics \n",
    "mae = df[\"abs_error\"].mean()\n",
    "rmse = np.sqrt((df[\"error\"]**2).mean())\n",
    "n = len(df)\n",
    "r2 = r2_score(df[\"eads_DFT\"], df[\"eads_GNN\"])\n",
    "mean = np.mean(df[\"error\"])\n",
    "median = np.median(df[\"error\"])\n",
    "std = np.std(df[\"error\"])\n",
    "print(\"MAE: {:.3f} eV\".format(mae))\n",
    "print(\"RMSE: {:.3f} eV\".format(rmse))\n",
    "print(\"R2 score: {:.3f}\".format(r2))\n",
    "print(\"Mean: {:.3f} eV\".format(mean))\n",
    "print(\"Median: {:.3f} eV\".format(median))\n",
    "print(\"Std: {:.3f} eV\".format(std))"
   ]
  },
  {
   "attachments": {},
   "cell_type": "markdown",
   "metadata": {},
   "source": [
    "## 3) Save dataframe to .csv"
   ]
  },
  {
   "cell_type": "code",
   "execution_count": null,
   "metadata": {},
   "outputs": [],
   "source": [
    "df.to_csv(\"benchmark_propylene_network.csv\")"
   ]
  },
  {
   "attachments": {},
   "cell_type": "markdown",
   "metadata": {},
   "source": [
    "## 4) Load dataframe from .csv"
   ]
  },
  {
   "cell_type": "code",
   "execution_count": null,
   "metadata": {},
   "outputs": [],
   "source": [
    "df = pd.read_csv(\"benchmark_propylene_network.csv\")"
   ]
  },
  {
   "cell_type": "code",
   "execution_count": null,
   "metadata": {},
   "outputs": [],
   "source": [
    "# Get statistics \n",
    "mae = df[\"abs_error\"].mean()\n",
    "rmse = np.sqrt((df[\"error\"]**2).mean())\n",
    "n = len(df)\n",
    "r2 = r2_score(df[\"eads_DFT\"], df[\"eads_GNN\"])\n",
    "mean = np.mean(df[\"error\"])\n",
    "median = np.median(df[\"error\"])\n",
    "std = np.std(df[\"error\"])\n",
    "\n",
    "print(\"MAE: {:.3f} eV\".format(mae))\n",
    "print(\"RMSE: {:.3f} eV\".format(rmse))\n",
    "print(\"R2 score: {:.3f}\".format(r2))\n",
    "print(\"Mean: {:.3f} eV\".format(mean))\n",
    "print(\"Median: {:.3f} eV\".format(median))\n",
    "print(\"Std: {:.3f} eV\".format(std))"
   ]
  },
  {
   "attachments": {},
   "cell_type": "markdown",
   "metadata": {},
   "source": [
    "# Plot"
   ]
  },
  {
   "cell_type": "code",
   "execution_count": null,
   "metadata": {},
   "outputs": [],
   "source": [
    "# subplot with first two figures\n",
    "fig, ax = plt.subplots(1, 2, figsize=(18/2.54,9/2.54), dpi=300)\n",
    "sns.scatterplot(x=\"eads_DFT\", y=\"eads_GNN\", hue=\"C\", data=df, ax=ax[0], palette=\"viridis\", ec=\"k\", s=20)\n",
    "params = {'mathtext.default': 'regular'}          \n",
    "plt.rcParams.update(params)\n",
    "ax[0].set_ylabel('$\\mathit{E}_{ads}^{GNN}$ / eV')\n",
    "ax[0].set_xlabel('$\\mathit{E}_{ads}^{DFT}$ / eV')\n",
    "ax[0].set_title(\"Parity plot\")\n",
    "l = 8\n",
    "ax[0].set_xlim(-l, 2)\n",
    "ax[0].set_ylim(-l, 2)\n",
    "ax[0].plot([-l, l], [-l, l], c=\"k\", zorder=-1)\n",
    "ax[0].xaxis.set_major_locator(MaxNLocator(5))\n",
    "ax[0].yaxis.set_major_locator(MaxNLocator(5))\n",
    "plt.tight_layout()\n",
    "text = \"MAE = {:.2f} eV\\nRMSE = {:.2f} eV\\n$\\mathit{{R}}^{{2}}$ = {:.2f}\\nN = {}\".format(mae, rmse, r2, n)\n",
    "props = dict(boxstyle='round', facecolor='white', edgecolor='black')\n",
    "ax[0].text(0.05, 0.95, text, transform=ax[0].transAxes, fontsize=9,\n",
    "        verticalalignment='top', bbox=props)\n",
    "# Move legend bottom right\n",
    "handles, labels = ax[0].get_legend_handles_labels()\n",
    "ax[0].legend(handles, labels, loc=\"lower right\", title=\"C\", fontsize=9)\n",
    "\n",
    "\n",
    "sns.kdeplot(df[\"error\"], fill=True, ax=ax[1], alpha=0.5)\n",
    "ax[1].spines['right'].set_linewidth(0.5)\n",
    "ax[1].spines['right'].set_color('black')\n",
    "ax[1].spines['top'].set_linewidth(0.5)\n",
    "ax[1].spines['top'].set_color('black')\n",
    "ax[1].spines['left'].set_linewidth(0.5)\n",
    "ax[1].spines['left'].set_color('black')\n",
    "ax[1].spines['bottom'].set_linewidth(0.5)\n",
    "ax[1].spines['bottom'].set_color('black')\n",
    "plt.tick_params(\"both\")\n",
    "plt.xlabel(\"$\\mathit{E}_{ads}^{DFT} - \\mathit{E}_{ads}^{GNN}$ / eV\")  \n",
    "plt.ylabel(\"Density\")\n",
    "plt.title(\"Error distribution\")\n",
    "plt.xlim(-2.5, 2.5)\n",
    "ylim = 0.75\n",
    "plt.ylim(0, ylim)\n",
    "plt.vlines(np.mean(df[\"error\"]), 0, ylim, colors='r', linestyles='dashed', label='mean')\n",
    "plt.vlines(np.median(df[\"error\"]), 0, ylim, colors='g', linestyles='dashed', label='median')\n",
    "plt.legend(fontsize=9)\n",
    "plt.text(0.05, 0.95, \"mean = {:.2f}\\nmedian = {:.2f}\\nstd = {:.2f}\".format(mean, median, std),\n",
    " transform=plt.gca().transAxes, va='top', bbox=dict(boxstyle='round', facecolor='white', alpha=1.0, edgecolor='black'), fontsize=9)\n",
    "plt.tight_layout()"
   ]
  }
 ],
 "metadata": {
  "language_info": {
   "name": "python"
  }
 },
 "nbformat": 4,
 "nbformat_minor": 2
}
