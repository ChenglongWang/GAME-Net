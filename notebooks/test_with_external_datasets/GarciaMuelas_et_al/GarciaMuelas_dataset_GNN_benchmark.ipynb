{
 "cells": [
  {
   "attachments": {},
   "cell_type": "markdown",
   "metadata": {},
   "source": [
    "# GNN benchmark: PCA dataset\n",
    "\n",
    "Here, we test GAME-Net on the dataset from the paper of García-Muelas and Núria López: \"Statistical learning goes beyond the d-band model providing the thermochemistry of adsorbates on transition metals\", 2019. This DFT dataset contains C1-C2 fragments adsorbed on 12 metals surfaces."
   ]
  },
  {
   "cell_type": "code",
   "execution_count": null,
   "metadata": {},
   "outputs": [],
   "source": [
    "import sys, os\n",
    "sys.path.insert(0, '../../../src')\n",
    "from subprocess import PIPE, Popen\n",
    "\n",
    "import pandas as pd\n",
    "import numpy as np\n",
    "import cycler\n",
    "import matplotlib.pyplot as plt\n",
    "from matplotlib.ticker import MaxNLocator\n",
    "from matplotlib.font_manager import FontProperties\n",
    "legend_font = FontProperties(family='Arial', style='normal', size=9)\n",
    "import seaborn as sns\n",
    "from sklearn.metrics import r2_score\n",
    "\n",
    "from gnn_eads.functions import structure_to_graph\n",
    "from gnn_eads.nets import PreTrainedModel\n",
    "\n",
    "def get_fragment_energy(structure: str):\n",
    "    \"\"\"Calculate fragment energy from closed shell structures.\"\"\" \n",
    "    e_H2O = -14.21877278\n",
    "    e_H2 = -6.76639487\n",
    "    e_CH4 = -24.05681734\n",
    "    # Count elemens in the structure\n",
    "    n_C = int(structure[0])\n",
    "    n_O = int(structure[2])\n",
    "    n_H = int(structure[1])\n",
    "    # Calculate adsorbate energy\n",
    "    e_fragment = n_C * e_CH4 + (n_O) * e_H2O + (0.5*n_H - 2*n_C - n_O) * e_H2\n",
    "    return e_fragment"
   ]
  },
  {
   "attachments": {},
   "cell_type": "markdown",
   "metadata": {},
   "source": [
    "## 1) Load GAME-Net"
   ]
  },
  {
   "cell_type": "code",
   "execution_count": null,
   "metadata": {},
   "outputs": [],
   "source": [
    "MODEL_NAME = \"GAME-Net\"\n",
    "MODEL_PATH = \"../../../models/{}\".format(MODEL_NAME)  \n",
    "model = PreTrainedModel(MODEL_PATH)\n",
    "print(model)"
   ]
  },
  {
   "attachments": {},
   "cell_type": "markdown",
   "metadata": {},
   "source": [
    "## 2) Extract data\n",
    "\n",
    "As we do not provide the data, please refer to the paper to obtain them. The data generated in this step are provided as .csv file, please go directly to section 4)."
   ]
  },
  {
   "cell_type": "code",
   "execution_count": null,
   "metadata": {},
   "outputs": [],
   "source": [
    "DATA_PATH = \"/home/smorandi/teklahome/benchmark_pca/sol\"  # Change this to your path"
   ]
  },
  {
   "cell_type": "code",
   "execution_count": null,
   "metadata": {},
   "outputs": [],
   "source": [
    "system, metal, fragment, DFT_energy, DFT_reduced_energy, graph, GNN_reduced_energy, fragment_energy, DFT_eads, GNN_eads = [], [], [], [], [], [], [], [], [], []\n",
    "error, abs_error = [], []\n",
    "for filename in os.listdir(DATA_PATH):\n",
    "    if len(filename) == 7 and \"0000\" not in filename:\n",
    "        system.append(filename)\n",
    "        metal.append(filename.split(\"-\")[0])\n",
    "        fragment.append(filename.split(\"-\")[1])\n",
    "        # Get DFT energies\n",
    "        p1 = Popen([\"grep\", \"energy  w\", \"{}/{}/OUTCAR\".format(DATA_PATH, filename)], stdout=PIPE)\n",
    "        p2 = Popen([\"tail\", \"-1\"], stdin=p1.stdout, stdout=PIPE)\n",
    "        DFT_energy.append(float(p2.communicate()[0].split()[-1]))\n",
    "        p1 = Popen([\"grep\", \"energy  w\", \"{}/{}/OUTCAR\".format(DATA_PATH, metal[-1]+\"-0000\")], stdout=PIPE)\n",
    "        p2 = Popen([\"tail\", \"-1\"], stdin=p1.stdout, stdout=PIPE)\n",
    "        DFT_reduced_energy.append(DFT_energy[-1] - float(p2.communicate()[0].split()[-1]))\n",
    "        # Get graph and related energy\n",
    "        graph.append(structure_to_graph(\"{}/{}/CONTCAR\".format(DATA_PATH, filename), \n",
    "                                      model.g_tol, \n",
    "                                      model.g_sf, \n",
    "                                      model.g_metal_2nn))\n",
    "        GNN_reduced_energy.append(model.evaluate(graph[-1]))\n",
    "        fragment_energy.append(get_fragment_energy(fragment[-1]))\n",
    "        DFT_eads.append(DFT_reduced_energy[-1] - fragment_energy[-1])\n",
    "        GNN_eads.append(GNN_reduced_energy[-1] - fragment_energy[-1])\n",
    "        error.append(DFT_eads[-1]-GNN_eads[-1])\n",
    "        abs_error.append(abs(error[-1]))\n",
    "        print(filename + \" converted\")\n",
    "\n",
    "df = pd.DataFrame({\"system\": system, \n",
    "                   \"metal\": metal, \n",
    "                   \"fragment\": fragment, \n",
    "                   \"DFT_energy\": DFT_energy, \n",
    "                   \"DFT_reduced_energy\": DFT_reduced_energy, \n",
    "                   \"GNN_reduced_energy\": GNN_reduced_energy, \n",
    "                   \"fragment_energy\": fragment_energy, \n",
    "                   \"DFT_eads\": DFT_eads, \n",
    "                   \"GNN_eads\": GNN_eads, \n",
    "                   \"error\": error, \n",
    "                   \"abs_error\": abs_error})\n",
    "        "
   ]
  },
  {
   "attachments": {},
   "cell_type": "markdown",
   "metadata": {},
   "source": [
    "## 3) Save dataframe to .csv"
   ]
  },
  {
   "cell_type": "code",
   "execution_count": null,
   "metadata": {},
   "outputs": [],
   "source": [
    "df.to_csv(\"benchmark_pca.csv\")"
   ]
  },
  {
   "attachments": {},
   "cell_type": "markdown",
   "metadata": {},
   "source": [
    "## 4) Load dataframe from .csv"
   ]
  },
  {
   "cell_type": "code",
   "execution_count": null,
   "metadata": {},
   "outputs": [],
   "source": [
    "df = pd.read_csv(\"benchmark_pca.csv\")\n",
    "# Remove data with metal co (only one point)\n",
    "df = df[df[\"metal\"] != \"co\"]\n",
    "df.head()"
   ]
  },
  {
   "cell_type": "code",
   "execution_count": null,
   "metadata": {},
   "outputs": [],
   "source": [
    "# print statistics\n",
    "mae = df[\"abs_error\"].mean()\n",
    "rmse = np.sqrt((df[\"error\"]**2).mean())\n",
    "r2 = r2_score(df[\"DFT_eads\"], df[\"GNN_eads\"])\n",
    "mean = df[\"error\"].mean()\n",
    "median = df[\"error\"].median()\n",
    "std = df[\"error\"].std()\n",
    "n = len(df[\"error\"])\n",
    "\n",
    "print(\"Mean: {:.2f} eV\".format(mean))\n",
    "print(\"Median: {:.2f} eV\".format(median))\n",
    "print(\"Std: {:.2f} eV\".format(std))\n",
    "print(\"MAE: {:.2f} eV\".format(mae))\n",
    "print(\"RMSE: {:.2f} eV\".format(rmse))\n",
    "print(\"R2: {:.2f}\".format(r2))\n",
    "print(\"N: {}\".format(n))"
   ]
  },
  {
   "attachments": {},
   "cell_type": "markdown",
   "metadata": {},
   "source": [
    "# Plot"
   ]
  },
  {
   "cell_type": "code",
   "execution_count": null,
   "metadata": {},
   "outputs": [],
   "source": [
    "# subplot with first two figures\n",
    "fig, ax = plt.subplots(1, 2, figsize=(18/2.54,9/2.54), dpi=300)\n",
    "sns.color_palette(\"hls\", 12)\n",
    "sns.scatterplot(x=\"DFT_eads\", y=\"GNN_eads\", hue=\"metal\", data=df, ax=ax[0], ec=\"k\", s=15)\n",
    "params = {'mathtext.default': 'regular'}          \n",
    "plt.rcParams.update(params)\n",
    "ax[0].set_ylabel('$\\mathit{E}_{ads}^{GNN}$ / eV')\n",
    "ax[0].set_xlabel('$\\mathit{E}_{ads}^{DFT}$ / eV')\n",
    "ax[0].set_title(\"Parity plot\")\n",
    "l = 7\n",
    "ax[0].set_xlim(-l, l)\n",
    "ax[0].set_ylim(-l, l)\n",
    "ax[0].plot([-l, l], [-l, l], c=\"k\", zorder=-1)\n",
    "ax[0].xaxis.set_major_locator(MaxNLocator(5))\n",
    "ax[0].yaxis.set_major_locator(MaxNLocator(5))\n",
    "plt.tight_layout()\n",
    "text = \"MAE = {:.2f} eV\\nRMSE = {:.2f} eV\\n$\\mathit{{R}}^{{2}}$ = {:.2f}\\nN = {}\".format(mae, rmse, r2, n)\n",
    "props = dict(boxstyle='round', facecolor='white', edgecolor='black')\n",
    "ax[0].text(0.05, 0.95, text, transform=ax[0].transAxes, fontsize=9,\n",
    "        verticalalignment='top', bbox=props)\n",
    "handles, labels = ax[0].get_legend_handles_labels()\n",
    "ax[0].legend(handles, labels, loc=\"lower left\", title=\"\", fontsize=9, ncol=2, columnspacing=0.4, handletextpad=0.2, borderpad=0.35, framealpha=1)\n",
    "# Capitalize legend labels\n",
    "for text in ax[0].get_legend().get_texts():\n",
    "    text.set_text(text.get_text().capitalize())\n",
    "# Reduce spacing between the two columns of the legend\n",
    "ax[0].get_legend().get_frame().set_linewidth(0.5)\n",
    "ax[0].get_legend().get_frame().set_edgecolor(\"black\")\n",
    "\n",
    "\n",
    "sns.kdeplot(df[\"error\"], fill=True, ax=ax[1], alpha=0.5)\n",
    "ax[1].spines['right'].set_linewidth(1.0)\n",
    "ax[1].spines['right'].set_color('black')\n",
    "ax[1].spines['top'].set_linewidth(1.0)\n",
    "ax[1].spines['top'].set_color('black')\n",
    "ax[1].spines['left'].set_linewidth(1.0)\n",
    "ax[1].spines['left'].set_color('black')\n",
    "ax[1].spines['bottom'].set_linewidth(1.0)\n",
    "ax[1].spines['bottom'].set_color('black')\n",
    "plt.tick_params(\"both\")\n",
    "plt.xlabel(\"$\\mathit{E}_{ads}^{DFT} - \\mathit{E}_{ads}^{GNN}$ / eV\")  \n",
    "plt.ylabel(\"Density\")\n",
    "plt.title(\"Error distribution\")\n",
    "plt.xlim(-2.5, 4.5)\n",
    "ylim = 0.75\n",
    "plt.ylim(0, ylim)\n",
    "plt.vlines(np.mean(df[\"error\"]), 0, ylim, colors='r', linestyles='dashed', label='mean')\n",
    "plt.vlines(np.median(df[\"error\"]), 0, ylim, colors='g', linestyles='dashed', label='median')\n",
    "plt.legend(fontsize=9)\n",
    "plt.text(0.03, 0.95, \"mean = {:.2f}\\nmedian = {:.2f}\\nstd = {:.2f}\".format(mean, median, std),\n",
    " transform=plt.gca().transAxes, va='top', bbox=dict(boxstyle='round', facecolor='white', alpha=1.0, edgecolor='black'), fontsize=9)\n",
    "plt.tight_layout()"
   ]
  }
 ],
 "metadata": {
  "language_info": {
   "name": "python"
  }
 },
 "nbformat": 4,
 "nbformat_minor": 2
}
