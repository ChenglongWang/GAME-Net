{
 "cells": [
  {
   "attachments": {},
   "cell_type": "markdown",
   "metadata": {},
   "source": [
    "# Benchmark: GAME-Net vs Andersen et al. dataset (fragments) \n",
    "\n",
    "Here, we test GAME-Net performance on the dataset related to the work of Andersen et al. (2019), which considers open-shell fragments adsorbed on metal and alloy surfaces.\n",
    "\n",
    "The alloys surfaces have been neglected as they are not the target of GAME-Net."
   ]
  },
  {
   "cell_type": "code",
   "execution_count": null,
   "metadata": {},
   "outputs": [],
   "source": [
    "import sys, os\n",
    "sys.path.insert(0, '../../../src')\n",
    "import ase.io.trajectory\n",
    "\n",
    "import pandas as pd\n",
    "import numpy as np\n",
    "import matplotlib.pyplot as plt\n",
    "from matplotlib.ticker import MaxNLocator\n",
    "from matplotlib.font_manager import FontProperties\n",
    "legend_font = FontProperties(family='Arial', style='normal', size=9)\n",
    "import seaborn as sns\n",
    "from sklearn.metrics import r2_score\n",
    "\n",
    "from gnn_eads.functions import structure_to_graph\n",
    "from gnn_eads.nets import PreTrainedModel\n",
    "\n",
    "def get_fragment_energy(structure: str):\n",
    "    \"\"\"Calculate fragment energy (in eV) with same reference closed-shell molecules\n",
    "       used by Andersen et al.\"\"\"\n",
    "    e_H2O = -14.21877278\n",
    "    e_H2 = -6.76639487\n",
    "    e_CH4 = -24.05681734\n",
    "    structure = structure.split(\"_\")[0]\n",
    "    # Count elements in the structure\n",
    "    n_C = structure.count(\"C\")\n",
    "    n_O = structure.count(\"O\")\n",
    "    n_H = structure.count(\"H\")\n",
    "    # Calculate adsorbate energy\n",
    "    e_fragment = n_C * e_CH4 + (n_O) * e_H2O + (0.5*n_H - 2*n_C - n_O) * e_H2\n",
    "    return e_fragment"
   ]
  },
  {
   "attachments": {},
   "cell_type": "markdown",
   "metadata": {},
   "source": [
    "## 1) Load GAME-Net model"
   ]
  },
  {
   "cell_type": "code",
   "execution_count": null,
   "metadata": {},
   "outputs": [],
   "source": [
    "MODEL_NAME = \"GAME-Net\"\n",
    "MODEL_PATH = \"../../../models/{}\".format(MODEL_NAME)  \n",
    "model = PreTrainedModel(MODEL_PATH)\n",
    "print(model)"
   ]
  },
  {
   "attachments": {},
   "cell_type": "markdown",
   "metadata": {},
   "source": [
    "## 2) Retrieve data, convert them in graph format and get predictions\n",
    "\n",
    "To download the data, please refer to the paper related to the dataset. Go directly to section 4)"
   ]
  },
  {
   "cell_type": "code",
   "execution_count": null,
   "metadata": {},
   "outputs": [],
   "source": [
    "YOUR_PATH = \"/home/smorandi/Desktop/Andersen_dataset\"  # change this to your path to the dataset\n",
    "DATA_PATH = \"{}/structures/\".format(YOUR_PATH)\n",
    "EADS_FILE_PATH = \"{}/data.txt\".format(YOUR_PATH)\n",
    "print(\"Number of structures: {}\".format(len(os.listdir(DATA_PATH))))"
   ]
  },
  {
   "cell_type": "code",
   "execution_count": null,
   "metadata": {},
   "outputs": [],
   "source": [
    "# get the list of structures\n",
    "structures = os.listdir(DATA_PATH)\n",
    "# Print total number of structures\n",
    "print(\"Number of structures: {}\".format(len(structures)))\n",
    "# Filter out all the structures that are not .traj files and that have more than one uppercase letter in the string after the first underscore\n",
    "structures = [s for s in structures if s[-5:] == \".traj\" and len([c for c in s.split(\"_\")[1] if c.isupper()]) == 1]\n",
    "print(\"Number of structures after filtering out alloys: {}\".format(len(structures)))"
   ]
  },
  {
   "cell_type": "code",
   "execution_count": null,
   "metadata": {},
   "outputs": [],
   "source": [
    "# For each structure, get the geometry with ASE and convert it to a graph\n",
    "graphs, Eads_DFT, fragment, E_fragment, E_GNN, Eads_GNN, metal = [], [], [], [], [], [], []\n",
    "data = pd.read_csv(EADS_FILE_PATH, sep=\"    \")\n",
    "for s in structures:\n",
    "    # get the geometry from the .traj file, convert to CONTCAR format and convert to graph\n",
    "    geometry = ase.io.trajectory.Trajectory(DATA_PATH + s)[0]\n",
    "    geometry.write(\"CONTCAR\")\n",
    "    graph = structure_to_graph(\"./CONTCAR\", model.g_tol, model.g_sf, model.g_metal_2nn)\n",
    "    graphs.append(graph)\n",
    "    # get the adsorption energy from the data file\n",
    "    Eads_DFT.append(data[data[\"Samples\"] == s[:-5]][\"E_ads_eV\"].values[0])\n",
    "    # get the fragment name and energy\n",
    "    fragment.append(s.split(\"_\")[0])\n",
    "    E_fragment.append(get_fragment_energy(s))\n",
    "    # get the metal name\n",
    "    metal.append(s.split(\"_\")[1])\n",
    "    # get the adsorption energy from the GNN\n",
    "    E_GNN.append(model.evaluate(graph))\n",
    "    Eads_GNN.append(E_GNN[-1] - E_fragment[-1])\n",
    "    print(\"Converted structure {} to graph\".format(s))\n",
    "os.remove(\"CONTCAR\")\n",
    "# Create a dataframe with structure name, fragment name, DFT adsorption energy, graph, GNN energy and adsorption energy\n",
    "df = pd.DataFrame({\"Structure\": structures, \n",
    "                   \"Fragment\": fragment,\n",
    "                   \"Metal\": metal, \n",
    "                   \"Eads_DFT\": Eads_DFT, \n",
    "                   \"Graph\": graphs, \n",
    "                   \"E_GNN\": E_GNN, \n",
    "                   \"Eads_GNN\": Eads_GNN, \n",
    "                   \"E_fragment\": E_fragment})\n",
    "\n",
    "df[\"error\"] = df[\"Eads_DFT\"] - df[\"Eads_GNN\"]\n",
    "df[\"error_abs\"] = np.abs(df[\"error\"])\n",
    "\n",
    "# generate statistics\n",
    "mae = df[\"error_abs\"].mean()\n",
    "rmse = np.sqrt((df[\"error\"]**2).mean())\n",
    "r2 = r2_score(df[\"Eads_DFT\"], df[\"Eads_GNN\"])\n",
    "n = len(df)\n",
    "mean = df[\"error\"].mean()\n",
    "std = df[\"error\"].std()\n",
    "median = df[\"error\"].median()\n",
    "\n",
    "print(\"Mean absolute error: {:.3f} eV\".format(mae))\n",
    "print(\"Root mean squared error: {:.3f} eV\".format(rmse))\n",
    "print(\"R2 score: {:.3f}\".format(r2))\n",
    "print(\"Number of structures: {}\".format(n))"
   ]
  },
  {
   "attachments": {},
   "cell_type": "markdown",
   "metadata": {},
   "source": [
    "## 3) Save dataframe to .csv"
   ]
  },
  {
   "cell_type": "code",
   "execution_count": null,
   "metadata": {},
   "outputs": [],
   "source": [
    "df.to_csv(\"Andersen_dataset_predictions.csv\")"
   ]
  },
  {
   "attachments": {},
   "cell_type": "markdown",
   "metadata": {},
   "source": [
    "## 4) Load .csv to dataframe"
   ]
  },
  {
   "cell_type": "code",
   "execution_count": null,
   "metadata": {},
   "outputs": [],
   "source": [
    "df = pd.read_csv(\"Andersen_dataset_predictions.csv\")\n",
    "df.head()"
   ]
  },
  {
   "cell_type": "code",
   "execution_count": null,
   "metadata": {},
   "outputs": [],
   "source": [
    "# generate statistics\n",
    "mae = df[\"error_abs\"].mean()\n",
    "rmse = np.sqrt((df[\"error\"]**2).mean())\n",
    "r2 = r2_score(df[\"Eads_DFT\"], df[\"Eads_GNN\"])\n",
    "n = len(df)\n",
    "mean = df[\"error\"].mean()\n",
    "std = df[\"error\"].std()\n",
    "median = df[\"error\"].median()\n",
    "\n",
    "print(\"Mean absolute error: {:.3f} eV\".format(mae))\n",
    "print(\"Root mean squared error: {:.3f} eV\".format(rmse))\n",
    "print(\"R2 score: {:.3f}\".format(r2))\n",
    "print(\"Number of structures: {}\".format(n))"
   ]
  },
  {
   "attachments": {},
   "cell_type": "markdown",
   "metadata": {},
   "source": [
    "# Plot"
   ]
  },
  {
   "cell_type": "code",
   "execution_count": null,
   "metadata": {},
   "outputs": [],
   "source": [
    "# subplot with first two figures\n",
    "fig, ax = plt.subplots(1, 2, figsize=(18/2.54,9/2.54), dpi=300)       \n",
    "sns.scatterplot(x=\"Eads_DFT\", y=\"Eads_GNN\", hue=\"Fragment\", data=df, ax=ax[0], palette=\"viridis\", ec=\"k\", s=20)\n",
    "params = {'mathtext.default': 'regular'}          \n",
    "plt.rcParams.update(params)\n",
    "ax[0].set_ylabel('$\\mathit{E}_{ads}^{GNN}$ / eV')\n",
    "ax[0].set_xlabel('$\\mathit{E}_{ads}^{DFT}$ / eV')\n",
    "ax[0].set_title(\"Parity plot\")\n",
    "l = 4.5\n",
    "ax[0].set_xlim(-l, l)\n",
    "ax[0].set_ylim(-l, l)\n",
    "ax[0].plot([-l, l], [-l, l], c=\"k\", zorder=-1)\n",
    "ax[0].xaxis.set_major_locator(MaxNLocator(5))\n",
    "ax[0].yaxis.set_major_locator(MaxNLocator(5))\n",
    "plt.tight_layout()\n",
    "text = \"MAE = {:.2f} eV\\nRMSE = {:.2f} eV\\n$\\mathit{{R}}^{{2}}$ = {:.2f}\\nN = {}\".format(mae, rmse, r2, n)\n",
    "props = dict(boxstyle='round', facecolor='white', edgecolor='black')\n",
    "ax[0].text(0.05, 0.95, text, transform=ax[0].transAxes, fontsize=9,\n",
    "        verticalalignment='top', bbox=props)\n",
    "ax[0].legend(title=\"\", fontsize=9, loc='lower left', bbox_to_anchor=(0.02, 0.02), framealpha=1)\n",
    "\n",
    "sns.kdeplot(df[\"error\"], fill=True, ax=ax[1], alpha=0.5)\n",
    "ax[1].spines['right'].set_linewidth(1.0)\n",
    "ax[1].spines['right'].set_color('black')\n",
    "ax[1].spines['top'].set_linewidth(1.0)\n",
    "ax[1].spines['top'].set_color('black')\n",
    "ax[1].spines['left'].set_linewidth(1.0)\n",
    "ax[1].spines['left'].set_color('black')\n",
    "ax[1].spines['bottom'].set_linewidth(1.0)\n",
    "ax[1].spines['bottom'].set_color('black')\n",
    "plt.tick_params(\"both\")\n",
    "plt.xlabel(\"$\\mathit{E}_{ads}^{DFT} - \\mathit{E}_{ads}^{GNN}$ / eV\")  \n",
    "plt.ylabel(\"Density\")\n",
    "plt.title(\"Error distribution\")\n",
    "plt.xlim(-2.5, 6.5)\n",
    "ylim = 0.5\n",
    "plt.ylim(0, ylim)\n",
    "plt.vlines(np.mean(df[\"error\"]), 0, ylim, colors='r', linestyles='dashed', label='mean')\n",
    "plt.vlines(np.median(df[\"error\"]), 0, ylim, colors='g', linestyles='dashed', label='median')\n",
    "plt.legend(fontsize=9)\n",
    "plt.text(0.035, 0.95, \"mean = {:.2f}\\nmedian = {:.2f}\\nstd = {:.2f}\".format(mean, median, std),\n",
    " transform=plt.gca().transAxes, va='top', bbox=dict(boxstyle='round', facecolor='white', alpha=1.0, edgecolor='black'), fontsize=9)\n",
    "plt.tight_layout()\n"
   ]
  }
 ],
 "metadata": {
  "language_info": {
   "name": "python"
  }
 },
 "nbformat": 4,
 "nbformat_minor": 2
}
