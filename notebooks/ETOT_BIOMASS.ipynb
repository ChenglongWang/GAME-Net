{
 "cells": [
  {
   "cell_type": "code",
   "execution_count": null,
   "id": "fd5e8745",
   "metadata": {},
   "outputs": [],
   "source": [
    "\n",
    "import sys, os\n",
    "sys.path.insert(0, '../src')\n",
    "sys.path.insert(0, '../src/gnn_eads')\n",
    "from pymatgen.io.vasp import Outcar\n",
    "from pyRDTP.geomio import file_to_mol\n",
    "from torch_geometric.loader import DataLoader\n",
    "from torch_geometric.data import Data\n",
    "import torch\n",
    "import matplotlib.pyplot as plt\n",
    "import numpy as np\n",
    "\n",
    "from gnn_eads.graph_tools import plotter\n",
    "from gnn_eads.functions import contcar_to_graph\n",
    "from gnn_eads.nets import PreTrainedModel\n",
    "\n",
    "MODEL_NAME = \"best_model\"\n",
    "MODEL_PATH = \"../models/{}\".format(MODEL_NAME)  # Name of the model (must be present in the \"Models\" directory)\n",
    "model = PreTrainedModel(MODEL_PATH)\n",
    "\n",
    "ni_energy = Outcar(\"../data/BM_dataset/Biomass/ni-0000/OUTCAR\").final_energy\n",
    "ru_energy = Outcar(\"../data/BM_dataset/Biomass/ru-0000/OUTCAR\").final_energy\n",
    "sur = [\"ni\", \"ru\"]\n",
    "pu = [\"mol1\", \"mol2\", \"mol3\", \"mol4\", \"mol5\"]\n",
    "sur_energy = {\"ni\": ni_energy, \"ru\": ru_energy}\n",
    "error = np.zeros((len(pu)*(1 + len(sur)),1))\n",
    "error_per_atom = np.zeros((len(pu)*(1 + len(sur)),1))\n",
    "abs_error = np.zeros((len(pu)*(1 + len(sur)),1))\n",
    "counter = 0\n",
    "for metal in sur:\n",
    "    for molecule in pu:\n",
    "        calc = \"{}-{}\".format(metal, molecule)\n",
    "        system = \"../data/BM_dataset/Biomass/{}/CONTCAR\".format(calc)\n",
    "        s = Outcar(\"../data/BM_dataset/Biomass/{}/OUTCAR\".format(calc)).final_energy\n",
    "        graph = contcar_to_graph(system, model.g_tol, model.g_sf, model.g_metal_2nn)\n",
    "        gnn_energy = model.evaluate(graph)\n",
    "        dft_energy = s - sur_energy[metal]\n",
    "        absolute_error = abs(gnn_energy - dft_energy)\n",
    "        print(\"-----------------------------------\")\n",
    "        plotter(graph)\n",
    "        plt.show()\n",
    "        print(\"System: {}-{}\".format(metal, molecule))\n",
    "        print(\"GNN energy = {:.2f} eV \".format(gnn_energy))\n",
    "        print(\"VASP energy = {} eV\".format(dft_energy))\n",
    "        print(\"Abs. Error = {:.2f} eV\".format(absolute_error))\n",
    "        error[counter] = dft_energy - gnn_energy\n",
    "        abs_error[counter] = absolute_error\n",
    "        error_per_atom[counter] = abs_error[counter] / graph.num_nodes\n",
    "        counter += 1\n",
    "for molecule in pu:  # gas molecules\n",
    "    system = \"../data/BM_dataset/Biomass/{}/CONTCAR\".format(molecule)\n",
    "    s = Outcar(\"../data/BM_dataset/Biomass/{}/OUTCAR\".format(molecule)).final_energy\n",
    "    graph = contcar_to_graph(system, model.g_tol, model.g_sf, model.g_metal_2nn)\n",
    "    gnn_energy = model.evaluate(graph)\n",
    "    dft_energy = s\n",
    "    absolute_error = abs(gnn_energy - dft_energy)\n",
    "    print(\"-----------------------------------\")\n",
    "    plotter(graph)\n",
    "    plt.show()\n",
    "    print(\"System: {}\".format(molecule))\n",
    "    print(\"GNN energy = {:.2f} eV \".format(gnn_energy))\n",
    "    print(\"VASP energy = {} eV\".format(s))\n",
    "    print(\"Abs. Error = {:.2f} eV\".format(absolute_error))\n",
    "    error[counter] = dft_energy - gnn_energy\n",
    "    abs_error[counter] = absolute_error\n",
    "    error_per_atom[counter] = abs_error[counter] / graph.num_nodes\n",
    "    counter += 1\n",
    "print(\"----------BIOMASS-----------------\")\n",
    "print(\"MAE = {:.2f} eV\".format(np.mean(abs_error)))\n",
    "print(\"MAE/atom = {:.2f} eV/atom\".format(np.mean(error_per_atom)))\n",
    "print(\"----------------------------------\")\n",
    "        "
   ]
  }
 ],
 "metadata": {
  "interpreter": {
   "hash": "929eb757b548c43686da14be07befd842a942a01eb9dc843387956885175000a"
  },
  "kernelspec": {
   "display_name": "Python 3.9.12 ('GNN')",
   "language": "python",
   "name": "python3"
  },
  "language_info": {
   "codemirror_mode": {
    "name": "ipython",
    "version": 3
   },
   "file_extension": ".py",
   "mimetype": "text/x-python",
   "name": "python",
   "nbconvert_exporter": "python",
   "pygments_lexer": "ipython3",
   "version": "3.9.12"
  },
  "toc": {
   "base_numbering": 1,
   "nav_menu": {},
   "number_sections": true,
   "sideBar": true,
   "skip_h1_title": false,
   "title_cell": "Table of Contents",
   "title_sidebar": "Contents",
   "toc_cell": false,
   "toc_position": {},
   "toc_section_display": true,
   "toc_window_display": false
  },
  "varInspector": {
   "cols": {
    "lenName": 16,
    "lenType": 16,
    "lenVar": 40
   },
   "kernels_config": {
    "python": {
     "delete_cmd_postfix": "",
     "delete_cmd_prefix": "del ",
     "library": "var_list.py",
     "varRefreshCmd": "print(var_dic_list())"
    },
    "r": {
     "delete_cmd_postfix": ") ",
     "delete_cmd_prefix": "rm(",
     "library": "var_list.r",
     "varRefreshCmd": "cat(var_dic_list()) "
    }
   },
   "types_to_exclude": [
    "module",
    "function",
    "builtin_function_or_method",
    "instance",
    "_Feature"
   ],
   "window_display": false
  }
 },
 "nbformat": 4,
 "nbformat_minor": 5
}
