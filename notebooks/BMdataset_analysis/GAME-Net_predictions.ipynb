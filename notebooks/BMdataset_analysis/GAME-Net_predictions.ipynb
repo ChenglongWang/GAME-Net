{
 "cells": [
  {
   "attachments": {},
   "cell_type": "markdown",
   "metadata": {},
   "source": [
    "# BM-dataset: GAME-Net prediction of the adsorption energy compared to DFT\n",
    "\n",
    "This notebook reproduces the final results shown in the paper (parity plot in Figure4), where the GAME-Net adsorption energy prediction is obtained subtracting the molecule formation energy obtained by GAME-Net."
   ]
  },
  {
   "cell_type": "code",
   "execution_count": null,
   "metadata": {},
   "outputs": [],
   "source": [
    "import sys, os\n",
    "sys.path.insert(0, '../../src')\n",
    "from subprocess import PIPE, Popen\n",
    "\n",
    "import pandas as pd\n",
    "import numpy as np\n",
    "import cycler\n",
    "import matplotlib.pyplot as plt\n",
    "from matplotlib.ticker import MaxNLocator\n",
    "from matplotlib.font_manager import FontProperties\n",
    "legend_font = FontProperties(family='Arial', style='normal', size=9)\n",
    "from matplotlib.gridspec import GridSpec\n",
    "import seaborn as sns\n",
    "from sklearn.metrics import r2_score\n",
    "\n",
    "from gnn_eads.functions import contcar_to_graph\n",
    "from gnn_eads.nets import PreTrainedModel\n",
    "from gnn_eads.constants import ELEMENT_LIST"
   ]
  },
  {
   "attachments": {},
   "cell_type": "markdown",
   "metadata": {},
   "source": [
    "## 1) Retrieve DFT adsorption energies and save as .csv file"
   ]
  },
  {
   "cell_type": "code",
   "execution_count": null,
   "metadata": {},
   "outputs": [],
   "source": [
    "BM_PATH = \"../../data/BM_dataset\"  # path to the BM dataset\n",
    "Label, Family, Metal, Etot_DFT, Eslab_DFT, Emol_DFT = [], [], [], [], [], []\n",
    "for family in os.listdir(BM_PATH):\n",
    "    #print(family)\n",
    "    family_path = os.path.join(BM_PATH, family)\n",
    "    for (dirpath, dirnames, filenames) in os.walk(family_path):\n",
    "        for calc in dirnames:\n",
    "            if \"-\" not in calc:  # Gas-phase calculation\n",
    "                continue\n",
    "            if \"0000\" in calc:   # Metal slab calculation\n",
    "                continue\n",
    "            calc_path = os.path.join(dirpath, calc)\n",
    "            Label.append(calc)\n",
    "            Family.append(family)\n",
    "            Metal.append(calc.split(\"-\")[0])\n",
    "            p1 = Popen([\"grep\", \"energy  w\", os.path.join(calc_path, \"OUTCAR\")], stdout=PIPE)\n",
    "            p2 = Popen([\"tail\", \"-1\"], stdin=p1.stdout, stdout=PIPE)\n",
    "            p3 = Popen([\"awk\", \"{print $NF}\"], stdin=p2.stdout, stdout=PIPE)\n",
    "            Etot_DFT.append(float(p3.communicate()[0]))  # Total energy (adsorbate + metal)\n",
    "            gas_path = os.path.join(dirpath, calc.split(\"-\")[-1])\n",
    "            slab_path = os.path.join(dirpath, calc.split(\"-\")[0] + \"-\" + \"0000\")\n",
    "            p1 = Popen([\"grep\", \"energy  w\", os.path.join(gas_path, \"OUTCAR\")], stdout=PIPE)\n",
    "            p2 = Popen([\"tail\", \"-1\"], stdin=p1.stdout, stdout=PIPE)\n",
    "            p3 = Popen([\"awk\", \"{print $NF}\"], stdin=p2.stdout, stdout=PIPE)\n",
    "            Emol_DFT.append(float(p3.communicate()[0]))  # Gas-phase energy\n",
    "            p1 = Popen([\"grep\", \"energy  w\", os.path.join(slab_path, \"OUTCAR\")], stdout=PIPE)\n",
    "            p2 = Popen([\"tail\", \"-1\"], stdin=p1.stdout, stdout=PIPE)\n",
    "            p3 = Popen([\"awk\", \"{print $NF}\"], stdin=p2.stdout, stdout=PIPE)\n",
    "            if family == \"Plastics\" or (family == \"Polyurethanes\" and calc.split(\"-\")[0] == \"au\"):\n",
    "                Eslab_DFT.append(float(p3.communicate()[0])*4)  # Metal slab energy\n",
    "            else:\n",
    "                Eslab_DFT.append(float(p3.communicate()[0]))  # Metal slab energy\n",
    "\n",
    "df = pd.DataFrame({\"Label\": Label, \"Family\": Family, \"Metal\": Metal, \"Etot_DFT\": Etot_DFT, \"Eslab_DFT\": Eslab_DFT, \"Emol_DFT\": Emol_DFT})\n",
    "df[\"Eads_DFT\"] = df[\"Etot_DFT\"] - df[\"Eslab_DFT\"] - df[\"Emol_DFT\"]\n",
    "df.to_csv(BM_PATH + \"/DFT_BM.csv\", index=False)\n",
    "df.head()"
   ]
  },
  {
   "attachments": {},
   "cell_type": "markdown",
   "metadata": {},
   "source": [
    "## 2) Load GAME-Net"
   ]
  },
  {
   "cell_type": "code",
   "execution_count": null,
   "metadata": {},
   "outputs": [],
   "source": [
    "MODEL_NAME = \"GAME-Net\"\n",
    "MODEL_PATH = \"../../models/{}\".format(MODEL_NAME)  \n",
    "model = PreTrainedModel(MODEL_PATH)\n",
    "print(model)"
   ]
  },
  {
   "attachments": {},
   "cell_type": "markdown",
   "metadata": {},
   "source": [
    "## 3) Load DFT data from .csv file as Pandas dataframe"
   ]
  },
  {
   "cell_type": "code",
   "execution_count": null,
   "metadata": {},
   "outputs": [],
   "source": [
    "df = pd.read_csv(BM_PATH + \"/DFT_BM.csv\")\n",
    "df.head()"
   ]
  },
  {
   "attachments": {},
   "cell_type": "markdown",
   "metadata": {},
   "source": [
    "## 4) Generate graphs and predictions"
   ]
  },
  {
   "cell_type": "code",
   "execution_count": null,
   "metadata": {},
   "outputs": [],
   "source": [
    "# Function for counting non-H atoms in adsorbates\n",
    "CHONS = [ELEMENT_LIST.index(element) for element in [\"C\", \"H\", \"O\", \"N\", \"S\"]]\n",
    "adsorbate_atom_counter = lambda graph: int(graph.x.sum(axis=0)[CHONS].sum().item())\n",
    "Etot_GNN, Emol_GNN, metal_presence_graph , adsorbate_atoms = [], [], [], []\n",
    "for sample in df.iterrows():\n",
    "    # Read CONTCAR files for adsorption system and gas-phase molecule\n",
    "    contcar_ads = os.path.join(BM_PATH, sample[1][\"Family\"], sample[1][\"Label\"], \"CONTCAR\")\n",
    "    contcar_mol = os.path.join(BM_PATH, sample[1][\"Family\"], sample[1][\"Label\"].split(\"-\")[-1], \"CONTCAR\")\n",
    "    # Convert to graphs\n",
    "    graph_ads = contcar_to_graph(contcar_ads, model.g_tol, model.g_sf, model.g_metal_2nn)\n",
    "    graph_mol = contcar_to_graph(contcar_mol, model.g_tol, model.g_sf, model.g_metal_2nn)\n",
    "    # Check correctness of metal presence in the adsorption graphs\n",
    "    if graph_ads.num_nodes == graph_mol.num_nodes:\n",
    "        metal_presence_graph.append(\"Wrong\")\n",
    "    else:\n",
    "        metal_presence_graph.append(\"Correct\")\n",
    "    # Get number of non-H atoms in adsorbate\n",
    "    adsorbate_atoms.append(adsorbate_atom_counter(graph_mol))\n",
    "    # Get GNN predictions\n",
    "    Etot_GNN.append(model.evaluate(graph_ads))\n",
    "    Emol_GNN.append(model.evaluate(graph_mol))\n",
    "\n",
    "df[\"Etot_GNN\"] = Etot_GNN\n",
    "df[\"Emol_GNN\"] = Emol_GNN\n",
    "df[\"Eads_GNN\"] = df[\"Etot_GNN\"] - df[\"Emol_GNN\"]\n",
    "df[\"Metal_presence_graph\"] = metal_presence_graph\n",
    "df[\"Adsorbate_atoms\"] = adsorbate_atoms\n",
    "df[\"Error\"] = df[\"Eads_DFT\"] - df[\"Eads_GNN\"]\n",
    "df[\"Error_abs\"] = np.abs(df[\"Error\"])\n",
    "df[\"Error_per_atom\"] = df[\"Error_abs\"] / df[\"Adsorbate_atoms\"]"
   ]
  },
  {
   "attachments": {},
   "cell_type": "markdown",
   "metadata": {},
   "source": [
    "## 5) Save GAME-Net predictions as .csv"
   ]
  },
  {
   "cell_type": "code",
   "execution_count": null,
   "metadata": {},
   "outputs": [],
   "source": [
    "df.to_csv(\"GAME-Net_predictions.csv\", index=False)\n",
    "df.head()"
   ]
  },
  {
   "attachments": {},
   "cell_type": "markdown",
   "metadata": {},
   "source": [
    "## 6) Get statistics"
   ]
  },
  {
   "cell_type": "code",
   "execution_count": null,
   "metadata": {},
   "outputs": [],
   "source": [
    "MAE = df[\"Error_abs\"].mean()\n",
    "RMSE = np.sqrt((df[\"Error\"]**2).mean())\n",
    "MAE_per_atom = df[\"Error_per_atom\"].mean()\n",
    "R2 = r2_score(df[\"Eads_DFT\"], df[\"Eads_GNN\"])\n",
    "MAPE = (df[\"Error_abs\"] / np.abs(df[\"Eads_DFT\"])).mean()\n",
    "\n",
    "print(\"MAE: {:.3f} eV\".format(MAE))\n",
    "print(\"MAE per atom: {:.3f} eV\".format(MAE_per_atom))\n",
    "print(\"RMSE: {:.3f} eV\".format(RMSE))\n",
    "print(\"R2: {:.3f}\".format(R2))\n",
    "print(\"MAPE: {:.3f} %\".format(MAPE*100))"
   ]
  },
  {
   "cell_type": "code",
   "execution_count": null,
   "metadata": {},
   "outputs": [],
   "source": [
    "# Do statistical analysis based on chemical families\n",
    "df[\"Error_abs\"] = np.abs(df[\"Error\"])\n",
    "df[\"Error_per_atom\"] = df[\"Error_abs\"] / df[\"Adsorbate_atoms\"]\n",
    "df.groupby(\"Family\").mean()[[\"Error_abs\", \"Error_per_atom\"]]"
   ]
  },
  {
   "cell_type": "code",
   "execution_count": null,
   "metadata": {},
   "outputs": [],
   "source": [
    "# Get standard deviation of the error per family\n",
    "df.groupby(\"Family\").std()[[\"Error\", \"Error_per_atom\"]]"
   ]
  },
  {
   "cell_type": "code",
   "execution_count": null,
   "metadata": {},
   "outputs": [],
   "source": [
    "# Sort by absolute error\n",
    "df.sort_values(by=\"Error_abs\", ascending=False)"
   ]
  },
  {
   "attachments": {},
   "cell_type": "markdown",
   "metadata": {},
   "source": [
    "## 7) Create parity plot DFT vs GNN for the adsorption energy of the BM-dataset"
   ]
  },
  {
   "cell_type": "code",
   "execution_count": null,
   "metadata": {},
   "outputs": [],
   "source": [
    "fig = plt.figure(figsize=(4, 4), dpi=200)\n",
    "params = {'mathtext.default': 'regular'}          \n",
    "plt.rcParams.update(params)\n",
    "gs = GridSpec(4, 4)\n",
    "gs = fig.add_gridspec(2, 2,  width_ratios=(7, 2), height_ratios=(2, 7),\n",
    "                      left=0.1, right=0.9, bottom=0.1, top=0.9,\n",
    "                      wspace=0.05, hspace=0.05)\n",
    "ax_scatter = fig.add_subplot(gs[1, 0])\n",
    "ax_hist_x = fig.add_subplot(gs[0, 0], sharex=ax_scatter)\n",
    "ax_hist_y = fig.add_subplot(gs[1, 1], sharey=ax_scatter)\n",
    "\n",
    "ax_scatter.set_ylabel('$\\mathit{E}_{ads}^{GNN}$ / eV')\n",
    "ax_scatter.set_xlabel('$\\mathit{E}_{ads}^{DFT}$ / eV')\n",
    "PALETTE = [\"#FF0000\", \"#00A789\", \"#F4B200\"]\n",
    "ax_scatter.set_prop_cycle(cycler.cycler(color=PALETTE))\n",
    "for label, series in df.groupby(\"Family\"):\n",
    "        ax_scatter.scatter(series[\"Eads_DFT\"], series[\"Eads_GNN\"],\n",
    "                   s=22, marker=\"v\", alpha=0.85, edgecolors=\"black\", linewidths=0.25, zorder=2, label=label)\n",
    "ax_scatter.yaxis.set_major_locator(MaxNLocator(5)) \n",
    "ax_scatter.xaxis.set_major_locator(MaxNLocator(5)) \n",
    "legend_font = FontProperties(family='Arial', style='normal', size=9)\n",
    "ax_scatter.legend(loc=\"lower right\", prop=legend_font, handletextpad=0)\n",
    "lims = [np.min([ax_scatter.get_xlim(), ax_scatter.get_ylim()]),  # min of both axes\n",
    "         np.max([ax_scatter.get_xlim(), ax_scatter.get_ylim()])]  # max of both axes\n",
    "ax_scatter.plot(lims, lims, 'k-', alpha=0.75, zorder=1, linewidth=0.8)\n",
    "ax_scatter.set_aspect('equal')\n",
    "ax_scatter.set_xlim(lims)\n",
    "ax_scatter.set_ylim(lims)\n",
    "ax_scatter.set_axisbelow(\"True\")\n",
    "ax_scatter.grid()\n",
    "text = \"MAE = {:.2f} eV\\nRMSE = {:.2f} eV\\n$\\mathit{{R}}^{{2}}$ = {:.2f}\".format(MAE, RMSE, R2)\n",
    "props = dict(boxstyle='square', facecolor='white', edgecolor='black')\n",
    "ax_scatter.text(0.05, 0.95, text, transform=ax_scatter.transAxes, fontsize=9,\n",
    "        verticalalignment='top', bbox=props)\n",
    "\n",
    "# histogram GNN\n",
    "ax_hist_y.tick_params(axis=\"y\", labelleft=False, left=False)\n",
    "ax_hist_y.tick_params(axis=\"x\", labelbottom=False, bottom=False)\n",
    "sns.kdeplot(data=df,\n",
    "            y='Eads_GNN',\n",
    "            hue='Family',\n",
    "            hue_order=['Biomass', 'Plastics', 'Polyurethanes'],\n",
    "            ax=ax_hist_y,\n",
    "            legend=False, \n",
    "            palette=PALETTE, \n",
    "            fill=True, \n",
    "            multiple=\"layer\", \n",
    "            alpha=0.6, \n",
    "            linewidth=0, \n",
    "            common_norm=False, \n",
    "            common_grid=False, \n",
    "            gridsize=100)\n",
    "ax_hist_y.spines.right.set_visible(False)\n",
    "ax_hist_y.spines.top.set_visible(False)\n",
    "ax_hist_y.spines.bottom.set_visible(False)\n",
    "\n",
    "# histogram DFT \n",
    "ax_hist_x.tick_params(axis=\"x\", labelbottom=False, bottom=False)\n",
    "ax_hist_x.tick_params(axis=\"y\", labelleft=False, left=False)\n",
    "sns.kdeplot(data=df,\n",
    "            x='Eads_DFT',\n",
    "            hue='Family',\n",
    "            hue_order=['Biomass', 'Plastics', 'Polyurethanes'],\n",
    "            ax=ax_hist_x,\n",
    "            legend=False, \n",
    "            palette=PALETTE, \n",
    "            fill=True, \n",
    "            multiple=\"layer\", \n",
    "            alpha=0.6, \n",
    "            linewidth=0, \n",
    "            common_norm=False, \n",
    "            common_grid=True, \n",
    "            gridsize=100)\n",
    "ax_hist_x.spines.right.set_visible(False)\n",
    "ax_hist_x.spines.top.set_visible(False)\n",
    "ax_hist_x.spines.left.set_visible(False)"
   ]
  }
 ],
 "metadata": {
  "language_info": {
   "name": "python"
  }
 },
 "nbformat": 4,
 "nbformat_minor": 2
}
