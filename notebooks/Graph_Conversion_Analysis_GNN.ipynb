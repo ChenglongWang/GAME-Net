{
 "cells": [
  {
   "cell_type": "code",
   "execution_count": null,
   "id": "a9272826",
   "metadata": {},
   "outputs": [],
   "source": [
    "import seaborn as sns\n",
    "import numpy as np\n",
    "import matplotlib.pyplot as plt\n",
    "import pandas as pd"
   ]
  },
  {
   "cell_type": "markdown",
   "id": "00313992",
   "metadata": {},
   "source": [
    "# Analysis of wrong geometry --> graph conversions "
   ]
  },
  {
   "cell_type": "markdown",
   "id": "766c5bf5",
   "metadata": {},
   "source": [
    "This notebook has the goal to explore whether the conversion from cartesian geometry (contained in the CONTCAR files of VASP) to graph has been carried out correctly. The algorithm that creates the graph representation is based on Voronoi tesselation and implemented in pyRDTP.\n",
    "NB The outcome of the conversion from geometry to graph strongly depends on the Voronoi tolerance parameter (default=0.25) and the applied atomic radii (default=CORDERO set of atomic radii)."
   ]
  },
  {
   "cell_type": "code",
   "execution_count": null,
   "id": "6297581f",
   "metadata": {},
   "outputs": [],
   "source": [
    "def geometry_to_graph_analysis(dataset: str):\n",
    "    \"\"\"\n",
    "    Check that all adsorption samples in the defined dataset are correctly \n",
    "    converted to a graph. The correctness of the graph is defined by the presence \n",
    "    of at least one metal atom in the system.\n",
    "    Args: \n",
    "        dataset(str): name of the dataset analyzed. Must be located in \"./Data/\"\" directory.\n",
    "                      The parsed file is Dataset.dat, which contains the graph representations\n",
    "                      of each sample in COO format.\n",
    "    Returns:\n",
    "        new_list(list): list of lists contains the metal atoms in the graph.  \n",
    "        wrong_graphs(int): number of badly represented samples, in which no metal atom is present in the \n",
    "                           graph representation.\n",
    "        wrong_samples(list): list of the badly represented data\n",
    "    \"\"\"\n",
    "    atoms = ('C', 'H', 'O', 'N', 'S')\n",
    "    if dataset[:3] == \"gas\":\n",
    "        return \"Error: This function is just for datasets containing adsorption systems!\"\n",
    "    with open(\"../data/FG_dataset/{}/pre_05_False_15.dat\".format(dataset)) as f:\n",
    "        all_lines = f.readlines()\n",
    "    dataset_size = int(len(all_lines)/5)\n",
    "    lines = []\n",
    "    labels = []\n",
    "    for i in range(dataset_size):\n",
    "        lines.append(all_lines[1 + 5*i])  # Read the second line of each graph (ex. \"C H C H Ag\")\n",
    "        labels.append(all_lines[5*i])     # Read label of each sample (ex. \"ag-4a01-a\")\n",
    "    for i in range(dataset_size):\n",
    "        lines[i] = lines[i].strip(\"\\n\")\n",
    "        lines[i] = lines[i].split()\n",
    "        labels[i] = labels[i].strip(\"\\n\")\n",
    "    new_list = [[]] * dataset_size\n",
    "    wrong_samples = []\n",
    "    for i in range(dataset_size):\n",
    "        new_list[i] = [lines[i][j] for j in range(len(lines[i])) if lines[i][j] not in atoms]\n",
    "        if new_list[i] == []:\n",
    "            wrong_samples.append(labels[i])\n",
    "    wrong_graphs = new_list.count([])\n",
    "    print(\"Dataset Name: {}\".format(dataset))\n",
    "    print(\"Dataset Size: {}\".format(dataset_size))\n",
    "    print(\"Number of badly represented data: {}\".format(wrong_graphs))\n",
    "    print(\"Percentage of bad representations: {:.2f}%\".format((wrong_graphs/dataset_size)*100))\n",
    "    return new_list, wrong_graphs, wrong_samples, dataset_size, labels"
   ]
  },
  {
   "cell_type": "markdown",
   "id": "23d8c32b",
   "metadata": {},
   "source": [
    "## Analysis of the global dataset for the GNN"
   ]
  },
  {
   "cell_type": "code",
   "execution_count": null,
   "id": "a2940797",
   "metadata": {},
   "outputs": [],
   "source": [
    "all_datasets = [\"amides\", \"amidines\", \"aromatics\", \"aromatics2\",\n",
    "                 \"carbamate_esters\", \"group2\", \"group2b\", \"group3N\",\n",
    "                 \"group3S\", \"group4\", \"oximes\"]\n",
    "families = [\"Amides\", \"Amidines\", \"Aromatics\", \"Aromatics\", \n",
    "                   \"Carbamates\", \"$C_{x}H_{y}O_{(0,1)}$\", \"$C_{x}H_{y}O_{(0,1)}$\",\n",
    "                   \"$C_{x}H_{y}N$\", \"$C_{x}H_{y}S$\", \"$C_{x}H_{y}O_{(2,3)}$\", \n",
    "                   \"Oximes\"]\n",
    "\n",
    "family_dict = dict(zip(all_datasets, families))"
   ]
  },
  {
   "cell_type": "code",
   "execution_count": null,
   "id": "306fce87",
   "metadata": {},
   "outputs": [],
   "source": [
    "bad_representations = []\n",
    "bad_items = []\n",
    "datasets_size = []\n",
    "dataset_labels = []\n",
    "for dataset in all_datasets:\n",
    "    _, wrong_graphs, wrong_samples, tot, labels = geometry_to_graph_analysis(dataset)\n",
    "    print(\"----------------------------------------\")\n",
    "    bad_representations.append(wrong_graphs)\n",
    "    bad_items.append(wrong_samples)\n",
    "    datasets_size.append(tot)\n",
    "    dataset_labels.append(labels)\n",
    "\n",
    "bad_dict = dict(zip(all_datasets, bad_representations))\n",
    "bad_items_dict = dict(zip(all_datasets, bad_items))\n",
    "dataset_size_dict = dict(zip(all_datasets, datasets_size))\n",
    "labels_dict = dict(zip(all_datasets, dataset_labels))\n",
    "total_bad = sum(bad_representations)\n",
    "total_datasets = sum(datasets_size)"
   ]
  },
  {
   "cell_type": "code",
   "execution_count": null,
   "id": "22b59939",
   "metadata": {},
   "outputs": [],
   "source": [
    "labels_dict[\"amidines\"]"
   ]
  },
  {
   "cell_type": "code",
   "execution_count": null,
   "id": "8764fa86",
   "metadata": {},
   "outputs": [],
   "source": [
    "total_size_family = [0] * (len(set(families)))\n",
    "for i in range(len(total_size_family)):\n",
    "    for group in all_datasets:\n",
    "        if family_dict[group] == list(set(families))[i]:\n",
    "            total_size_family[i] += dataset_size_dict[group]\n",
    "            \n",
    "bad_family = [0] * (len(set(families)))\n",
    "for i in range(len(bad_family)):\n",
    "    for group in all_datasets:\n",
    "        if family_dict[group] == list(set(families))[i]:\n",
    "            bad_family[i] += bad_dict[group]"
   ]
  },
  {
   "cell_type": "code",
   "execution_count": null,
   "id": "229711c8",
   "metadata": {},
   "outputs": [],
   "source": [
    "bad_family_dict = dict(zip(set(families),bad_family))\n",
    "total_size_dict = dict(zip(set(families),total_size_family))\n",
    "families = list(total_size_dict.keys())\n",
    "bad = list(bad_family_dict.values())\n",
    "tot = list(total_size_dict.values())"
   ]
  },
  {
   "cell_type": "code",
   "execution_count": null,
   "id": "fa6aa9bf",
   "metadata": {},
   "outputs": [],
   "source": [
    "import pandas as pd"
   ]
  },
  {
   "cell_type": "code",
   "execution_count": null,
   "id": "e7702c22",
   "metadata": {},
   "outputs": [],
   "source": [
    "df_family = pd.DataFrame(data=dict(zip([\"Family\", \"Bad\", \"Total\"], [families, bad, tot])))"
   ]
  },
  {
   "cell_type": "code",
   "execution_count": null,
   "id": "f18aa432",
   "metadata": {},
   "outputs": [],
   "source": [
    "df_family"
   ]
  },
  {
   "cell_type": "code",
   "execution_count": null,
   "id": "b0d25888",
   "metadata": {},
   "outputs": [],
   "source": [
    "print(\"Graphs with no metal-adsorbate connections: {}/{} ({}%)\".format(total_bad, total_datasets, (total_bad / total_datasets) * 100))"
   ]
  },
  {
   "cell_type": "code",
   "execution_count": null,
   "id": "0e53be0f",
   "metadata": {},
   "outputs": [],
   "source": [
    "\n",
    "y = np.array(list(bad_family_dict.values()))\n",
    "y_tot = np.array(list(dataset_size_dict.values()))\n",
    "order = [\"$C_{x}H_{y}O_{(0,1)}$\", \"$C_{x}H_{y}O_{(2,3)}$\", \"$C_{x}H_{y}N$\", \n",
    "         \"$C_{x}H_{y}S$\", \"Amidines\", \"Amides\", \n",
    "         \"Oximes\", \"Carbamates\", \"Aromatics\"]\n",
    "f, ax = plt.subplots(figsize=(8,5), dpi=800)\n",
    "params = {'mathtext.default': 'regular' }          \n",
    "plt.rcParams.update(params)\n",
    "#sns.set_theme(style=\"whitegrid\")\n",
    "sns.set_color_codes('muted')\n",
    "sns.barplot(data=df_family,\n",
    "            x=\"Total\", \n",
    "            y=\"Family\", \n",
    "            orient=\"h\", \n",
    "            label=\"Total\", \n",
    "            color=\"b\", \n",
    "            order=order)\n",
    "sns.set_color_codes('pastel')\n",
    "sns.barplot(data=df_family,\n",
    "            x=\"Bad\", \n",
    "            y=\"Family\",\n",
    "            orient=\"h\", \n",
    "            label=\"Bad\", \n",
    "            color=\"b\", \n",
    "            order=order)\n",
    "ax.legend(ncol=1, loc=(0.75, 0.2), frameon=True)\n",
    "ax.set(xlabel=\"Samples\", ylabel=\"Family\")\n",
    "sns.despine(left=True, bottom=False)\n",
    "#plt.savefig(\"Bad_family.svg\")"
   ]
  },
  {
   "cell_type": "markdown",
   "id": "7c29d9a1",
   "metadata": {},
   "source": [
    "# Quantitative analysis and distribution of bad representations over metals"
   ]
  },
  {
   "cell_type": "markdown",
   "id": "fb7f0032",
   "metadata": {},
   "source": [
    "Due to different nomenclature convention applied over the datasets not done by myself (Santiago), these sets are treated separately."
   ]
  },
  {
   "cell_type": "markdown",
   "id": "1260db06",
   "metadata": {},
   "source": [
    "## FG-dataset"
   ]
  },
  {
   "cell_type": "code",
   "execution_count": null,
   "id": "67b93308",
   "metadata": {},
   "outputs": [],
   "source": [
    "santi_datasets = ['amides', 'amidines', 'aromatics', 'aromatics2', \n",
    "                  'carbamate_esters', 'group2', 'group2b', 'group3N',\n",
    "                  'group3S', 'group4', 'oximes']  # Share same nomenclature convention\n",
    "santi_metals = [\"ag\", \"au\", \"cd\", \"cu\", \n",
    "                \"ir\", \"ni\", \"os\", \"pd\",\n",
    "                \"pt\", \"rh\", \"ru\", \"zn\"]\n",
    "bad_counter = np.zeros((len(santi_metals)))\n",
    "total_counter = np.zeros((len(santi_metals)))\n",
    "for i in santi_datasets:\n",
    "    for j in bad_items_dict[i]:\n",
    "        for k in range(len(santi_metals)):\n",
    "            if j[:2] == santi_metals[k]:\n",
    "                bad_counter[k] += 1\n",
    "            else:\n",
    "                pass\n",
    "            \n",
    "for i in santi_datasets:\n",
    "    for j in labels_dict[i]:\n",
    "        for k in range(len(santi_metals)):\n",
    "            if j[:2] == santi_metals[k]:\n",
    "                total_counter[k] += 1\n",
    "            else:\n",
    "                pass\n",
    "\n",
    "santi_bad_counter = list(bad_counter)\n",
    "santi_tot_counter = list(total_counter)\n",
    "santi_bad_counter = [int(i) for i in santi_bad_counter]\n",
    "santi_bad_dict = dict(zip(santi_metals, santi_bad_counter))\n",
    "santi_tot_dict = dict(zip(santi_metals, santi_tot_counter))\n",
    "print(santi_tot_dict)"
   ]
  },
  {
   "cell_type": "code",
   "execution_count": null,
   "id": "62f39a63",
   "metadata": {},
   "outputs": [],
   "source": [
    "x = santi_metals\n",
    "y = np.array(santi_bad_counter)\n",
    "z = np.array(santi_tot_counter)\n",
    "\n",
    "f, ax = plt.subplots(figsize=(8,5), dpi=800)\n",
    "sns.set_theme(style=\"whitegrid\")\n",
    "sns.set_color_codes('muted')\n",
    "sns.barplot(x=z, \n",
    "            y=[i.capitalize() for i in x], \n",
    "            orient=\"h\", \n",
    "            label=\"Total\", \n",
    "            color=\"b\")\n",
    "sns.set_color_codes('pastel')\n",
    "sns.barplot(x=y, \n",
    "            y=[i.capitalize() for i in x], \n",
    "            orient=\"h\", \n",
    "            label=\"Bad\", \n",
    "            color=\"b\")\n",
    "ax.set(xlabel=\"Samples\", ylabel=\"Metal\")\n",
    "ax.legend(ncol=1, loc=(0.75, 0.2), frameon=True)\n",
    "\n",
    "sns.despine(left=True, bottom=False)\n",
    "#plt.savefig(\"Bad_metal.svg\")"
   ]
  }
 ],
 "metadata": {
  "kernelspec": {
   "display_name": "Python 3.9.12 ('GNN')",
   "language": "python",
   "name": "python3"
  },
  "language_info": {
   "codemirror_mode": {
    "name": "ipython",
    "version": 3
   },
   "file_extension": ".py",
   "mimetype": "text/x-python",
   "name": "python",
   "nbconvert_exporter": "python",
   "pygments_lexer": "ipython3",
   "version": "3.9.12"
  },
  "toc": {
   "base_numbering": 1,
   "nav_menu": {},
   "number_sections": true,
   "sideBar": true,
   "skip_h1_title": false,
   "title_cell": "Table of Contents",
   "title_sidebar": "Contents",
   "toc_cell": false,
   "toc_position": {},
   "toc_section_display": true,
   "toc_window_display": false
  },
  "varInspector": {
   "cols": {
    "lenName": 16,
    "lenType": 16,
    "lenVar": 40
   },
   "kernels_config": {
    "python": {
     "delete_cmd_postfix": "",
     "delete_cmd_prefix": "del ",
     "library": "var_list.py",
     "varRefreshCmd": "print(var_dic_list())"
    },
    "r": {
     "delete_cmd_postfix": ") ",
     "delete_cmd_prefix": "rm(",
     "library": "var_list.r",
     "varRefreshCmd": "cat(var_dic_list()) "
    }
   },
   "types_to_exclude": [
    "module",
    "function",
    "builtin_function_or_method",
    "instance",
    "_Feature"
   ],
   "window_display": false
  },
  "vscode": {
   "interpreter": {
    "hash": "929eb757b548c43686da14be07befd842a942a01eb9dc843387956885175000a"
   }
  }
 },
 "nbformat": 4,
 "nbformat_minor": 5
}
