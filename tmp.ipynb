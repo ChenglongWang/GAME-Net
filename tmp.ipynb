{
 "cells": [
  {
   "cell_type": "code",
   "execution_count": null,
   "metadata": {},
   "outputs": [],
   "source": [
    "from nets import FlexibleNet\n",
    "import torch\n",
    "from torch.nn import ReLU, Tanh, Sigmoid\n",
    "from torch_geometric.nn import SAGEConv, GAT, GATv2Conv\n",
    "from torch_geometric.nn import GraphMultisetTransformer\n",
    "from processed_datasets import BM_dataloader\n",
    "from datetime import date, datetime"
   ]
  },
  {
   "cell_type": "code",
   "execution_count": null,
   "metadata": {},
   "outputs": [],
   "source": [
    "today = date.today()\n",
    "today_str = str(today.strftime(\"%d-%b-%Y\"))\n",
    "today_str = today_str.replace(\"-\", \"\")\n",
    "time = str(datetime.now())[11:]\n",
    "#time = time[:5]\n",
    "#time = time.replace(\":\",\"\")\n",
    "model_name = \"GNN\" + \"_\" + today_str + \"_\" + time\n",
    "print(model_name)"
   ]
  },
  {
   "cell_type": "code",
   "execution_count": null,
   "metadata": {},
   "outputs": [],
   "source": [
    "model1 = FlexibleNet(128, 3, 5, True, 17, Tanh(), True, SAGEConv, GraphMultisetTransformer)\n",
    "model2 = FlexibleNet(128, 3, 5, True, 17, Tanh(), True, SAGEConv, GraphMultisetTransformer)"
   ]
  },
  {
   "cell_type": "code",
   "execution_count": null,
   "metadata": {},
   "outputs": [],
   "source": [
    "model1(BM_dataloader.dataset[1])"
   ]
  },
  {
   "cell_type": "code",
   "execution_count": null,
   "metadata": {},
   "outputs": [],
   "source": [
    "model2(BM_dataloader.dataset[1])"
   ]
  },
  {
   "cell_type": "code",
   "execution_count": null,
   "metadata": {},
   "outputs": [],
   "source": []
  }
 ],
 "metadata": {
  "kernelspec": {
   "display_name": "Python 3.9.12 ('GNN')",
   "language": "python",
   "name": "python3"
  },
  "language_info": {
   "codemirror_mode": {
    "name": "ipython",
    "version": 3
   },
   "file_extension": ".py",
   "mimetype": "text/x-python",
   "name": "python",
   "nbconvert_exporter": "python",
   "pygments_lexer": "ipython3",
   "version": "3.9.12"
  },
  "vscode": {
   "interpreter": {
    "hash": "929eb757b548c43686da14be07befd842a942a01eb9dc843387956885175000a"
   }
  }
 },
 "nbformat": 4,
 "nbformat_minor": 2
}
