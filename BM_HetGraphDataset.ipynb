{
 "cells": [
  {
   "cell_type": "code",
   "execution_count": 1,
   "metadata": {},
   "outputs": [],
   "source": [
    "import torch\n",
    "import torch_geometric\n",
    "from graph_tools import plotter, extract_adsorbate\n",
    "from functions import get_graph_sample, get_graph_formula, contcar_to_graph\n",
    "from classes import HetGraphDataset\n",
    "from torch_geometric.data import DataLoader"
   ]
  },
  {
   "cell_type": "markdown",
   "metadata": {},
   "source": [
    "## Biomass"
   ]
  },
  {
   "cell_type": "code",
   "execution_count": 2,
   "metadata": {},
   "outputs": [
    {
     "name": "stdout",
     "output_type": "stream",
     "text": [
      "15\n"
     ]
    }
   ],
   "source": [
    "biomass = []\n",
    "folder = \"BM_dataset/Biomass/\"\n",
    "metals = [\"ni\", \"ru\"]\n",
    "molecules = [\"mol1\", \"mol2\", \"mol3\", \"mol4\", \"mol5\"]\n",
    "for metal in metals:\n",
    "    for molecule in molecules:\n",
    "        graph = get_graph_sample(\"{}{}-{}\".format(folder, metal, molecule),\n",
    "                                 \"{}{}-0000\".format(folder, metal), family=\"biomass\")\n",
    "        adsorbate = extract_adsorbate(graph)\n",
    "        if graph.num_nodes == adsorbate.num_nodes:  #filter\n",
    "            pass\n",
    "        else:\n",
    "            biomass.append(graph)\n",
    "for molecule in molecules:\n",
    "    biomass.append(get_graph_sample(\"{}{}\".format(folder, molecule), gas_mol=True, family=\"biomass\"))    \n",
    "print(len(biomass))\n"
   ]
  },
  {
   "cell_type": "markdown",
   "metadata": {},
   "source": [
    "## Polyurethanes"
   ]
  },
  {
   "cell_type": "code",
   "execution_count": 3,
   "metadata": {},
   "outputs": [
    {
     "name": "stdout",
     "output_type": "stream",
     "text": [
      "13\n"
     ]
    }
   ],
   "source": [
    "\n",
    "polyurethanes = []\n",
    "folder = \"BM_dataset/Polyurethanes/\"\n",
    "metals = [\"ag\", \"au\", \"cu\"]\n",
    "molecules = [\"mol16\", \"mol17\", \"mol18\", \"mol19\", \"mol41\"]\n",
    "for metal in metals:\n",
    "    if metal == \"au\":\n",
    "        for molecule in molecules:\n",
    "            graph = get_graph_sample(\"{}{}-{}\".format(folder, metal, molecule),\n",
    "                                     \"{}{}-sur\".format(folder, metal), family=\"polyurethanes\", \n",
    "                                     surf_multiplier=4)\n",
    "            adsorbate = extract_adsorbate(graph)\n",
    "            if adsorbate.num_nodes == graph.num_nodes:\n",
    "                pass\n",
    "            else:\n",
    "                polyurethanes.append(graph)\n",
    "    else:\n",
    "        for molecule in molecules:\n",
    "            graph = get_graph_sample(\"{}{}-{}\".format(folder, metal, molecule),\n",
    "                                     \"{}{}-sur\".format(folder, metal), family=\"polyurethanes\")\n",
    "            adsorbate = extract_adsorbate(graph)\n",
    "            if adsorbate.num_nodes == graph.num_nodes:\n",
    "                pass\n",
    "            else:\n",
    "                polyurethanes.append(graph)\n",
    "for molecule in molecules:\n",
    "    polyurethanes.append(get_graph_sample(\"{}{}\".format(folder, molecule), gas_mol=True, family=\"polyurethanes\"))\n",
    "        \n",
    "print(len(polyurethanes))"
   ]
  },
  {
   "cell_type": "code",
   "execution_count": 4,
   "metadata": {},
   "outputs": [
    {
     "name": "stdout",
     "output_type": "stream",
     "text": [
      "-118.05121928\n",
      "-157.42335498\n",
      "-157.34867860999998\n",
      "-196.70168272\n",
      "-244.58779939\n",
      "-117.80113190000009\n",
      "-157.0177393900001\n",
      "-156.93564073000005\n",
      "-196.24380310000004\n",
      "-244.31561998000006\n",
      "-118.46814558999995\n",
      "-157.59770521999997\n",
      "-157.54930794999996\n",
      "-196.82126069999993\n",
      "-244.91745026\n",
      "-117.29813031\n",
      "-156.61705379\n",
      "-156.57552837\n",
      "-195.85739787\n",
      "-243.47832296\n"
     ]
    }
   ],
   "source": [
    "for graph in polyurethanes:\n",
    "    print(graph.y)"
   ]
  },
  {
   "cell_type": "markdown",
   "metadata": {},
   "source": [
    "## Plastics"
   ]
  },
  {
   "cell_type": "code",
   "execution_count": 4,
   "metadata": {},
   "outputs": [
    {
     "name": "stdout",
     "output_type": "stream",
     "text": [
      "12\n"
     ]
    }
   ],
   "source": [
    "plastics = []\n",
    "folder = \"BM_dataset/Plastics/\"\n",
    "metals = [\"pt\", \"ru\"]\n",
    "molecules = [\"PE\", \"PPit\", \"PPst\", \"PET\", \"PS\"]\n",
    "for metal in metals:\n",
    "    for molecule in molecules:\n",
    "        graph = get_graph_sample(\"{}{}-{}\".format(folder, metal, molecule),\n",
    "                                 \"{}{}-0000\".format(folder, metal), \n",
    "                                 family=\"plastics\", \n",
    "                                 surf_multiplier=4)\n",
    "        adsorbate = extract_adsorbate(graph)\n",
    "        if graph.num_nodes == adsorbate.num_nodes:\n",
    "            pass\n",
    "        else:\n",
    "            plastics.append(graph)\n",
    "        \n",
    "for molecule in molecules:\n",
    "    plastics.append(get_graph_sample(\"{}{}\".format(folder, molecule), gas_mol=True, family=\"plastics\"))\n",
    "        \n",
    "print(len(plastics))"
   ]
  },
  {
   "cell_type": "code",
   "execution_count": 5,
   "metadata": {},
   "outputs": [
    {
     "name": "stdout",
     "output_type": "stream",
     "text": [
      "-207.79174933000013\n",
      "-257.18159251\n",
      "-337.67323951000003\n",
      "-214.55030080000006\n",
      "-256.22772469999995\n",
      "-339.5979853900001\n",
      "-214.70236036000006\n",
      "-206.61948565\n",
      "-256.25239953\n",
      "-256.61073717\n",
      "-334.81520255\n",
      "-211.59859686\n"
     ]
    }
   ],
   "source": [
    "for graph in plastics:\n",
    "    print(graph.y)"
   ]
  },
  {
   "cell_type": "code",
   "execution_count": 6,
   "metadata": {},
   "outputs": [
    {
     "name": "stdout",
     "output_type": "stream",
     "text": [
      "[Data(x=[39, 17], edge_index=[2, 76], y=-207.79174933000013, formula='C12H26-Pt1    ', family='plastics'), Data(x=[48, 17], edge_index=[2, 94], y=-257.18159251, formula='C15H32-Pt1    ', family='plastics'), Data(x=[56, 17], edge_index=[2, 118], y=-337.67323951000003, formula='C22H22O8-Pt4  ', family='plastics'), Data(x=[42, 17], edge_index=[2, 94], y=-214.55030080000006, formula='C16H18-Pt8    ', family='plastics'), Data(x=[48, 17], edge_index=[2, 94], y=-256.22772469999995, formula='C15H32-Ru1    ', family='plastics'), Data(x=[66, 17], edge_index=[2, 152], y=-339.5979853900001, formula='C22H22O84-Ru1 ', family='plastics'), Data(x=[42, 17], edge_index=[2, 102], y=-214.70236036000006, formula='C16H18-Ru8    ', family='plastics'), Data(x=[38, 17], edge_index=[2, 74], y=-206.61948565, formula='C12H26-(g)    ', family='plastics'), Data(x=[47, 17], edge_index=[2, 92], y=-256.25239953, formula='C15H32-(g)    ', family='plastics'), Data(x=[47, 17], edge_index=[2, 92], y=-256.61073717, formula='C15H32-(g)    ', family='plastics'), Data(x=[52, 17], edge_index=[2, 106], y=-334.81520255, formula='C22H22O8-(g)  ', family='plastics'), Data(x=[34, 17], edge_index=[2, 70], y=-211.59859686, formula='C16H18-(g)    ', family='plastics'), Data(x=[27, 17], edge_index=[2, 54], y=-157.42335498, formula='C9H12N2O2-Ag2 ', family='polyurethanes'), Data(x=[28, 17], edge_index=[2, 56], y=-157.34867860999998, formula='C9H12N2O2-Ag3 ', family='polyurethanes'), Data(x=[33, 17], edge_index=[2, 66], y=-196.70168272, formula='C11H14N2O4-Ag2', family='polyurethanes'), Data(x=[40, 17], edge_index=[2, 84], y=-244.58779939, formula='C15H18N4O1-Ag2', family='polyurethanes'), Data(x=[21, 17], edge_index=[2, 42], y=-117.80113190000009, formula='C7H10N2-Au2   ', family='polyurethanes'), Data(x=[26, 17], edge_index=[2, 52], y=-157.0177393900001, formula='C9H12N2O2-Au1 ', family='polyurethanes'), Data(x=[39, 17], edge_index=[2, 80], y=-244.31561998000006, formula='C15H18N4O1-Au1', family='polyurethanes'), Data(x=[21, 17], edge_index=[2, 42], y=-118.46814558999995, formula='C7H10N2-Cu2   ', family='polyurethanes'), Data(x=[19, 17], edge_index=[2, 38], y=-117.29813031, formula='C7H10N2-(g)   ', family='polyurethanes'), Data(x=[25, 17], edge_index=[2, 50], y=-156.61705379, formula='C9H12N2O2-(g) ', family='polyurethanes'), Data(x=[25, 17], edge_index=[2, 50], y=-156.57552837, formula='C9H12N2O2-(g) ', family='polyurethanes'), Data(x=[31, 17], edge_index=[2, 62], y=-195.85739787, formula='C11H14N2O4-(g)', family='polyurethanes'), Data(x=[38, 17], edge_index=[2, 78], y=-243.47832296, formula='C15H18N4O1-(g)', family='polyurethanes'), Data(x=[52, 17], edge_index=[2, 114], y=-269.48505176, formula='C17H20O6-Ni9  ', family='biomass'), Data(x=[52, 17], edge_index=[2, 116], y=-268.97141166, formula='C17H20O6-Ni9  ', family='biomass'), Data(x=[31, 17], edge_index=[2, 68], y=-156.38838357000003, formula='C10H12O3-Ni6  ', family='biomass'), Data(x=[33, 17], edge_index=[2, 74], y=-170.59217589999997, formula='C10H14O4-Ni5  ', family='biomass'), Data(x=[31, 17], edge_index=[2, 66], y=-163.79779004000005, formula='C10H14O3-Ni4  ', family='biomass'), Data(x=[56, 17], edge_index=[2, 130], y=-270.26880955, formula='C17H20O63-Ru1 ', family='biomass'), Data(x=[55, 17], edge_index=[2, 136], y=-269.7343701799999, formula='C17H20O62-Ru1 ', family='biomass'), Data(x=[32, 17], edge_index=[2, 72], y=-157.01538868, formula='C10H12O3-Ru7  ', family='biomass'), Data(x=[37, 17], edge_index=[2, 86], y=-171.17300477999993, formula='C10H14O4-Ru9  ', family='biomass'), Data(x=[35, 17], edge_index=[2, 84], y=-164.19177753999998, formula='C10H14O3-Ru8  ', family='biomass'), Data(x=[43, 17], edge_index=[2, 88], y=-266.6203315, formula='C17H20O6-(g)  ', family='biomass'), Data(x=[43, 17], edge_index=[2, 88], y=-266.58212823, formula='C17H20O6-(g)  ', family='biomass'), Data(x=[25, 17], edge_index=[2, 50], y=-153.6018589, formula='C10H12O3-(g)  ', family='biomass'), Data(x=[28, 17], edge_index=[2, 56], y=-168.6743372, formula='C10H14O4-(g)  ', family='biomass'), Data(x=[27, 17], edge_index=[2, 54], y=-162.19930716, formula='C10H14O3-(g)  ', family='biomass')]\n"
     ]
    }
   ],
   "source": [
    "BM_dataset = plastics + polyurethanes + biomass\n",
    "print(BM_dataset)"
   ]
  },
  {
   "cell_type": "code",
   "execution_count": 7,
   "metadata": {},
   "outputs": [
    {
     "name": "stdout",
     "output_type": "stream",
     "text": [
      "40\n"
     ]
    }
   ],
   "source": [
    "print(len(BM_dataset))"
   ]
  },
  {
   "cell_type": "code",
   "execution_count": 12,
   "metadata": {},
   "outputs": [],
   "source": [
    "from torch_geometric.loader import DataLoader\n"
   ]
  },
  {
   "cell_type": "code",
   "execution_count": 8,
   "metadata": {},
   "outputs": [],
   "source": [
    "\n",
    "torch.save(BM_dataset, \"./BM_dataset/Graph_dataset.pt\")\n",
    "\n"
   ]
  },
  {
   "cell_type": "code",
   "execution_count": 9,
   "metadata": {},
   "outputs": [],
   "source": [
    "check = torch.load(\"./BM_dataset/Graph_dataset.pt\")"
   ]
  },
  {
   "cell_type": "code",
   "execution_count": 10,
   "metadata": {},
   "outputs": [
    {
     "data": {
      "text/plain": [
       "[Data(x=[39, 17], edge_index=[2, 76], y=-207.79174933000013, formula='C12H26-Pt1    ', family='plastics'),\n",
       " Data(x=[48, 17], edge_index=[2, 94], y=-257.18159251, formula='C15H32-Pt1    ', family='plastics'),\n",
       " Data(x=[56, 17], edge_index=[2, 118], y=-337.67323951000003, formula='C22H22O8-Pt4  ', family='plastics'),\n",
       " Data(x=[42, 17], edge_index=[2, 94], y=-214.55030080000006, formula='C16H18-Pt8    ', family='plastics'),\n",
       " Data(x=[48, 17], edge_index=[2, 94], y=-256.22772469999995, formula='C15H32-Ru1    ', family='plastics'),\n",
       " Data(x=[66, 17], edge_index=[2, 152], y=-339.5979853900001, formula='C22H22O84-Ru1 ', family='plastics'),\n",
       " Data(x=[42, 17], edge_index=[2, 102], y=-214.70236036000006, formula='C16H18-Ru8    ', family='plastics'),\n",
       " Data(x=[38, 17], edge_index=[2, 74], y=-206.61948565, formula='C12H26-(g)    ', family='plastics'),\n",
       " Data(x=[47, 17], edge_index=[2, 92], y=-256.25239953, formula='C15H32-(g)    ', family='plastics'),\n",
       " Data(x=[47, 17], edge_index=[2, 92], y=-256.61073717, formula='C15H32-(g)    ', family='plastics'),\n",
       " Data(x=[52, 17], edge_index=[2, 106], y=-334.81520255, formula='C22H22O8-(g)  ', family='plastics'),\n",
       " Data(x=[34, 17], edge_index=[2, 70], y=-211.59859686, formula='C16H18-(g)    ', family='plastics'),\n",
       " Data(x=[27, 17], edge_index=[2, 54], y=-157.42335498, formula='C9H12N2O2-Ag2 ', family='polyurethanes'),\n",
       " Data(x=[28, 17], edge_index=[2, 56], y=-157.34867860999998, formula='C9H12N2O2-Ag3 ', family='polyurethanes'),\n",
       " Data(x=[33, 17], edge_index=[2, 66], y=-196.70168272, formula='C11H14N2O4-Ag2', family='polyurethanes'),\n",
       " Data(x=[40, 17], edge_index=[2, 84], y=-244.58779939, formula='C15H18N4O1-Ag2', family='polyurethanes'),\n",
       " Data(x=[21, 17], edge_index=[2, 42], y=-117.80113190000009, formula='C7H10N2-Au2   ', family='polyurethanes'),\n",
       " Data(x=[26, 17], edge_index=[2, 52], y=-157.0177393900001, formula='C9H12N2O2-Au1 ', family='polyurethanes'),\n",
       " Data(x=[39, 17], edge_index=[2, 80], y=-244.31561998000006, formula='C15H18N4O1-Au1', family='polyurethanes'),\n",
       " Data(x=[21, 17], edge_index=[2, 42], y=-118.46814558999995, formula='C7H10N2-Cu2   ', family='polyurethanes'),\n",
       " Data(x=[19, 17], edge_index=[2, 38], y=-117.29813031, formula='C7H10N2-(g)   ', family='polyurethanes'),\n",
       " Data(x=[25, 17], edge_index=[2, 50], y=-156.61705379, formula='C9H12N2O2-(g) ', family='polyurethanes'),\n",
       " Data(x=[25, 17], edge_index=[2, 50], y=-156.57552837, formula='C9H12N2O2-(g) ', family='polyurethanes'),\n",
       " Data(x=[31, 17], edge_index=[2, 62], y=-195.85739787, formula='C11H14N2O4-(g)', family='polyurethanes'),\n",
       " Data(x=[38, 17], edge_index=[2, 78], y=-243.47832296, formula='C15H18N4O1-(g)', family='polyurethanes'),\n",
       " Data(x=[52, 17], edge_index=[2, 114], y=-269.48505176, formula='C17H20O6-Ni9  ', family='biomass'),\n",
       " Data(x=[52, 17], edge_index=[2, 116], y=-268.97141166, formula='C17H20O6-Ni9  ', family='biomass'),\n",
       " Data(x=[31, 17], edge_index=[2, 68], y=-156.38838357000003, formula='C10H12O3-Ni6  ', family='biomass'),\n",
       " Data(x=[33, 17], edge_index=[2, 74], y=-170.59217589999997, formula='C10H14O4-Ni5  ', family='biomass'),\n",
       " Data(x=[31, 17], edge_index=[2, 66], y=-163.79779004000005, formula='C10H14O3-Ni4  ', family='biomass'),\n",
       " Data(x=[56, 17], edge_index=[2, 130], y=-270.26880955, formula='C17H20O63-Ru1 ', family='biomass'),\n",
       " Data(x=[55, 17], edge_index=[2, 136], y=-269.7343701799999, formula='C17H20O62-Ru1 ', family='biomass'),\n",
       " Data(x=[32, 17], edge_index=[2, 72], y=-157.01538868, formula='C10H12O3-Ru7  ', family='biomass'),\n",
       " Data(x=[37, 17], edge_index=[2, 86], y=-171.17300477999993, formula='C10H14O4-Ru9  ', family='biomass'),\n",
       " Data(x=[35, 17], edge_index=[2, 84], y=-164.19177753999998, formula='C10H14O3-Ru8  ', family='biomass'),\n",
       " Data(x=[43, 17], edge_index=[2, 88], y=-266.6203315, formula='C17H20O6-(g)  ', family='biomass'),\n",
       " Data(x=[43, 17], edge_index=[2, 88], y=-266.58212823, formula='C17H20O6-(g)  ', family='biomass'),\n",
       " Data(x=[25, 17], edge_index=[2, 50], y=-153.6018589, formula='C10H12O3-(g)  ', family='biomass'),\n",
       " Data(x=[28, 17], edge_index=[2, 56], y=-168.6743372, formula='C10H14O4-(g)  ', family='biomass'),\n",
       " Data(x=[27, 17], edge_index=[2, 54], y=-162.19930716, formula='C10H14O3-(g)  ', family='biomass')]"
      ]
     },
     "execution_count": 10,
     "metadata": {},
     "output_type": "execute_result"
    }
   ],
   "source": [
    "check"
   ]
  },
  {
   "cell_type": "code",
   "execution_count": null,
   "metadata": {},
   "outputs": [],
   "source": []
  }
 ],
 "metadata": {
  "kernelspec": {
   "display_name": "Python 3.9.12 ('GNN')",
   "language": "python",
   "name": "python3"
  },
  "language_info": {
   "codemirror_mode": {
    "name": "ipython",
    "version": 3
   },
   "file_extension": ".py",
   "mimetype": "text/x-python",
   "name": "python",
   "nbconvert_exporter": "python",
   "pygments_lexer": "ipython3",
   "version": "3.9.12"
  },
  "orig_nbformat": 4,
  "vscode": {
   "interpreter": {
    "hash": "929eb757b548c43686da14be07befd842a942a01eb9dc843387956885175000a"
   }
  }
 },
 "nbformat": 4,
 "nbformat_minor": 2
}
