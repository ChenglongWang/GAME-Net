{
 "cells": [
  {
   "cell_type": "code",
   "execution_count": null,
   "metadata": {},
   "outputs": [],
   "source": [
    "import torch\n",
    "import torch_geometric\n",
    "from graph_tools import plotter, extract_adsorbate\n",
    "from functions import get_graph_sample, get_graph_formula, contcar_to_graph\n",
    "from processed_datasets import HetGraphDataset\n",
    "from torch_geometric.data import DataLoader"
   ]
  },
  {
   "cell_type": "markdown",
   "metadata": {},
   "source": [
    "## Biomass"
   ]
  },
  {
   "cell_type": "code",
   "execution_count": null,
   "metadata": {},
   "outputs": [],
   "source": [
    "biomass = []\n",
    "folder = \"BM_dataset/Biomass/\"\n",
    "metals = [\"ni\", \"ru\"]\n",
    "molecules = [\"mol1\", \"mol2\", \"mol3\", \"mol4\", \"mol5\"]\n",
    "for metal in metals:\n",
    "    for molecule in molecules:\n",
    "        graph = get_graph_sample(\"{}{}-{}\".format(folder, metal, molecule),\n",
    "                                 \"{}{}-0000\".format(folder, metal), family=\"biomass\", second_order=True)\n",
    "        adsorbate = extract_adsorbate(graph)\n",
    "        if graph.num_nodes == adsorbate.num_nodes:  #filter\n",
    "            pass\n",
    "        else:\n",
    "            biomass.append(graph)\n",
    "for molecule in molecules:\n",
    "    biomass.append(get_graph_sample(\"{}{}\".format(folder, molecule), gas_mol=True, family=\"biomass\"))    \n",
    "print(len(biomass))\n"
   ]
  },
  {
   "cell_type": "markdown",
   "metadata": {},
   "source": [
    "## Polyurethanes"
   ]
  },
  {
   "cell_type": "code",
   "execution_count": null,
   "metadata": {},
   "outputs": [],
   "source": [
    "\n",
    "polyurethanes = []\n",
    "folder = \"BM_dataset/Polyurethanes/\"\n",
    "metals = [\"ag\", \"au\", \"cu\"]\n",
    "molecules = [\"mol16\", \"mol17\", \"mol18\", \"mol19\", \"mol41\"]\n",
    "for metal in metals:\n",
    "    if metal == \"au\":\n",
    "        for molecule in molecules:\n",
    "            graph = get_graph_sample(\"{}{}-{}\".format(folder, metal, molecule),\n",
    "                                     \"{}{}-sur\".format(folder, metal), family=\"polyurethanes\", \n",
    "                                     surf_multiplier=4, second_order=True)\n",
    "            adsorbate = extract_adsorbate(graph)\n",
    "            if adsorbate.num_nodes == graph.num_nodes:\n",
    "                pass\n",
    "            else:\n",
    "                polyurethanes.append(graph)\n",
    "    else:\n",
    "        for molecule in molecules:\n",
    "            graph = get_graph_sample(\"{}{}-{}\".format(folder, metal, molecule),\n",
    "                                     \"{}{}-sur\".format(folder, metal), family=\"polyurethanes\")\n",
    "            adsorbate = extract_adsorbate(graph)\n",
    "            if adsorbate.num_nodes == graph.num_nodes:\n",
    "                pass\n",
    "            else:\n",
    "                polyurethanes.append(graph)\n",
    "for molecule in molecules:\n",
    "    polyurethanes.append(get_graph_sample(\"{}{}\".format(folder, molecule), gas_mol=True, family=\"polyurethanes\"))\n",
    "        \n",
    "print(len(polyurethanes))"
   ]
  },
  {
   "cell_type": "code",
   "execution_count": null,
   "metadata": {},
   "outputs": [],
   "source": [
    "for graph in polyurethanes:\n",
    "    print(graph.y)"
   ]
  },
  {
   "cell_type": "markdown",
   "metadata": {},
   "source": [
    "## Plastics"
   ]
  },
  {
   "cell_type": "code",
   "execution_count": null,
   "metadata": {},
   "outputs": [],
   "source": [
    "plastics = []\n",
    "folder = \"BM_dataset/Plastics/\"\n",
    "metals = [\"pt\", \"ru\"]\n",
    "molecules = [\"PE\", \"PPit\", \"PPst\", \"PET\", \"PS\"]\n",
    "for metal in metals:\n",
    "    for molecule in molecules:\n",
    "        graph = get_graph_sample(\"{}{}-{}\".format(folder, metal, molecule),\n",
    "                                 \"{}{}-0000\".format(folder, metal), \n",
    "                                 family=\"plastics\", \n",
    "                                 surf_multiplier=4, \n",
    "                                 second_order=True)\n",
    "        adsorbate = extract_adsorbate(graph)\n",
    "        if graph.num_nodes == adsorbate.num_nodes:\n",
    "            pass\n",
    "        else:\n",
    "            plastics.append(graph)\n",
    "        \n",
    "for molecule in molecules:\n",
    "    plastics.append(get_graph_sample(\"{}{}\".format(folder, molecule), gas_mol=True, family=\"plastics\"))\n",
    "        \n",
    "print(len(plastics))"
   ]
  },
  {
   "cell_type": "code",
   "execution_count": null,
   "metadata": {},
   "outputs": [],
   "source": [
    "for graph in plastics:\n",
    "    print(graph.y)"
   ]
  },
  {
   "cell_type": "code",
   "execution_count": null,
   "metadata": {},
   "outputs": [],
   "source": [
    "BM_dataset = plastics + polyurethanes + biomass\n",
    "print(BM_dataset)"
   ]
  },
  {
   "cell_type": "code",
   "execution_count": null,
   "metadata": {},
   "outputs": [],
   "source": [
    "print(len(BM_dataset))"
   ]
  },
  {
   "cell_type": "code",
   "execution_count": null,
   "metadata": {},
   "outputs": [],
   "source": [
    "from torch_geometric.loader import DataLoader\n"
   ]
  },
  {
   "cell_type": "code",
   "execution_count": null,
   "metadata": {},
   "outputs": [],
   "source": [
    "\n",
    "torch.save(BM_dataset, \"./BM_dataset/Graph_dataset.pt\")\n",
    "\n"
   ]
  },
  {
   "cell_type": "code",
   "execution_count": null,
   "metadata": {},
   "outputs": [],
   "source": [
    "check = torch.load(\"./BM_dataset/Graph_dataset.pt\")"
   ]
  },
  {
   "cell_type": "code",
   "execution_count": null,
   "metadata": {},
   "outputs": [],
   "source": [
    "check"
   ]
  },
  {
   "cell_type": "code",
   "execution_count": null,
   "metadata": {},
   "outputs": [],
   "source": []
  }
 ],
 "metadata": {
  "kernelspec": {
   "display_name": "Python 3.9.12 ('GNN')",
   "language": "python",
   "name": "python3"
  },
  "language_info": {
   "codemirror_mode": {
    "name": "ipython",
    "version": 3
   },
   "file_extension": ".py",
   "mimetype": "text/x-python",
   "name": "python",
   "nbconvert_exporter": "python",
   "pygments_lexer": "ipython3",
   "version": "3.9.12"
  },
  "vscode": {
   "interpreter": {
    "hash": "929eb757b548c43686da14be07befd842a942a01eb9dc843387956885175000a"
   }
  }
 },
 "nbformat": 4,
 "nbformat_minor": 2
}
