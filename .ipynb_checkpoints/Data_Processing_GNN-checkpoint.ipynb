{
 "cells": [
  {
   "cell_type": "markdown",
   "id": "a6738217",
   "metadata": {},
   "source": [
    "Notebook for generating the samples for the GNN model.\n",
    "For each dataset, the final output is the Dataset.dat file needed by the GNN model."
   ]
  },
  {
   "cell_type": "code",
   "execution_count": 1,
   "id": "7db97384",
   "metadata": {},
   "outputs": [],
   "source": [
    "from pathlib import Path\n",
    "from collections import namedtuple\n",
    "import networkx as nx\n",
    "from pyRDTP.geomio import file_to_mol\n",
    "from pyRDTP.molecule import Molecule\n",
    "from functions import *\n",
    "from paths import *"
   ]
  },
  {
   "cell_type": "markdown",
   "id": "38eaffde",
   "metadata": {},
   "source": [
    "# Create raw dataset"
   ]
  },
  {
   "cell_type": "code",
   "execution_count": 15,
   "id": "3c327e1a",
   "metadata": {},
   "outputs": [],
   "source": [
    "voronoi_tolerance = 0.25"
   ]
  },
  {
   "cell_type": "markdown",
   "id": "a71e994d",
   "metadata": {},
   "source": [
    "## Santiago's datasets"
   ]
  },
  {
   "cell_type": "markdown",
   "id": "b412eb3f",
   "metadata": {
    "heading_collapsed": true
   },
   "source": [
    "### Sensitivity analysis on Voronoi algorithm tolerance"
   ]
  },
  {
   "cell_type": "code",
   "execution_count": 2,
   "id": "0d754cd1",
   "metadata": {
    "hidden": true
   },
   "outputs": [
    {
     "ename": "KeyboardInterrupt",
     "evalue": "",
     "output_type": "error",
     "traceback": [
      "\u001b[0;31m---------------------------------------------------------------------------\u001b[0m",
      "\u001b[0;31mKeyboardInterrupt\u001b[0m                         Traceback (most recent call last)",
      "\u001b[0;32m/tmp/ipykernel_16578/777588066.py\u001b[0m in \u001b[0;36m<module>\u001b[0;34m\u001b[0m\n\u001b[1;32m      6\u001b[0m     \u001b[0mtot_samples\u001b[0m \u001b[0;34m=\u001b[0m \u001b[0;36m0\u001b[0m\u001b[0;34m\u001b[0m\u001b[0;34m\u001b[0m\u001b[0m\n\u001b[1;32m      7\u001b[0m     \u001b[0;32mfor\u001b[0m \u001b[0mdataset\u001b[0m \u001b[0;32min\u001b[0m \u001b[0msantiago_datasets\u001b[0m\u001b[0;34m:\u001b[0m\u001b[0;34m\u001b[0m\u001b[0;34m\u001b[0m\u001b[0m\n\u001b[0;32m----> 8\u001b[0;31m         \u001b[0mmy_tuple\u001b[0m \u001b[0;34m=\u001b[0m \u001b[0mget_tuples\u001b[0m\u001b[0;34m(\u001b[0m\u001b[0mdataset\u001b[0m\u001b[0;34m,\u001b[0m \u001b[0mvoronoi_tolerance\u001b[0m\u001b[0;34m)\u001b[0m\u001b[0;34m\u001b[0m\u001b[0;34m\u001b[0m\u001b[0m\n\u001b[0m\u001b[1;32m      9\u001b[0m         \u001b[0mexport_tuples\u001b[0m\u001b[0;34m(\u001b[0m\u001b[0mpaths\u001b[0m\u001b[0;34m[\u001b[0m\u001b[0mdataset\u001b[0m\u001b[0;34m]\u001b[0m\u001b[0;34m[\u001b[0m\u001b[0;34m'dataset'\u001b[0m\u001b[0;34m]\u001b[0m\u001b[0;34m,\u001b[0m \u001b[0mmy_tuple\u001b[0m\u001b[0;34m)\u001b[0m\u001b[0;34m\u001b[0m\u001b[0;34m\u001b[0m\u001b[0m\n\u001b[1;32m     10\u001b[0m         \u001b[0mx\u001b[0m \u001b[0;34m=\u001b[0m \u001b[0mgeometry_to_graph_analysis\u001b[0m\u001b[0;34m(\u001b[0m\u001b[0mdataset\u001b[0m\u001b[0;34m)\u001b[0m\u001b[0;34m\u001b[0m\u001b[0;34m\u001b[0m\u001b[0m\n",
      "\u001b[0;32m~/Desktop/GNN/functions.py\u001b[0m in \u001b[0;36mget_tuples\u001b[0;34m(dataset, voronoi_tolerance)\u001b[0m\n\u001b[1;32m    135\u001b[0m                 \u001b[0;32mcontinue\u001b[0m\u001b[0;34m\u001b[0m\u001b[0;34m\u001b[0m\u001b[0m\n\u001b[1;32m    136\u001b[0m             \u001b[0;32mtry\u001b[0m\u001b[0;34m:\u001b[0m\u001b[0;34m\u001b[0m\u001b[0;34m\u001b[0m\u001b[0m\n\u001b[0;32m--> 137\u001b[0;31m                 \u001b[0mmol\u001b[0m \u001b[0;34m=\u001b[0m \u001b[0mmol_to_ensemble\u001b[0m\u001b[0;34m(\u001b[0m\u001b[0mmol\u001b[0m\u001b[0;34m,\u001b[0m \u001b[0mvoronoi_tolerance\u001b[0m\u001b[0;34m)\u001b[0m\u001b[0;34m\u001b[0m\u001b[0;34m\u001b[0m\u001b[0m\n\u001b[0m\u001b[1;32m    138\u001b[0m                 \u001b[0mgraph\u001b[0m \u001b[0;34m=\u001b[0m \u001b[0mensemble_to_graph\u001b[0m\u001b[0;34m(\u001b[0m\u001b[0mmol\u001b[0m\u001b[0;34m)\u001b[0m\u001b[0;34m\u001b[0m\u001b[0;34m\u001b[0m\u001b[0m\n\u001b[1;32m    139\u001b[0m             \u001b[0;32mexcept\u001b[0m \u001b[0mValueError\u001b[0m\u001b[0;34m:\u001b[0m\u001b[0;34m\u001b[0m\u001b[0;34m\u001b[0m\u001b[0m\n",
      "\u001b[0;32m~/Desktop/GNN/functions.py\u001b[0m in \u001b[0;36mmol_to_ensemble\u001b[0;34m(molecule, voronoi_tolerance)\u001b[0m\n\u001b[1;32m     37\u001b[0m     \u001b[0;31m# 1) define whole connectivity in the cell\u001b[0m\u001b[0;34m\u001b[0m\u001b[0;34m\u001b[0m\u001b[0m\n\u001b[1;32m     38\u001b[0m     \u001b[0;31m# molecule.connectivity_search_voronoi(tolerance=voronoi_tolerance)\u001b[0m\u001b[0;34m\u001b[0m\u001b[0;34m\u001b[0m\u001b[0m\n\u001b[0;32m---> 39\u001b[0;31m     \u001b[0mmolecule\u001b[0m \u001b[0;34m=\u001b[0m \u001b[0mconnectivity_search_voronoi\u001b[0m\u001b[0;34m(\u001b[0m\u001b[0mmolecule\u001b[0m\u001b[0;34m,\u001b[0m \u001b[0mtolerance\u001b[0m\u001b[0;34m=\u001b[0m\u001b[0mvoronoi_tolerance\u001b[0m\u001b[0;34m)\u001b[0m\u001b[0;34m\u001b[0m\u001b[0;34m\u001b[0m\u001b[0m\n\u001b[0m\u001b[1;32m     40\u001b[0m     \u001b[0;31m# 2) create Molecule object with adsorbate and interacting metal atoms\u001b[0m\u001b[0;34m\u001b[0m\u001b[0;34m\u001b[0m\u001b[0m\n\u001b[1;32m     41\u001b[0m     \u001b[0mnew_atoms\u001b[0m \u001b[0;34m=\u001b[0m \u001b[0;34m[\u001b[0m\u001b[0;34m]\u001b[0m\u001b[0;34m\u001b[0m\u001b[0;34m\u001b[0m\u001b[0m\n",
      "\u001b[0;32m~/Desktop/GNN/connectivity_search_customized.py\u001b[0m in \u001b[0;36mconnectivity_search_voronoi\u001b[0;34m(molecule, tolerance, center)\u001b[0m\n\u001b[1;32m     56\u001b[0m         translator = np.tile(np.arange(coords_arr.shape[1]),\n\u001b[1;32m     57\u001b[0m                              coords_arr.shape[0])\n\u001b[0;32m---> 58\u001b[0;31m         \u001b[0mvor_bonds\u001b[0m \u001b[0;34m=\u001b[0m \u001b[0mVoronoi\u001b[0m\u001b[0;34m(\u001b[0m\u001b[0mcorrected_coords\u001b[0m\u001b[0;34m)\u001b[0m\u001b[0;34m\u001b[0m\u001b[0;34m\u001b[0m\u001b[0m\n\u001b[0m\u001b[1;32m     59\u001b[0m \u001b[0;34m\u001b[0m\u001b[0m\n\u001b[1;32m     60\u001b[0m         \u001b[0mpairs_corr\u001b[0m \u001b[0;34m=\u001b[0m \u001b[0mtranslator\u001b[0m\u001b[0;34m[\u001b[0m\u001b[0mvor_bonds\u001b[0m\u001b[0;34m.\u001b[0m\u001b[0mridge_points\u001b[0m\u001b[0;34m]\u001b[0m\u001b[0;34m\u001b[0m\u001b[0;34m\u001b[0m\u001b[0m\n",
      "\u001b[0;32mqhull.pyx\u001b[0m in \u001b[0;36mscipy.spatial.qhull.Voronoi.__init__\u001b[0;34m()\u001b[0m\n",
      "\u001b[0;32mqhull.pyx\u001b[0m in \u001b[0;36mscipy.spatial.qhull._QhullUser.__init__\u001b[0;34m()\u001b[0m\n",
      "\u001b[0;32mqhull.pyx\u001b[0m in \u001b[0;36mscipy.spatial.qhull.Voronoi._update\u001b[0;34m()\u001b[0m\n",
      "\u001b[0;32mqhull.pyx\u001b[0m in \u001b[0;36mscipy.spatial.qhull._QhullUser._update\u001b[0;34m()\u001b[0m\n",
      "\u001b[0;32m~/anaconda3/envs/GNN/lib/python3.9/site-packages/numpy/core/_methods.py\u001b[0m in \u001b[0;36m_amin\u001b[0;34m(a, axis, out, keepdims, initial, where)\u001b[0m\n\u001b[1;32m     40\u001b[0m     \u001b[0;32mreturn\u001b[0m \u001b[0mumr_maximum\u001b[0m\u001b[0;34m(\u001b[0m\u001b[0ma\u001b[0m\u001b[0;34m,\u001b[0m \u001b[0maxis\u001b[0m\u001b[0;34m,\u001b[0m \u001b[0;32mNone\u001b[0m\u001b[0;34m,\u001b[0m \u001b[0mout\u001b[0m\u001b[0;34m,\u001b[0m \u001b[0mkeepdims\u001b[0m\u001b[0;34m,\u001b[0m \u001b[0minitial\u001b[0m\u001b[0;34m,\u001b[0m \u001b[0mwhere\u001b[0m\u001b[0;34m)\u001b[0m\u001b[0;34m\u001b[0m\u001b[0;34m\u001b[0m\u001b[0m\n\u001b[1;32m     41\u001b[0m \u001b[0;34m\u001b[0m\u001b[0m\n\u001b[0;32m---> 42\u001b[0;31m def _amin(a, axis=None, out=None, keepdims=False,\n\u001b[0m\u001b[1;32m     43\u001b[0m           initial=_NoValue, where=True):\n\u001b[1;32m     44\u001b[0m     \u001b[0;32mreturn\u001b[0m \u001b[0mumr_minimum\u001b[0m\u001b[0;34m(\u001b[0m\u001b[0ma\u001b[0m\u001b[0;34m,\u001b[0m \u001b[0maxis\u001b[0m\u001b[0;34m,\u001b[0m \u001b[0;32mNone\u001b[0m\u001b[0;34m,\u001b[0m \u001b[0mout\u001b[0m\u001b[0;34m,\u001b[0m \u001b[0mkeepdims\u001b[0m\u001b[0;34m,\u001b[0m \u001b[0minitial\u001b[0m\u001b[0;34m,\u001b[0m \u001b[0mwhere\u001b[0m\u001b[0;34m)\u001b[0m\u001b[0;34m\u001b[0m\u001b[0;34m\u001b[0m\u001b[0m\n",
      "\u001b[0;31mKeyboardInterrupt\u001b[0m: "
     ]
    }
   ],
   "source": [
    "tol_list = [0.25, 0.5, 0.75, 1.0]\n",
    "\n",
    "for i in tol_list:\n",
    "    voronoi_tolerance = i\n",
    "    bad_samples = 0\n",
    "    tot_samples = 0\n",
    "    for dataset in santiago_datasets:\n",
    "        my_tuple = get_tuples(dataset, voronoi_tolerance)\n",
    "        export_tuples(paths[dataset]['dataset'], my_tuple)\n",
    "        x = geometry_to_graph_analysis(dataset)\n",
    "        if dataset[:3] != \"gas\":\n",
    "            bad_samples += x[0]\n",
    "            tot_samples += x[2]\n",
    "    print(\"------------------------------------\")\n",
    "    print(\"Voronoi tolerance: {}\".format(i))\n",
    "    print(\"Bad samples: {}\".format(bad_samples))\n",
    "    print(\"Total samples: {}\".format(tot_samples))\n",
    "    print(\"Bad conversion percentage: {}%\".format(bad_samples*100/tot_samples))\n",
    "    print(\"------------------------------------\")"
   ]
  },
  {
   "cell_type": "markdown",
   "id": "ebda0f65",
   "metadata": {},
   "source": [
    "### Generate Dataset.dat"
   ]
  },
  {
   "cell_type": "code",
   "execution_count": 16,
   "id": "ff0a73fd",
   "metadata": {},
   "outputs": [
    {
     "name": "stdout",
     "output_type": "stream",
     "text": [
      "Dataset Name: amides\n",
      "Dataset Size: 180\n",
      "Number of badly represented data: 3\n",
      "Percentage of bad representations: 1.67%\n",
      "-------------------------------------------\n",
      "Dataset Name: amidines\n",
      "Dataset Size: 468\n",
      "Number of badly represented data: 0\n",
      "Percentage of bad representations: 0.00%\n",
      "-------------------------------------------\n",
      "Dataset Name: group2\n",
      "Dataset Size: 326\n",
      "Number of badly represented data: 83\n",
      "Percentage of bad representations: 25.46%\n",
      "-------------------------------------------\n",
      "Dataset Name: group2b\n",
      "Dataset Size: 60\n",
      "Number of badly represented data: 16\n",
      "Percentage of bad representations: 26.67%\n",
      "-------------------------------------------\n",
      "Dataset Name: group3S\n",
      "Dataset Size: 228\n",
      "Number of badly represented data: 0\n",
      "Percentage of bad representations: 0.00%\n",
      "-------------------------------------------\n",
      "Dataset Name: group3N\n",
      "Dataset Size: 384\n",
      "Number of badly represented data: 0\n",
      "Percentage of bad representations: 0.00%\n",
      "-------------------------------------------\n",
      "Dataset Name: group4\n",
      "Dataset Size: 228\n",
      "Number of badly represented data: 40\n",
      "Percentage of bad representations: 17.54%\n",
      "-------------------------------------------\n",
      "Dataset Name: carbamate_esters\n",
      "Dataset Size: 180\n",
      "Number of badly represented data: 21\n",
      "Percentage of bad representations: 11.67%\n",
      "-------------------------------------------\n",
      "Dataset Name: oximes\n",
      "Dataset Size: 144\n",
      "Number of badly represented data: 8\n",
      "Percentage of bad representations: 5.56%\n",
      "-------------------------------------------\n",
      "Dataset Name: aromatics\n",
      "Dataset Size: 312\n",
      "Number of badly represented data: 26\n",
      "Percentage of bad representations: 8.33%\n",
      "-------------------------------------------\n",
      "Dataset Name: aromatics2\n",
      "Dataset Size: 132\n",
      "Number of badly represented data: 7\n",
      "Percentage of bad representations: 5.30%\n",
      "-------------------------------------------\n",
      "gas_amides dataset contains gas phase molecules\n",
      "------------------------------------------\n",
      "gas_amidines dataset contains gas phase molecules\n",
      "------------------------------------------\n",
      "gas_aromatics dataset contains gas phase molecules\n",
      "------------------------------------------\n",
      "gas_aromatics2 dataset contains gas phase molecules\n",
      "------------------------------------------\n",
      "gas_carbamate_esters dataset contains gas phase molecules\n",
      "------------------------------------------\n",
      "gas_group2 dataset contains gas phase molecules\n",
      "------------------------------------------\n",
      "gas_group2b dataset contains gas phase molecules\n",
      "------------------------------------------\n",
      "gas_group3N dataset contains gas phase molecules\n",
      "------------------------------------------\n",
      "gas_group3S dataset contains gas phase molecules\n",
      "------------------------------------------\n",
      "gas_group4 dataset contains gas phase molecules\n",
      "------------------------------------------\n",
      "gas_oximes dataset contains gas phase molecules\n",
      "------------------------------------------\n",
      "Voronoi tolerance: 0.25\n",
      "Bad samples: 204\n",
      "Total samples: 2642\n",
      "Percentage of bad samples: 7.721423164269493%\n"
     ]
    }
   ],
   "source": [
    "bad_samples = 0\n",
    "tot_samples = 0\n",
    "for dataset in santiago_datasets:\n",
    "    my_tuple = get_tuples(dataset, voronoi_tolerance)\n",
    "    export_tuples(paths[dataset]['dataset'], my_tuple)\n",
    "    x = geometry_to_graph_analysis(dataset)\n",
    "    if dataset[:3] != \"gas\":\n",
    "        bad_samples += x[0]\n",
    "        tot_samples += x[2]\n",
    "print(\"Voronoi tolerance: {}\".format(voronoi_tolerance))\n",
    "print(\"Bad samples: {}\".format(bad_samples))\n",
    "print(\"Total samples: {}\".format(tot_samples))\n",
    "print(\"Percentage of bad samples: {}%\".format(bad_samples * 100/tot_samples))"
   ]
  },
  {
   "cell_type": "markdown",
   "id": "47181479",
   "metadata": {},
   "source": [
    "## Intermediates"
   ]
  },
  {
   "cell_type": "code",
   "execution_count": 17,
   "id": "c65d97c0",
   "metadata": {},
   "outputs": [],
   "source": [
    "with open(paths['Intermediates']['ener'], 'r') as infile:\n",
    "    lines = infile.readlines()\n",
    "\n",
    "ener_dict = {}\n",
    "for line in lines:\n",
    "    split = line.split()\n",
    "    if len(split) != 2 or len(split[0]) != 7:\n",
    "        continue\n",
    "    ener_dict[split[0]] = float(split[1])\n",
    "    \n",
    "mol_dict = {}\n",
    "for contcar in paths['Intermediates']['geom'].glob('./*.contcar'):\n",
    "    mol_dict[contcar.stem] = file_to_mol(contcar, 'contcar', bulk=False)"
   ]
  },
  {
   "cell_type": "code",
   "execution_count": 18,
   "id": "a56bd93c",
   "metadata": {},
   "outputs": [
    {
     "name": "stdout",
     "output_type": "stream",
     "text": [
      "i112101 not found\n"
     ]
    }
   ],
   "source": [
    "Intermediates = namedtuple('Intermediates', ['code', 'mol', 'graph', 'energy'])\n",
    "surf_ener = ener_dict['i000000']  # Cu slab energy\n",
    "\n",
    "Intermediates_dict = {}\n",
    "for key, mol in mol_dict.items():\n",
    "    if key == \"i000000\":\n",
    "        continue\n",
    "    code = key[1:]\n",
    "    try:\n",
    "        energy = ener_dict[key] - surf_ener\n",
    "    except KeyError:\n",
    "        print(f'{key} not found')\n",
    "        continue\n",
    "    try:\n",
    "        mol = mol_to_ensemble(mol, voronoi_tolerance) \n",
    "        graph = ensemble_to_graph(mol)  \n",
    "    except ValueError:\n",
    "        print(f'{key} not converting to graph')\n",
    "        continue\n",
    "\n",
    "    Intermediates_dict[code] = Intermediates(code=code, mol=mol, graph=graph, energy=energy)"
   ]
  },
  {
   "cell_type": "code",
   "execution_count": 19,
   "id": "2523653b",
   "metadata": {},
   "outputs": [
    {
     "name": "stdout",
     "output_type": "stream",
     "text": [
      "Dataset Name: Intermediates\n",
      "Dataset Size: 880\n",
      "Number of badly represented data: 31\n",
      "Percentage of bad representations: 3.52%\n",
      "-------------------------------------------\n"
     ]
    },
    {
     "data": {
      "text/plain": [
       "(31,\n",
       " ['34110f',\n",
       "  '4a1101',\n",
       "  '123102',\n",
       "  '362106',\n",
       "  '141101',\n",
       "  '362109',\n",
       "  '361108',\n",
       "  '481209',\n",
       "  '361202',\n",
       "  '371203',\n",
       "  '373101',\n",
       "  '461101',\n",
       "  '48110a',\n",
       "  '140101',\n",
       "  '44210f',\n",
       "  '010101',\n",
       "  '382101',\n",
       "  '482101',\n",
       "  '381201',\n",
       "  '380101',\n",
       "  '260101',\n",
       "  '113101',\n",
       "  '021101',\n",
       "  '461123',\n",
       "  '4a1201',\n",
       "  '242105',\n",
       "  '34220f',\n",
       "  '442109',\n",
       "  '302201',\n",
       "  '481106',\n",
       "  '372104'],\n",
       " 880)"
      ]
     },
     "execution_count": 19,
     "metadata": {},
     "output_type": "execute_result"
    }
   ],
   "source": [
    "export_tuples(paths['Intermediates']['dataset'], Intermediates_dict)\n",
    "geometry_to_graph_analysis(\"Intermediates\")"
   ]
  },
  {
   "cell_type": "markdown",
   "id": "8326a302",
   "metadata": {},
   "source": [
    "## RPCA"
   ]
  },
  {
   "cell_type": "code",
   "execution_count": 20,
   "id": "8dcff101",
   "metadata": {},
   "outputs": [],
   "source": [
    "with open(paths['RPCA']['ener'], 'r') as infile:\n",
    "    lines = infile.readlines()\n",
    "ener_dict = {}\n",
    "for line in lines:\n",
    "    split = line.split()\n",
    "    if len(split) != 2:\n",
    "        continue\n",
    "    ener_dict[split[0]] = float(split[1])\n",
    "    \n",
    "mol_dict = {}\n",
    "for contcar in paths['RPCA']['geom'].glob('./*.contcar'):\n",
    "    mol_dict[contcar.stem] = file_to_mol(contcar, 'contcar', bulk=False)"
   ]
  },
  {
   "cell_type": "code",
   "execution_count": 21,
   "id": "a1e26802",
   "metadata": {},
   "outputs": [],
   "source": [
    "RPCA = namedtuple('RPCA', ['code', 'mol', 'graph', 'energy'])\n",
    "surf_ener = {}\n",
    "for key, value in ener_dict.items():\n",
    "    if 'Cu' in key:\n",
    "        continue    # Already included in Intermediates\n",
    "    if '0000' in key:\n",
    "        elem, _ = key.split('_')\n",
    "        surf_ener[elem] = float(value)\n",
    "\n",
    "RPCA_dict = {}\n",
    "for key, mol in mol_dict.items():\n",
    "    if 'Cu' in key:\n",
    "        continue\n",
    "    if '0000' in key:\n",
    "        continue\n",
    "    elem, _ = key.split('_')\n",
    "    try:\n",
    "        energy = ener_dict[key] - surf_ener[elem]\n",
    "    except KeyError:\n",
    "        print(f'{key} not found')\n",
    "        continue\n",
    "    try:\n",
    "        mol = mol_to_ensemble(mol, voronoi_tolerance)\n",
    "        graph = ensemble_to_graph(mol)\n",
    "    except ValueError:\n",
    "        print(f'{key} not converting to graph')\n",
    "        continue\n",
    "\n",
    "    RPCA_dict[key] = RPCA(code=key, mol=mol, graph=graph, energy=energy)"
   ]
  },
  {
   "cell_type": "code",
   "execution_count": 22,
   "id": "85ad17fe",
   "metadata": {},
   "outputs": [
    {
     "name": "stdout",
     "output_type": "stream",
     "text": [
      "Dataset Name: RPCA\n",
      "Dataset Size: 853\n",
      "Number of badly represented data: 21\n",
      "Percentage of bad representations: 2.46%\n",
      "-------------------------------------------\n"
     ]
    },
    {
     "data": {
      "text/plain": [
       "(21,\n",
       " ['Rh_2601',\n",
       "  'Pt_2601',\n",
       "  'Pt_2621',\n",
       "  'Ru_1401',\n",
       "  'Pt_1401',\n",
       "  'Ru_2601',\n",
       "  'Pt_2611',\n",
       "  'Pd_1401',\n",
       "  'Pd_0211',\n",
       "  'Ir_2601',\n",
       "  'Rh_1401',\n",
       "  'Ni_1401',\n",
       "  'Os_2601',\n",
       "  'Pd_2601',\n",
       "  'Pt_1411',\n",
       "  'Zn_1401',\n",
       "  'Os_1401',\n",
       "  'Pt_0211',\n",
       "  'Ir_1401',\n",
       "  'Ni_2601',\n",
       "  'Pd_2611'],\n",
       " 853)"
      ]
     },
     "execution_count": 22,
     "metadata": {},
     "output_type": "execute_result"
    }
   ],
   "source": [
    "export_tuples(paths['RPCA']['dataset'], RPCA_dict)\n",
    "geometry_to_graph_analysis(\"RPCA\")"
   ]
  },
  {
   "cell_type": "markdown",
   "id": "a8f9a14d",
   "metadata": {},
   "source": [
    "## Benson"
   ]
  },
  {
   "cell_type": "code",
   "execution_count": 23,
   "id": "bf38ac26",
   "metadata": {},
   "outputs": [],
   "source": [
    "with open(paths['Benson']['ener'], 'r') as infile:\n",
    "    lines = infile.readlines()\n",
    "\n",
    "ener_dict = {}\n",
    "for line in lines:\n",
    "    split = line.split()\n",
    "    if len(split) != 2:\n",
    "        continue\n",
    "    ener_dict[split[0]] = float(split[1])\n",
    "    \n",
    "mol_dict = {}\n",
    "for contcar in paths['Benson']['geom'].glob('./*.contcar'):\n",
    "    mol_dict[contcar.stem] = file_to_mol(contcar, 'contcar', bulk=False)"
   ]
  },
  {
   "cell_type": "code",
   "execution_count": 24,
   "id": "2b29d4d9",
   "metadata": {},
   "outputs": [],
   "source": [
    "Benson = namedtuple('Benson', ['code', 'mol', 'graph', 'energy'])\n",
    "surf_ener = {}\n",
    "for key, value in ener_dict.items():\n",
    "    if 'surf' in key:\n",
    "        elem, _ = key.split('_')\n",
    "        surf_ener[elem] = float(value)\n",
    "\n",
    "Benson_dict = {}\n",
    "for key, mol in mol_dict.items():\n",
    "    elem, _ = key.split('_')\n",
    "    try:\n",
    "        energy = ener_dict[key] - surf_ener[elem]\n",
    "    except KeyError:\n",
    "        print(f'{key} not found')\n",
    "        continue\n",
    "    try:\n",
    "        mol = mol_to_ensemble(mol, voronoi_tolerance)\n",
    "        graph = ensemble_to_graph(mol)\n",
    "    except ValueError:\n",
    "        print(f'{key} not converting to graph')\n",
    "        continue\n",
    "\n",
    "    Benson_dict[key] = Benson(code=key, mol=mol, graph=graph, energy=energy)"
   ]
  },
  {
   "cell_type": "code",
   "execution_count": 25,
   "id": "59bdeaa0",
   "metadata": {},
   "outputs": [
    {
     "name": "stdout",
     "output_type": "stream",
     "text": [
      "Dataset Name: Benson\n",
      "Dataset Size: 216\n",
      "Number of badly represented data: 65\n",
      "Percentage of bad representations: 30.09%\n",
      "-------------------------------------------\n"
     ]
    },
    {
     "data": {
      "text/plain": [
       "(65,\n",
       " ['Cu_mol25',\n",
       "  'Cu_mol31',\n",
       "  'Cu_mol21',\n",
       "  'Cu_mol13',\n",
       "  'Cu_mol27',\n",
       "  'Ni_mol41',\n",
       "  'Cu_mol53',\n",
       "  'Cu_mol12',\n",
       "  'Cu_mol47',\n",
       "  'Au_mol3',\n",
       "  'Cu_mol34',\n",
       "  'Cu_mol2',\n",
       "  'Ni_mol13',\n",
       "  'Cu_mol18',\n",
       "  'Cu_mol1',\n",
       "  'Au_mol2',\n",
       "  'Cu_mol52',\n",
       "  'Cu_mol32',\n",
       "  'Cu_mol33',\n",
       "  'Cu_mol24',\n",
       "  'Ni_mol3',\n",
       "  'Ni_mol2',\n",
       "  'Cu_mol26',\n",
       "  'Cu_mol6',\n",
       "  'Cu_mol37',\n",
       "  'Ni_mol35',\n",
       "  'Cu_mol40',\n",
       "  'Ni_mol1',\n",
       "  'Cu_mol19',\n",
       "  'Cu_mol50',\n",
       "  'Cu_mol39',\n",
       "  'Ni_mol47',\n",
       "  'Cu_mol11',\n",
       "  'Cu_mol44',\n",
       "  'Cu_mol49',\n",
       "  'Cu_mol46',\n",
       "  'Cu_mol20',\n",
       "  'Ni_mol38',\n",
       "  'Cu_mol35',\n",
       "  'Cu_mol3',\n",
       "  'Ag_mol3',\n",
       "  'Ni_mol40',\n",
       "  'Cu_mol17',\n",
       "  'Cu_mol45',\n",
       "  'Ni_mol50',\n",
       "  'Cu_mol15',\n",
       "  'Cu_mol4',\n",
       "  'Ni_mol37',\n",
       "  'Cu_mol29',\n",
       "  'Cu_mol9',\n",
       "  'Cu_mol23',\n",
       "  'Ni_mol10',\n",
       "  'Cu_mol10',\n",
       "  'Cu_mol28',\n",
       "  'Cu_mol54',\n",
       "  'Cu_mol5',\n",
       "  'Cu_mol22',\n",
       "  'Ni_mol12',\n",
       "  'Cu_mol41',\n",
       "  'Cu_mol36',\n",
       "  'Cu_mol38',\n",
       "  'Ni_mol9',\n",
       "  'Cu_mol30',\n",
       "  'Ag_mol2',\n",
       "  'Cu_mol7'],\n",
       " 216)"
      ]
     },
     "execution_count": 25,
     "metadata": {},
     "output_type": "execute_result"
    }
   ],
   "source": [
    "export_tuples(paths['Benson']['dataset'], Benson_dict)\n",
    "geometry_to_graph_analysis(\"Benson\")"
   ]
  },
  {
   "cell_type": "markdown",
   "id": "cfe35af2",
   "metadata": {},
   "source": [
    "## Alloys"
   ]
  },
  {
   "cell_type": "code",
   "execution_count": 26,
   "id": "0ab5cf88",
   "metadata": {},
   "outputs": [],
   "source": [
    "with open(paths['Alloys']['ener'], 'r') as infile:\n",
    "    lines = infile.readlines()\n",
    "ener_dict = {}\n",
    "for line in lines:\n",
    "    split = line.split()\n",
    "    if len(split) != 2:\n",
    "        continue\n",
    "    ener_dict[split[0]] = float(split[1])\n",
    "    \n",
    "mol_dict = {}\n",
    "for contcar in paths['Alloys']['geom'].glob('./*.contcar'):\n",
    "    mol_dict[contcar.stem] = file_to_mol(contcar, 'contcar', bulk=False)"
   ]
  },
  {
   "cell_type": "code",
   "execution_count": 27,
   "id": "33a0b009",
   "metadata": {},
   "outputs": [
    {
     "name": "stdout",
     "output_type": "stream",
     "text": [
      "sa-agir-0011 not found\n",
      "ol-oszn-0000 not converting to graph\n",
      "sa-nizn-0000 not converting to graph\n",
      "sa-auos-0011 not found\n",
      "ss-agau-0000 not converting to graph\n",
      "ss-znpt-0000 not converting to graph\n",
      "sa-curh-0000 not converting to graph\n",
      "ss-irre-0000 not converting to graph\n",
      "sa-znru-0000 not converting to graph\n",
      "sa-ospd-0000 not converting to graph\n",
      "sa-ptzn-0000 not converting to graph\n",
      "ol-irag-0000 not converting to graph\n",
      "sa-ptcd-0000 not converting to graph\n",
      "sa-agir-0000 not converting to graph\n",
      "ol-rure-0000 not converting to graph\n",
      "sa-znni-0000 not converting to graph\n",
      "ol-znir-0000 not converting to graph\n",
      "sa-rure-0000 not converting to graph\n",
      "ol-pdfe-0000 not converting to graph\n",
      "sa-cdag-0000 not converting to graph\n",
      "ss-cdag-0000 not converting to graph\n",
      "sa-nipt-0000 not converting to graph\n",
      "sa-rhcu-0000 not converting to graph\n",
      "ss-ruco-0000 not converting to graph\n",
      "ol-rurh-0000 not converting to graph\n",
      "sa-rhco-0000 not converting to graph\n",
      "ss-nipd-0000 not converting to graph\n",
      "sa-rhni-0000 not converting to graph\n",
      "ol-rhni-0000 not converting to graph\n",
      "ol-cuzn-0000 not converting to graph\n",
      "sa-rhre-0000 not converting to graph\n",
      "ss-ptcd-0000 not converting to graph\n",
      "ss-agni-0000 not converting to graph\n",
      "ss-cupd-0000 not converting to graph\n",
      "ss-aurh-0000 not converting to graph\n",
      "sa-cuni-0000 not converting to graph\n",
      "ss-pdfe-0000 not converting to graph\n",
      "ss-aucu-0000 not converting to graph\n",
      "ol-pdrh-0000 not converting to graph\n",
      "ss-nico-0000 not converting to graph\n",
      "sa-pdcd-0000 not converting to graph\n",
      "ss-rhir-0000 not converting to graph\n",
      "ss-cdau-0000 not converting to graph\n",
      "sa-agru-0000 not converting to graph\n",
      "sa-ruau-0000 not converting to graph\n",
      "ss-zncd-0000 not converting to graph\n",
      "sa-ircu-0000 not converting to graph\n",
      "ss-pdre-0000 not converting to graph\n",
      "sa-rupd-0000 not converting to graph\n",
      "ol-ptni-0000 not converting to graph\n",
      "ss-rurh-0000 not converting to graph\n",
      "ss-auag-0000 not converting to graph\n",
      "sa-znir-0000 not converting to graph\n",
      "ss-ptos-0000 not converting to graph\n",
      "sa-cuzn-0000 not converting to graph\n",
      "ss-ptfe-0000 not converting to graph\n",
      "sa-cdpt-0011 not found\n",
      "ss-ospt-0000 not converting to graph\n",
      "ol-pdre-0000 not converting to graph\n",
      "sa-cuir-0000 not converting to graph\n",
      "ss-aufe-0000 not converting to graph\n",
      "ss-rhru-0000 not converting to graph\n",
      "sa-irpt-0000 not converting to graph\n",
      "ol-rhag-0000 not converting to graph\n",
      "ol-nipd-0000 not converting to graph\n",
      "ss-irzn-0000 not converting to graph\n",
      "sa-zncu-0000 not converting to graph\n",
      "ol-osni-0000 not converting to graph\n",
      "sa-osau-0000 not converting to graph\n",
      "ss-cdpd-0000 not converting to graph\n",
      "ss-ptco-0000 not converting to graph\n",
      "sa-nios-0011 not found\n",
      "sa-cuag-0000 not converting to graph\n",
      "ol-rhos-0000 not converting to graph\n",
      "sa-cdau-0000 not converting to graph\n",
      "sa-auco-0000 not converting to graph\n",
      "ss-iros-0000 not converting to graph\n",
      "sa-aupt-0000 not converting to graph\n",
      "sa-pdru-0000 not converting to graph\n",
      "ol-pdco-0000 not converting to graph\n",
      "sa-irru-0000 not converting to graph\n",
      "ol-osru-0000 not converting to graph\n",
      "ol-ptru-0000 not converting to graph\n",
      "ss-znpd-0000 not converting to graph\n",
      "ol-nife-0000 not converting to graph\n",
      "ss-ptpd-0000 not converting to graph\n",
      "sa-cuco-0000 not converting to graph\n",
      "ss-aure-0000 not converting to graph\n",
      "ss-znru-0000 not converting to graph\n",
      "ss-znau-0000 not converting to graph\n",
      "ol-ircu-0000 not converting to graph\n",
      "sa-osir-0000 not converting to graph\n",
      "ol-znru-0000 not converting to graph\n",
      "ol-irpd-0000 not converting to graph\n",
      "sa-cdpd-0000 not converting to graph\n",
      "ss-agos-0000 not converting to graph\n",
      "ol-znpt-0000 not converting to graph\n",
      "sa-cuco-0011 not found\n",
      "ss-rhzn-0000 not converting to graph\n",
      "sa-pdni-0000 not converting to graph\n",
      "ol-cdpd-0000 not converting to graph\n",
      "ol-rhcu-0000 not converting to graph\n",
      "sa-niru-0000 not converting to graph\n",
      "sa-osre-0000 not converting to graph\n",
      "ol-ospd-0000 not converting to graph\n",
      "ss-cdos-0000 not converting to graph\n",
      "sa-cdzn-0000 not converting to graph\n",
      "sa-cucd-0000 not converting to graph\n",
      "sa-ircd-0000 not converting to graph\n",
      "sa-agpd-0000 not converting to graph\n",
      "sa-rhag-0000 not converting to graph\n",
      "sa-rhru-0000 not converting to graph\n",
      "ol-osre-0000 not converting to graph\n",
      "ss-ruag-0000 not converting to graph\n",
      "sa-pdag-0000 not converting to graph\n",
      "ss-ptni-0000 not converting to graph\n",
      "ol-rhpd-0000 not converting to graph\n",
      "sa-irzn-0011 not found\n",
      "ss-curh-0000 not converting to graph\n",
      "ss-auzn-0000 not converting to graph\n",
      "ol-irzn-0000 not converting to graph\n",
      "ol-aupd-0000 not converting to graph\n",
      "ss-irru-0000 not converting to graph\n",
      "ol-ptcd-0000 not converting to graph\n",
      "ss-agcu-0000 not converting to graph\n",
      "sa-irau-0000 not converting to graph\n",
      "sa-niag-0000 not converting to graph\n",
      "ss-oscu-0000 not converting to graph\n",
      "ol-pdzn-0000 not converting to graph\n",
      "ol-pdcu-0000 not converting to graph\n",
      "ol-rhre-0000 not converting to graph\n",
      "sa-ptfe-0000 not converting to graph\n",
      "sa-rhir-0000 not converting to graph\n",
      "sa-oscd-0000 not converting to graph\n",
      "sa-cdir-0000 not converting to graph\n",
      "sa-znco-0000 not converting to graph\n",
      "ss-osco-0000 not converting to graph\n",
      "ss-irpd-0000 not converting to graph\n",
      "sa-nico-0000 not converting to graph\n",
      "ss-nirh-0000 not converting to graph\n",
      "ss-ruos-0000 not converting to graph\n",
      "ol-ptrh-0000 not converting to graph\n",
      "ol-auag-0000 not converting to graph\n",
      "ol-oscu-0000 not converting to graph\n",
      "ol-irfe-0000 not converting to graph\n",
      "ss-pdru-0000 not converting to graph\n",
      "ss-rhau-0000 not converting to graph\n",
      "ol-ruir-0000 not converting to graph\n",
      "sa-znpd-0000 not converting to graph\n",
      "ss-aucd-0000 not converting to graph\n",
      "ol-znos-0000 not converting to graph\n",
      "sa-agcd-0000 not converting to graph\n"
     ]
    },
    {
     "ename": "ValueError",
     "evalue": "not enough values to unpack (expected 3, got 1)",
     "output_type": "error",
     "traceback": [
      "\u001b[0;31m---------------------------------------------------------------------------\u001b[0m",
      "\u001b[0;31mValueError\u001b[0m                                Traceback (most recent call last)",
      "\u001b[0;32m/tmp/ipykernel_57027/1536178327.py\u001b[0m in \u001b[0;36m<module>\u001b[0;34m\u001b[0m\n\u001b[1;32m      8\u001b[0m \u001b[0mAlloys_dict\u001b[0m \u001b[0;34m=\u001b[0m \u001b[0;34m{\u001b[0m\u001b[0;34m}\u001b[0m\u001b[0;34m\u001b[0m\u001b[0;34m\u001b[0m\u001b[0m\n\u001b[1;32m      9\u001b[0m \u001b[0;32mfor\u001b[0m \u001b[0mkey\u001b[0m\u001b[0;34m,\u001b[0m \u001b[0mmol\u001b[0m \u001b[0;32min\u001b[0m \u001b[0mmol_dict\u001b[0m\u001b[0;34m.\u001b[0m\u001b[0mitems\u001b[0m\u001b[0;34m(\u001b[0m\u001b[0;34m)\u001b[0m\u001b[0;34m:\u001b[0m\u001b[0;34m\u001b[0m\u001b[0;34m\u001b[0m\u001b[0m\n\u001b[0;32m---> 10\u001b[0;31m     \u001b[0msetn\u001b[0m\u001b[0;34m,\u001b[0m \u001b[0melem\u001b[0m\u001b[0;34m,\u001b[0m \u001b[0m_\u001b[0m \u001b[0;34m=\u001b[0m \u001b[0mkey\u001b[0m\u001b[0;34m.\u001b[0m\u001b[0msplit\u001b[0m\u001b[0;34m(\u001b[0m\u001b[0;34m'-'\u001b[0m\u001b[0;34m)\u001b[0m\u001b[0;34m\u001b[0m\u001b[0;34m\u001b[0m\u001b[0m\n\u001b[0m\u001b[1;32m     11\u001b[0m     \u001b[0;32mtry\u001b[0m\u001b[0;34m:\u001b[0m\u001b[0;34m\u001b[0m\u001b[0;34m\u001b[0m\u001b[0m\n\u001b[1;32m     12\u001b[0m         \u001b[0menergy\u001b[0m \u001b[0;34m=\u001b[0m \u001b[0mener_dict\u001b[0m\u001b[0;34m[\u001b[0m\u001b[0mkey\u001b[0m\u001b[0;34m]\u001b[0m \u001b[0;34m-\u001b[0m \u001b[0msurf_ener\u001b[0m\u001b[0;34m[\u001b[0m\u001b[0;34mf'{setn}-{elem}'\u001b[0m\u001b[0;34m]\u001b[0m\u001b[0;34m\u001b[0m\u001b[0;34m\u001b[0m\u001b[0m\n",
      "\u001b[0;31mValueError\u001b[0m: not enough values to unpack (expected 3, got 1)"
     ]
    }
   ],
   "source": [
    "Alloys = namedtuple('Alloys', ['code', 'mol', 'graph', 'energy'])\n",
    "surf_ener = {}\n",
    "for key, value in ener_dict.items():\n",
    "    if '0000' in key:\n",
    "        setn, elem, _ = key.split('-')\n",
    "        surf_ener[f'{setn}-{elem}'] = float(value)\n",
    "\n",
    "Alloys_dict = {}\n",
    "for key, mol in mol_dict.items():\n",
    "    setn, elem, _ = key.split('-')\n",
    "    try:\n",
    "        energy = ener_dict[key] - surf_ener[f'{setn}-{elem}']\n",
    "    except KeyError:\n",
    "        print(f'{key} not found')\n",
    "        continue\n",
    "    try:\n",
    "        mol = mol_to_ensemble(mol, voronoi_tolerance)\n",
    "        graph = ensemble_to_graph(mol)\n",
    "    except ValueError:\n",
    "        print(f'{key} not converting to graph')\n",
    "        continue\n",
    "\n",
    "    Alloys_dict[key] = Alloys(code=key, mol=mol, graph=graph, energy=energy)"
   ]
  },
  {
   "cell_type": "code",
   "execution_count": 28,
   "id": "53ad6240",
   "metadata": {},
   "outputs": [
    {
     "name": "stdout",
     "output_type": "stream",
     "text": [
      "Dataset Name: Alloys\n",
      "Dataset Size: 617\n",
      "Number of badly represented data: 11\n",
      "Percentage of bad representations: 1.78%\n",
      "-------------------------------------------\n"
     ]
    },
    {
     "data": {
      "text/plain": [
       "(11,\n",
       " ['ss-ruco-1401',\n",
       "  'ol-rupt-0111',\n",
       "  'ss-cdni-2621',\n",
       "  'ss-pdcd-2611',\n",
       "  'ss-ptfe-0111',\n",
       "  'ss-cdrh-2402',\n",
       "  'sa-ptpd-1411',\n",
       "  'ss-ruzn-1401',\n",
       "  'ss-cdcu-2423',\n",
       "  'sa-nios-1401',\n",
       "  'ol-osfe-1401'],\n",
       " 617)"
      ]
     },
     "execution_count": 28,
     "metadata": {},
     "output_type": "execute_result"
    }
   ],
   "source": [
    "export_tuples(paths['Alloys']['dataset'], Alloys_dict)\n",
    "geometry_to_graph_analysis(\"Alloys\")"
   ]
  },
  {
   "cell_type": "code",
   "execution_count": null,
   "id": "e301e35c",
   "metadata": {},
   "outputs": [],
   "source": []
  }
 ],
 "metadata": {
  "kernelspec": {
   "display_name": "Python 3 (ipykernel)",
   "language": "python",
   "name": "python3"
  },
  "language_info": {
   "codemirror_mode": {
    "name": "ipython",
    "version": 3
   },
   "file_extension": ".py",
   "mimetype": "text/x-python",
   "name": "python",
   "nbconvert_exporter": "python",
   "pygments_lexer": "ipython3",
   "version": "3.9.7"
  },
  "toc": {
   "base_numbering": 1,
   "nav_menu": {},
   "number_sections": true,
   "sideBar": true,
   "skip_h1_title": false,
   "title_cell": "Table of Contents",
   "title_sidebar": "Contents",
   "toc_cell": false,
   "toc_position": {},
   "toc_section_display": true,
   "toc_window_display": false
  },
  "varInspector": {
   "cols": {
    "lenName": 16,
    "lenType": 16,
    "lenVar": 40
   },
   "kernels_config": {
    "python": {
     "delete_cmd_postfix": "",
     "delete_cmd_prefix": "del ",
     "library": "var_list.py",
     "varRefreshCmd": "print(var_dic_list())"
    },
    "r": {
     "delete_cmd_postfix": ") ",
     "delete_cmd_prefix": "rm(",
     "library": "var_list.r",
     "varRefreshCmd": "cat(var_dic_list()) "
    }
   },
   "types_to_exclude": [
    "module",
    "function",
    "builtin_function_or_method",
    "instance",
    "_Feature"
   ],
   "window_display": false
  }
 },
 "nbformat": 4,
 "nbformat_minor": 5
}
