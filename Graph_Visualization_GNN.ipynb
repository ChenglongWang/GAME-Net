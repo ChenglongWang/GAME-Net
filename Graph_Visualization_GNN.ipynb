{
 "cells": [
  {
   "cell_type": "code",
   "execution_count": null,
   "id": "00a14fef",
   "metadata": {},
   "outputs": [],
   "source": [
    "from graph_tools import plotter\n",
    "from processed_datasets import *\n",
    "import matplotlib.pyplot as plt\n",
    "from functions import get_graph_formula"
   ]
  },
  {
   "cell_type": "markdown",
   "id": "59b256e1",
   "metadata": {},
   "source": [
    "In order to visualize the graphs obtained by the conversion of the chemical objects from the VASP CONTCAR files, you have to use the function graph_tools.plotter. Remember that, since a graph is a purely mathematical object, the visualization will just give information about nodes and connections, no information about spatial localization is provided."
   ]
  },
  {
   "cell_type": "markdown",
   "id": "213682ed",
   "metadata": {
    "heading_collapsed": true
   },
   "source": [
    "# Adsorption configurations"
   ]
  },
  {
   "cell_type": "code",
   "execution_count": null,
   "id": "0c6b7283",
   "metadata": {
    "hidden": true
   },
   "outputs": [],
   "source": [
    "plotter(amidines_dataset[29])"
   ]
  },
  {
   "cell_type": "markdown",
   "id": "5709ce82",
   "metadata": {
    "heading_collapsed": true
   },
   "source": [
    "# Gas molecules"
   ]
  },
  {
   "cell_type": "code",
   "execution_count": null,
   "id": "dcb29e24",
   "metadata": {
    "hidden": true
   },
   "outputs": [],
   "source": [
    "plotter(gas_aromatics_dataset[2])"
   ]
  },
  {
   "cell_type": "markdown",
   "id": "701190e8",
   "metadata": {
    "heading_collapsed": true
   },
   "source": [
    "# Save all graph plots"
   ]
  },
  {
   "cell_type": "code",
   "execution_count": null,
   "id": "e08e57eb",
   "metadata": {
    "hidden": true
   },
   "outputs": [],
   "source": [
    "# BE CAREFUL! 3000 OBJECTS ARE PRESENT, RUNNING THIS CELL WILL TAKE ABOUT 2 HOURS!\n",
    "# IN ORDER TO RUN IT, UNCOMMENT THE ELEMENTS IN THE LIST\n",
    "all_datasets = [#group2_dataset,\n",
    "               #group2b_dataset,\n",
    "               #aromatics_dataset,\n",
    "               #aromatics2_dataset,\n",
    "               #amides_dataset,\n",
    "               #amidines_dataset,\n",
    "               #oximes_dataset,\n",
    "               #carbamate_esters_dataset,\n",
    "               #group3S_dataset,\n",
    "               #group3N_dataset,\n",
    "               #group4_dataset,\n",
    "               #gas_amides_dataset,\n",
    "               #gas_amidines_dataset,\n",
    "               #gas_aromatics_dataset,\n",
    "               #gas_aromatics2_dataset,\n",
    "               #gas_carbamate_esters_dataset,\n",
    "               #gas_group2_dataset,\n",
    "               #gas_group2b_dataset,\n",
    "               #gas_group3N_dataset,\n",
    "               #gas_group3S_dataset,\n",
    "               #gas_group4_dataset,\n",
    "               #gas_oximes_dataset\n",
    "               ] \n",
    "               \n",
    "for dataset in all_datasets:\n",
    "    dataset_name = str(dataset.root)[32:]\n",
    "    counter = 0\n",
    "    #os.mkdir(\"./Images/Graphs/{}\".format(dataset_name))\n",
    "    for graph in dataset:\n",
    "        plotter(graph, font_color=\"black\", alpha=0.9)\n",
    "        counter += 1\n",
    "        label = get_graph_formula(graph, ENCODER.categories_[0])\n",
    "        plt.savefig(\"Images/Graphs/{}/graph_{}_{}\".format(dataset_name, label, counter), dpi=300)\n",
    "        plt.close()"
   ]
  }
 ],
 "metadata": {
  "kernelspec": {
   "display_name": "Python 3.9.12 ('GNN')",
   "language": "python",
   "name": "python3"
  },
  "language_info": {
   "codemirror_mode": {
    "name": "ipython",
    "version": 3
   },
   "file_extension": ".py",
   "mimetype": "text/x-python",
   "name": "python",
   "nbconvert_exporter": "python",
   "pygments_lexer": "ipython3",
   "version": "3.9.12"
  },
  "toc": {
   "base_numbering": 1,
   "nav_menu": {},
   "number_sections": true,
   "sideBar": true,
   "skip_h1_title": false,
   "title_cell": "Table of Contents",
   "title_sidebar": "Contents",
   "toc_cell": false,
   "toc_position": {},
   "toc_section_display": true,
   "toc_window_display": false
  },
  "varInspector": {
   "cols": {
    "lenName": 16,
    "lenType": 16,
    "lenVar": 40
   },
   "kernels_config": {
    "python": {
     "delete_cmd_postfix": "",
     "delete_cmd_prefix": "del ",
     "library": "var_list.py",
     "varRefreshCmd": "print(var_dic_list())"
    },
    "r": {
     "delete_cmd_postfix": ") ",
     "delete_cmd_prefix": "rm(",
     "library": "var_list.r",
     "varRefreshCmd": "cat(var_dic_list()) "
    }
   },
   "types_to_exclude": [
    "module",
    "function",
    "builtin_function_or_method",
    "instance",
    "_Feature"
   ],
   "window_display": false
  },
  "vscode": {
   "interpreter": {
    "hash": "929eb757b548c43686da14be07befd842a942a01eb9dc843387956885175000a"
   }
  }
 },
 "nbformat": 4,
 "nbformat_minor": 5
}
