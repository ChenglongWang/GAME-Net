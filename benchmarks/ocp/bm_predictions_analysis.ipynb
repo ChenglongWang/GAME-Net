{
 "cells": [
  {
   "cell_type": "markdown",
   "id": "69040e41-fb29-4bba-ab3d-934295904445",
   "metadata": {},
   "source": [
    "## Imports "
   ]
  },
  {
   "cell_type": "code",
   "execution_count": null,
   "id": "e433cd7c-6c9d-4f39-bb71-dc6084d5f476",
   "metadata": {},
   "outputs": [],
   "source": [
    "import numpy as np\n",
    "import pandas as pd\n",
    "from pathlib import Path\n",
    "from itertools import chain\n",
    "from ocpmodels.datasets import SinglePointLmdbDataset"
   ]
  },
  {
   "cell_type": "markdown",
   "id": "bca20c13-74d9-4187-8080-e27fedd8733a",
   "metadata": {},
   "source": [
    "## Variables"
   ]
  },
  {
   "cell_type": "code",
   "execution_count": null,
   "id": "54a697ff-7c36-40f0-be0b-1634f27ec834",
   "metadata": {},
   "outputs": [],
   "source": [
    "INITIAL_GEOMETRY = \"contcar\"                # Either use poscar or contcar predictions\n",
    "GEOM_MODEL = \"ensemble\"                     # Geometric model, either full or ensemble\n",
    "GNN_MODEL = \"painn\"                         # GNN model, either dpp, painn or gemnet\n",
    "\n",
    "ROOT_DIR = Path(\"./predictions\")            # Root of the predictions\n",
    "TARBALL = ROOT_DIR/\"ocp_predictions.tar.xz\" # Location of the dataset tarball\n",
    "#TARBALL = None                             # Set to False or None to avoid extraction.\n",
    "DS_NAME = f\"\"\"\\\n",
    "lmdb_bm_{GEOM_MODEL}_{INITIAL_GEOMETRY}\\\n",
    "\"\"\"                                         # Name of the Datasets               \n",
    "DS_DIR = ROOT_DIR/DS_NAME                   # Dataset DIR\n",
    "PREDICT_DIR = DS_DIR/GNN_MODEL              # Prediction DIR\n",
    "SURF_DS_NAME = f\"\"\"\\\n",
    "lmdb_bm_surf_{INITIAL_GEOMETRY}\\\n",
    "\"\"\"                                         # Surface dataset name\n",
    "SURF_DIR = ROOT_DIR/SURF_DS_NAME            # Surf dataset DIR\n",
    "SURF_PREDICT_DIR = SURF_DIR/GNN_MODEL       # Surf predict DIR"
   ]
  },
  {
   "cell_type": "markdown",
   "id": "0c91eed6-bf0c-41c0-beb7-cb7fc3eeba5b",
   "metadata": {},
   "source": [
    "## Extract Tarball"
   ]
  },
  {
   "cell_type": "code",
   "execution_count": null,
   "id": "167ea9ab-2dc3-451a-b233-c882921b4a23",
   "metadata": {},
   "outputs": [],
   "source": [
    "# Extract tarball to DS_DIR location\n",
    "if TARBALL:\n",
    "    import tarfile\n",
    "    tar_ds = tarfile.open(TARBALL, mode=\"r:xz\")\n",
    "    tar_ds.extractall(ROOT_DIR)\n",
    "    tar_ds.close()"
   ]
  },
  {
   "cell_type": "markdown",
   "id": "e2cf4d0f-93b9-407f-9e35-282503bfa421",
   "metadata": {},
   "source": [
    "## Read Predictions"
   ]
  },
  {
   "cell_type": "code",
   "execution_count": null,
   "id": "66401723-0310-4948-a873-f2eab2891ea0",
   "metadata": {},
   "outputs": [],
   "source": [
    "def arr_load_n_dict(f):\n",
    "    arr = np.load(f)\n",
    "    return map(\n",
    "        lambda s: {\"sid\": s[0], \"e_pred\": s[1]}\n",
    "        , zip(np.asarray(arr[\"ids\"], dtype=int)\n",
    "                 , np.asarray(arr[\"energy\"], dtype=float)))\n",
    "\n",
    "bm_test_preds = arr_load_n_dict(PREDICT_DIR/\"predictions.npz\")"
   ]
  },
  {
   "cell_type": "markdown",
   "id": "c96c4ce4-cbd9-41b8-a388-f4ffe6485f1c",
   "metadata": {},
   "source": [
    "## Read Surface Energies Predictions"
   ]
  },
  {
   "cell_type": "code",
   "execution_count": null,
   "id": "1c6bd4cb-9c3f-4542-80a1-0cfbb51163dd",
   "metadata": {},
   "outputs": [],
   "source": [
    "if GEOM_MODEL == \"full\":\n",
    "    surf_df = pd.read_csv(SURF_DIR/\"ds_data.csv\"\n",
    "                        , names=(\"sid\", \"name\", \"family\", \"e_true\"))\n",
    "    surf_test_preds = arr_load_n_dict(SURF_PREDICT_DIR/\"predictions.npz\")\n",
    "\n",
    "    surf_df = surf_df.merge(pd.DataFrame(surf_test_preds))\n",
    "    surf_df.drop([\"sid\"], inplace=True, axis=1)\n",
    "    # Adjust some surfaces that are expanded\n",
    "    def adjust_values(x):\n",
    "        match (*x[[\"name\", \"family\"]],):\n",
    "            case [n, \"plastics\"]: return 4\n",
    "            case [n, _] if \"au\" in n: return 4\n",
    "            case _: return 1\n",
    "    mult_val = surf_df.apply(adjust_values, axis=1)\n",
    "    surf_df[\"e_pred\"] *= mult_val\n",
    "    surf_df[\"e_true\"] *= mult_val\n",
    "    print(surf_df)"
   ]
  },
  {
   "cell_type": "markdown",
   "id": "4542bbe6-e481-4d77-83bd-514891fb2d1c",
   "metadata": {},
   "source": [
    "## Collect data in dataframe"
   ]
  },
  {
   "cell_type": "code",
   "execution_count": null,
   "id": "fcb73311-82d9-41e5-b3b1-dc2ff3bc5475",
   "metadata": {},
   "outputs": [],
   "source": [
    "bm_df = pd.read_csv(DS_DIR/\"ds_data.csv\"\n",
    "                    , names=(\"sid\", \"name\", \"family\", \"e_true\"))\n",
    "bm_test_preds = arr_load_n_dict(PREDICT_DIR/\"predictions.npz\")\n",
    "\n",
    "bm_df = bm_df.merge(pd.DataFrame(bm_test_preds))\n",
    "# Remove sid column to prettify the output\n",
    "bm_df.drop([\"sid\"], inplace=True, axis=1)\n",
    "\n",
    "# Get only adsorbed molecules\n",
    "is_ads = lambda x: '-' in x\n",
    "bm_ads_df = bm_df[bm_df[\"name\"].apply(is_ads)]\n",
    "\n",
    "# Compute the error\n",
    "bm_df[\"error\"] = np.abs(bm_df[\"e_true\"] - bm_df[\"e_pred\"])"
   ]
  },
  {
   "cell_type": "markdown",
   "id": "0d5a6407-d26a-4e30-832c-4fdadfc880d8",
   "metadata": {},
   "source": [
    "## Compute adsorption energies"
   ]
  },
  {
   "cell_type": "code",
   "execution_count": null,
   "id": "b8941aca-ed1c-4a0c-b096-86a20428e71c",
   "metadata": {},
   "outputs": [],
   "source": [
    "get_mol_val = lambda x: bm_df.loc[bm_df['name'] == x]\n",
    "\n",
    "if GEOM_MODEL == \"full\":\n",
    "    def get_surf_val(m, f):\n",
    "        fn = lambda x: x[\"name\"].split('-')[0] == m and x[\"family\"] == f\n",
    "        return surf_df[surf_df.apply(fn, axis=1)].iloc[0]\n",
    "    \n",
    "def get_ener(x, c):\n",
    "    metal, mol = x[\"name\"].split('-')\n",
    "    ener = x[c] - bm_df.loc[bm_df['name'] == mol][c].array[0]\n",
    "    if GEOM_MODEL == \"full\":\n",
    "        ener -= get_surf_val(metal, x[\"family\"])[c]\n",
    "    return ener\n",
    "                            \n",
    "        \n",
    "get_ener_true = lambda x: get_ener(x, \"e_true\")\n",
    "get_ener_pred = lambda x: get_ener(x, \"e_pred\")"
   ]
  },
  {
   "cell_type": "code",
   "execution_count": null,
   "id": "0e5df69d-b9e3-41ca-b87a-006a18dd7329",
   "metadata": {},
   "outputs": [],
   "source": [
    "bm_df[\"eads_true\"] = bm_ads_df.apply(get_ener_true, axis=1)\n",
    "bm_df[\"eads_pred\"] = bm_ads_df.apply(get_ener_pred, axis=1)\n",
    "bm_df[\"eads_error\"] = bm_df[\"eads_true\"] - bm_df[\"eads_pred\"]"
   ]
  },
  {
   "cell_type": "markdown",
   "id": "b6d35663-faa7-427a-9432-402dbe874ff0",
   "metadata": {},
   "source": [
    "## Delete gasses"
   ]
  },
  {
   "cell_type": "code",
   "execution_count": null,
   "id": "d61914a7-dcda-4148-bdca-e9d388394c48",
   "metadata": {},
   "outputs": [],
   "source": [
    "bm_s_df = bm_df[bm_df[\"eads_true\"].notnull()]\n",
    "bm_s_df"
   ]
  },
  {
   "cell_type": "markdown",
   "id": "f8c334eb-ec49-4677-ab9a-d750947990a4",
   "metadata": {},
   "source": [
    "## Compute metrics and plot results"
   ]
  },
  {
   "cell_type": "code",
   "execution_count": null,
   "id": "a909a3f2-be2c-425c-ac3c-45d376a71639",
   "metadata": {},
   "outputs": [],
   "source": [
    "from matplotlib import pyplot as plt\n",
    "from sklearn.metrics import r2_score"
   ]
  },
  {
   "cell_type": "code",
   "execution_count": null,
   "id": "9fd9cedf-5d57-4f63-ba06-bee249fba2b4",
   "metadata": {},
   "outputs": [],
   "source": [
    "color_dict = {\n",
    "    \"biomass\": \"red\"\n",
    "    , \"plastics\": \"green\"\n",
    "    , \"polyurethanes\": \"yellow\"\n",
    "}\n",
    "to_color = lambda x: color_dict[x]\n",
    "\n",
    "r2 = r2_score(bm_s_df[\"eads_true\"], bm_s_df[\"eads_pred\"])\n",
    "mae = bm_s_df[\"eads_error\"].abs().mean()\n",
    "rmse = (bm_s_df[\"eads_error\"] ** 2).mean() ** .5\n",
    "\n",
    "fig, ax = plt.subplots(figsize=(5, 5), dpi=800)\n",
    "ax.scatter(bm_s_df[\"eads_true\"]\n",
    "          , bm_s_df[\"eads_pred\"]\n",
    "          , c=bm_s_df[\"family\"].apply(to_color))\n",
    "ax.set_ylabel(\"$\\mathit{E}_{\\mathrm{ads}}^{\\mathrm{pred}}$ / $\\mathit{eV}$\")\n",
    "ax.set_xlabel(\"$\\mathit{E}_{\\mathrm{ads}}^{\\mathrm{true}}$ / $\\mathit{eV}$\")\n",
    "ax.annotate(\"$\\mathrm{{MAE}} = {:.3f}~eV$\".format(mae), (0.7, 0.20), xycoords=\"axes fraction\")\n",
    "ax.annotate(\"$\\mathrm{{RMSE}} = {:.3f}~eV$\".format(rmse), (0.7, 0.15), xycoords=\"axes fraction\")\n",
    "ax.annotate(\"$\\mathrm{{R}}^{{2}} = {:.3f}$\".format(r2), (0.7, 0.1), xycoords=\"axes fraction\")"
   ]
  }
 ],
 "metadata": {
  "kernelspec": {
   "display_name": "Python 3 (ipykernel)",
   "language": "python",
   "name": "python3"
  },
  "language_info": {
   "codemirror_mode": {
    "name": "ipython",
    "version": 3
   },
   "file_extension": ".py",
   "mimetype": "text/x-python",
   "name": "python",
   "nbconvert_exporter": "python",
   "pygments_lexer": "ipython3",
   "version": "3.10.9"
  }
 },
 "nbformat": 4,
 "nbformat_minor": 5
}
