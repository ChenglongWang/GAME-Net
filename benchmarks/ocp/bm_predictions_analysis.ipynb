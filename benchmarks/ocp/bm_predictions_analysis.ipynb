{
 "cells": [
  {
   "cell_type": "code",
   "execution_count": 1,
   "id": "be7caec5-8b0e-4214-84ba-26535c895860",
   "metadata": {},
   "outputs": [],
   "source": [
    "import numpy as np\n",
    "import pandas as pd\n",
    "from pathlib import Path\n",
    "from itertools import chain\n",
    "from ocpmodels.datasets import SinglePointLmdbDataset"
   ]
  },
  {
   "cell_type": "code",
   "execution_count": 2,
   "id": "021903ae-48ef-44e6-a555-a40721a46ed5",
   "metadata": {},
   "outputs": [],
   "source": [
    "B_DIR = Path(\"./fg_benchmark\")\n",
    "\n",
    "D_DIR = B_DIR/\"dataset/lmdb_bm\""
   ]
  },
  {
   "cell_type": "code",
   "execution_count": null,
   "id": "54a697ff-7c36-40f0-be0b-1634f27ec834",
   "metadata": {},
   "outputs": [],
   "source": []
  }
 ],
 "metadata": {
  "kernelspec": {
   "display_name": "Python 3 (ipykernel)",
   "language": "python",
   "name": "python3"
  },
  "language_info": {
   "codemirror_mode": {
    "name": "ipython",
    "version": 3
   },
   "file_extension": ".py",
   "mimetype": "text/x-python",
   "name": "python",
   "nbconvert_exporter": "python",
   "pygments_lexer": "ipython3",
   "version": "3.10.9"
  }
 },
 "nbformat": 4,
 "nbformat_minor": 5
}
