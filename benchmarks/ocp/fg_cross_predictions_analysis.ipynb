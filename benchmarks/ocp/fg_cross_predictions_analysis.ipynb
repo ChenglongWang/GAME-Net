{
 "cells": [
  {
   "cell_type": "markdown",
   "id": "e528504b-85c4-403e-a37c-f85f5ed84828",
   "metadata": {},
   "source": [
    "# Prediction test"
   ]
  },
  {
   "cell_type": "markdown",
   "id": "a5b52203-d788-4c44-bf06-868622db7f3a",
   "metadata": {},
   "source": [
    "## Imports"
   ]
  },
  {
   "cell_type": "code",
   "execution_count": null,
   "id": "bd51e4ce-01eb-4db5-8e60-c082e148164b",
   "metadata": {},
   "outputs": [],
   "source": [
    "from itertools import chain\n",
    "from os import makedirs\n",
    "from pathlib import Path\n",
    "import numpy as np\n",
    "import pandas as pd\n",
    "from ocpmodels.datasets import SinglePointLmdbDataset"
   ]
  },
  {
   "cell_type": "markdown",
   "id": "c2ab864b-6b70-450d-8072-1f5bd88faf78",
   "metadata": {},
   "source": [
    "## Variables"
   ]
  },
  {
   "cell_type": "code",
   "execution_count": null,
   "id": "0e2ea398-d7d7-4598-98e7-1a61f300b23c",
   "metadata": {},
   "outputs": [],
   "source": [
    "ROOT_DIR = Path(\"./predictions\")            # Root of the predictions\n",
    "\n",
    "TARBALL = ROOT_DIR/\"ocp_predictions.tar.xz\" # Location of the dataset tarball\n",
    "# TARBALL = None                            # Set to False or None to avoid extraction.\n",
    "INITIAL_GEOMETRY = \"poscar\"                 # Either use poscar or contcar predictions\n",
    "GEOM_MODEL = \"full\"                         # Geometric model, either full or ensemble\n",
    "GNN_MODEL = \"gemnet\"                        # GNN model, either dpp, painn or gemnet\n",
    "DS_NAME = f\"\"\"\\\n",
    "lmdb_fg_{GEOM_MODEL}_{INITIAL_GEOMETRY}\\\n",
    "\"\"\"                \n",
    "DS_DIR = ROOT_DIR/DS_NAME                   # Dataset DIR\n",
    "PREDICT_DIR = DS_DIR/GNN_MODEL              # Prediction Dir"
   ]
  },
  {
   "cell_type": "code",
   "execution_count": null,
   "id": "38a3e647-6bb1-4a0a-9296-3be3358fc67d",
   "metadata": {},
   "outputs": [],
   "source": [
    "# Extract tarball to DS_DIR location\n",
    "if TARBALL:\n",
    "    import tarfile\n",
    "    tar_ds = tarfile.open(TARBALL, mode=\"r:xz\")\n",
    "    tar_ds.extractall(ROOT_DIR)\n",
    "    tar_ds.close()"
   ]
  },
  {
   "cell_type": "markdown",
   "id": "2b048cd4-c4bc-4583-b2cd-b4a9c46270eb",
   "metadata": {},
   "source": [
    "### Group Names"
   ]
  },
  {
   "cell_type": "markdown",
   "id": "aae44b5a-b2c7-4eaa-a370-efcefb37f1ae",
   "metadata": {},
   "source": [
    "Translate folder group names to the chemical families names shown in the manuscript."
   ]
  },
  {
   "cell_type": "code",
   "execution_count": null,
   "id": "bb1218ab-2796-4e41-900c-3aade5e2f8b7",
   "metadata": {},
   "outputs": [],
   "source": [
    "group_to_family_dict = {\n",
    "    \"carbamate_esters\": \"Carbamates\"\n",
    "     , \"aromatics\": \"Aromatics\"\n",
    "     , \"aromatics2\": \"Aromatics\"\n",
    "     , \"oximes\": \"Oximes\"\n",
    "     , \"group2\": \"$C_{x}H_{y}O_{(0,1)}$\"\n",
    "     , \"group2b\": \"$C_{x}H_{y}O_{(0,1)}$\"\n",
    "     , \"amides\": \"Amides\"\n",
    "     , \"amidines\": \"Amidines\"\n",
    "     , \"group3S\": \"$C_{x}H_{y}S$\"\n",
    "     , \"group3N\": \"$C_{x}H_{y}N$\"\n",
    "     , \"group4\": \"$C_{x}H_{y}O_{(2,3)}$\"\n",
    "     , \"metal_surfaces\": \"metal\"\n",
    "}"
   ]
  },
  {
   "cell_type": "markdown",
   "id": "ef739762-e0fd-46bc-bc6e-900ee2325616",
   "metadata": {},
   "source": [
    "## Read Predictions"
   ]
  },
  {
   "cell_type": "code",
   "execution_count": null,
   "id": "4d64929b-0ed0-4155-9ff7-6ef8ce30c357",
   "metadata": {},
   "outputs": [],
   "source": [
    "def arr_load_n_dict(f):\n",
    "    arr = np.load(f)\n",
    "    return map(\n",
    "        lambda s: {\"sid\": s[0], \"e_pred\": s[1]}\n",
    "        , zip(np.asarray(arr[\"ids\"], dtype=int)\n",
    "                 , np.asarray(arr[\"energy\"], dtype=float)))\n",
    "\n",
    "cross_data_test_preds = chain.from_iterable(map(\n",
    "    lambda ci: map(\n",
    "        lambda x: x | {\"index\": str(ci.stem).split(\"_\")[-1]}\n",
    "        , arr_load_n_dict(ci))\n",
    "    , PREDICT_DIR.glob(f\"./predictions*\")))"
   ]
  },
  {
   "cell_type": "markdown",
   "id": "1b21570d-d49e-4296-ae45-c48d4a63701e",
   "metadata": {},
   "source": [
    "## Collect the data in a dataframe"
   ]
  },
  {
   "cell_type": "code",
   "execution_count": null,
   "id": "f4791160-25c2-40ad-aea4-97765541afa0",
   "metadata": {},
   "outputs": [],
   "source": [
    "crossval_df = pd.read_csv(DS_DIR/\"ds_data.csv\"\n",
    "                         , names=(\"sid\", \"name\", \"family\", \"e_true\"))\n",
    "crossval_df = crossval_df.merge(pd.DataFrame(cross_data_test_preds))\n",
    "crossval_df.drop(crossval_df[crossval_df['family'] == \"metal\"].index, inplace=True)\n",
    "# Remove sid column to prettify the output\n",
    "crossval_df.drop([\"sid\"], inplace=True, axis=1) \n",
    "# Pretify family names\n",
    "crossval_df[\"family\"] = crossval_df[\"family\"].apply(lambda x: group_to_family_dict[x])\n",
    "# Compute the error\n",
    "crossval_df[\"error\"] = np.abs(crossval_df[\"e_true\"] - crossval_df[\"e_pred\"]) "
   ]
  },
  {
   "cell_type": "markdown",
   "id": "84cfb5cc-d9f0-4213-bbb1-9f6a03b33e7a",
   "metadata": {},
   "source": [
    "## Results"
   ]
  },
  {
   "cell_type": "markdown",
   "id": "67d2fc82-d780-43a5-8db4-815a073c676a",
   "metadata": {},
   "source": [
    "### Mean Average Error (MAE)"
   ]
  },
  {
   "cell_type": "code",
   "execution_count": null,
   "id": "8da64023-8c01-402b-bc31-478505379796",
   "metadata": {},
   "outputs": [],
   "source": [
    "crossval_df.groupby(\"family\").mean()"
   ]
  },
  {
   "cell_type": "markdown",
   "id": "d9228e86-cd89-4fe4-87d9-f4e2643c688a",
   "metadata": {},
   "source": [
    "### Standard Error of the Mean (SEM)"
   ]
  },
  {
   "cell_type": "code",
   "execution_count": null,
   "id": "1765cd49-c641-4da3-837a-e008a163097c",
   "metadata": {},
   "outputs": [],
   "source": [
    "crossval_df.groupby([\"family\", \"index\"]).mean().groupby(\"family\").std()/np.sqrt(20)"
   ]
  }
 ],
 "metadata": {
  "kernelspec": {
   "display_name": "Python 3 (ipykernel)",
   "language": "python",
   "name": "python3"
  },
  "language_info": {
   "codemirror_mode": {
    "name": "ipython",
    "version": 3
   },
   "file_extension": ".py",
   "mimetype": "text/x-python",
   "name": "python",
   "nbconvert_exporter": "python",
   "pygments_lexer": "ipython3",
   "version": "3.10.9"
  }
 },
 "nbformat": 4,
 "nbformat_minor": 5
}
