{
 "cells": [
  {
   "cell_type": "markdown",
   "id": "40a34b60-ddd8-42ba-a824-8ce1e3f44dd7",
   "metadata": {},
   "source": [
    "# Convert to Ensemble"
   ]
  },
  {
   "cell_type": "markdown",
   "id": "09c63c1a-a229-4600-93b1-019364cfd138",
   "metadata": {},
   "source": [
    "This notebook is designed to perform a single task: it takes a dataset tarball and transform the structures inside using our ensamble model. You will fin|d the available options below, in the Variables section. Datasets generated using this notebook can be later used to generate the lmdb compatible with the Open Catalyst Project models."
   ]
  },
  {
   "cell_type": "markdown",
   "id": "ece17628-0d87-4153-937b-953c08d400d6",
   "metadata": {},
   "source": [
    "*Note: For sake of simplicity, this notebook will load the complete dataset into RAM. As FG and BM datasets are small, it should not be a problem for most modern computers. However, if this notebook wants to be used with a larger dataset, implementing a batch function is strongly recommended*  "
   ]
  },
  {
   "cell_type": "markdown",
   "id": "ec674af1-03d6-43df-b668-e82df9f618c6",
   "metadata": {
    "tags": []
   },
   "source": [
    "## Variables"
   ]
  },
  {
   "cell_type": "markdown",
   "id": "e18a059d-41a5-4166-ad51-ae7359c36e5d",
   "metadata": {
    "tags": []
   },
   "source": [
    "### Paths"
   ]
  },
  {
   "cell_type": "code",
   "execution_count": null,
   "id": "a81ee120-3f8e-4f82-9fd3-45d41daca9db",
   "metadata": {},
   "outputs": [],
   "source": [
    "from pathlib import Path\n",
    "\n",
    "ROOT_DIR = Path(\"./datasets/\")              # Working directory\n",
    "DS_NAME = \"BM_dataset_lite\"                 # Name of the Dataset\n",
    "TARBALL = ROOT_DIR/f\"{DS_NAME}.tar.xz\"      # Location of the Tarball\n",
    "\n",
    "# Destination tarball with the ensemble dataset\n",
    "TARBALL_DEST = ROOT_DIR/f\"{DS_NAME}_ensemble.tar.xz\""
   ]
  },
  {
   "cell_type": "markdown",
   "id": "bc37b6b0-e836-46da-8e54-0861a66d3d08",
   "metadata": {
    "tags": []
   },
   "source": [
    "### Ensemble"
   ]
  },
  {
   "cell_type": "code",
   "execution_count": null,
   "id": "9ae63836-719c-4b22-80f8-2016a3515ac9",
   "metadata": {},
   "outputs": [],
   "source": [
    "VORONOI_TOLERANCE = 0.5                     # Voronoi threshold\n",
    "CORDERO_SCALING_FACTOR = 1.5                # Scaling Factor of the Cordero radii\n",
    "METALS = (\n",
    "    \"Ag\", \"Au\", \"Cd\" , \"Co\", \"Cu\", \"Fe\"\n",
    "    , \"Ir\", \"Ni\", \"Os\", \"Pd\", \"Pt\", \"Rh\"\n",
    "    , \"Ru\", \"Zn\"\n",
    ")                                           # Elements identified as metals during ensemble\n",
    "MOL_ELEM = (\"C\", \"H\", \"O\", \"N\", \"S\" )       # Elements identified as non-metal during ensemble"
   ]
  },
  {
   "cell_type": "markdown",
   "id": "6a0e4363-ab45-4e70-bb7a-2052aae32aa1",
   "metadata": {
    "tags": []
   },
   "source": [
    "#### Radii"
   ]
  },
  {
   "cell_type": "code",
   "execution_count": null,
   "id": "3ca892a5-c2e9-43f0-b2b6-5c1b9fe41412",
   "metadata": {},
   "outputs": [],
   "source": [
    "CORDERO = {\n",
    "    'Ac': 2.15, 'Al': 1.21, 'Am': 1.80, 'Sb': 1.39, 'Ar': 1.06\n",
    "    , 'As': 1.19, 'At': 1.50, 'Ba': 2.15, 'Be': 0.96, 'Bi': 1.48\n",
    "    , 'B' : 0.84, 'Br': 1.20, 'Cd': 1.44, 'Ca': 1.76, 'C' : 0.76\n",
    "    , 'Ce': 2.04, 'Cs': 2.44, 'Cl': 1.02, 'Cr': 1.39, 'Co': 1.50\n",
    "    , 'Cu': 1.32, 'Cm': 1.69, 'Dy': 1.92, 'Er': 1.89, 'Eu': 1.98\n",
    "    , 'F' : 0.57, 'Fr': 2.60, 'Gd': 1.96, 'Ga': 1.22, 'Ge': 1.20\n",
    "    , 'Au': 1.36, 'Hf': 1.75, 'He': 0.28, 'Ho': 1.92, 'H' : 0.31\n",
    "    , 'In': 1.42, 'I' : 1.39, 'Ir': 1.41, 'Fe': 1.52, 'Kr': 1.16\n",
    "    , 'La': 2.07, 'Pb': 1.46, 'Li': 1.28, 'Lu': 1.87, 'Mg': 1.41\n",
    "    , 'Mn': 1.61, 'Hg': 1.32, 'Mo': 1.54, 'Ne': 0.58, 'Np': 1.90\n",
    "    , 'Ni': 1.24, 'Nb': 1.64, 'N' : 0.71, 'Os': 1.44, 'O' : 0.66\n",
    "    , 'Pd': 1.39, 'P' : 1.07, 'Pt': 1.36, 'Pu': 1.87, 'Po': 1.40\n",
    "    , 'K' : 2.03, 'Pr': 2.03, 'Pm': 1.99, 'Pa': 2.00, 'Ra': 2.21\n",
    "    , 'Rn': 1.50, 'Re': 1.51, 'Rh': 1.42, 'Rb': 2.20, 'Ru': 1.46\n",
    "    , 'Sm': 1.98, 'Sc': 1.70, 'Se': 1.20, 'Si': 1.11, 'Ag': 1.45\n",
    "    , 'Na': 1.66, 'Sr': 1.95, 'S' : 1.05, 'Ta': 1.70, 'Tc': 1.47\n",
    "    , 'Te': 1.38, 'Tb': 1.94, 'Tl': 1.45, 'Th': 2.06, 'Tm': 1.90\n",
    "    , 'Sn': 1.39, 'Ti': 1.60, 'Wf': 1.62, 'U' : 1.96, 'V' : 1.53\n",
    "    , 'Xe': 1.40, 'Yb': 1.87, 'Y' : 1.90, 'Zn': 1.22, 'Zr': 1.75\n",
    "}"
   ]
  },
  {
   "cell_type": "markdown",
   "id": "018d65bf-9009-4ebb-b9ef-1ad95f49570c",
   "metadata": {},
   "source": [
    "### Special Surfaces"
   ]
  },
  {
   "cell_type": "markdown",
   "id": "fb9d59c3-3e8c-4252-81a5-dcf4ca448552",
   "metadata": {},
   "source": [
    "These molecules have an special surface energy that will not be computed from the energies file, but taken from this dict instead."
   ]
  },
  {
   "cell_type": "code",
   "execution_count": null,
   "id": "66870538-73a7-45ad-b8df-a345f7de4512",
   "metadata": {},
   "outputs": [],
   "source": [
    "SPECIAL_SURF = {\n",
    "    \"ru-mol1\": -725.4400795\n",
    "    , \"ru-mol2\": -725.4400795\n",
    "    , \"ru-mol3\": -725.4400795\n",
    "    , \"ru-mol4\": -725.4400795\n",
    "    , \"ru-mol5\": -725.4400795\n",
    "}"
   ]
  },
  {
   "cell_type": "markdown",
   "id": "1d5e69ad-47f4-4fe1-806c-b5d8900ffe41",
   "metadata": {},
   "source": [
    "## Auxiliary Functions"
   ]
  },
  {
   "cell_type": "markdown",
   "id": "d44811e1-92f7-4f15-8ca3-ba700450188f",
   "metadata": {
    "tags": []
   },
   "source": [
    "### Voronoi"
   ]
  },
  {
   "cell_type": "code",
   "execution_count": null,
   "id": "d21adba4-c7b6-4f97-b133-0d0192111c70",
   "metadata": {
    "jupyter": {
     "source_hidden": true
    },
    "tags": []
   },
   "outputs": [],
   "source": [
    "import numpy as np\n",
    "from scipy.spatial import Voronoi\n",
    "from itertools import product\n",
    "\n",
    "from pyRDTP.geomio import file_to_mol, mol_to_file\n",
    "from pyRDTP.molecule import Molecule\n",
    "\n",
    "def connectivity_search_voronoi(molecule: Molecule,\n",
    "                                tolerance:float,\n",
    "                                metal_rad_dict:dict,\n",
    "                                center:bool=False) -> Molecule:\n",
    "    if len(molecule.atoms) == 1:\n",
    "        return molecule\n",
    "    if center:\n",
    "        cartesian_old = np.copy(molecule.coords_array('cartesian'))\n",
    "        direct_old = np.copy(molecule.coords_array('direct'))\n",
    "        molecule.move_to_box_center()\n",
    "    coords_arr = np.copy(molecule.coords_array('direct'))\n",
    "    coords_arr = np.expand_dims(coords_arr, axis=0)\n",
    "    coords_arr = np.repeat(coords_arr, 27, axis=0)\n",
    "    mirrors = [-1, 0, 1]\n",
    "    mirrors = np.asarray(list(product(mirrors, repeat=3)))\n",
    "    mirrors = np.expand_dims(mirrors, 1)\n",
    "    mirrors = np.repeat(mirrors, coords_arr.shape[1], axis=1)\n",
    "    corrected_coords = np.reshape(coords_arr + mirrors,\n",
    "                                  (coords_arr.shape[0] * coords_arr.shape[1],\n",
    "                                   coords_arr.shape[2]))\n",
    "    corrected_coords = np.dot(corrected_coords, molecule.cell_p.direct)\n",
    "    translator = np.tile(np.arange(coords_arr.shape[1]),\n",
    "                         coords_arr.shape[0])\n",
    "    vor_bonds = Voronoi(corrected_coords)\n",
    "    pairs_corr = translator[vor_bonds.ridge_points]\n",
    "    pairs_corr = np.unique(np.sort(pairs_corr, axis=1), axis=0)\n",
    "    true_arr = pairs_corr[:, 0] == pairs_corr[:, 1]\n",
    "    true_arr = np.argwhere(true_arr)\n",
    "    pairs_corr = np.delete(pairs_corr, true_arr, axis=0)\n",
    "    dst_d = {}\n",
    "    pairs_lst = []\n",
    "    for pair in pairs_corr:\n",
    "        elements = [molecule.atoms[index].element for index in pair]\n",
    "        fr_elements = frozenset(elements)\n",
    "        if fr_elements not in dst_d:\n",
    "            dst_d[fr_elements] = metal_rad_dict[elements[0]]\n",
    "            dst_d[fr_elements] += metal_rad_dict[elements[1]]\n",
    "            dst_d[fr_elements] += tolerance\n",
    "        if dst_d[fr_elements] >= molecule.distance(*pair, system='cartesian', minimum=True):\n",
    "            pairs_lst.append(pair)\n",
    "            molecule.atoms[pair[0]].connection_add(molecule.atoms[pair[1]])\n",
    "    molecule.pairs = np.asarray(pairs_lst)\n",
    "    if center:\n",
    "        molecule.coords_update(cartesian_old, 'cartesian')\n",
    "        molecule.coords_update(direct_old, 'direct')\n",
    "    return molecule\n",
    "\n",
    "\n",
    "def mol_to_ensemble(molecule: Molecule,\n",
    "                    voronoi_tolerance: float,\n",
    "                    scaling_factor: float,\n",
    "                    second_order: bool,\n",
    "                    metals = [str],\n",
    "                    mol_elem = [str],\n",
    "                    radii = dict[str, float]\n",
    "                   ) -> Molecule:\n",
    "    elem_rad = {}\n",
    "    for metal in metals:\n",
    "        elem_rad[metal] = radii[metal] * scaling_factor\n",
    "    for element in mol_elem:\n",
    "        elem_rad[element] = radii[element]\n",
    "    # 1) Define whole connectivity in the cell\n",
    "    molecule = connectivity_search_voronoi(molecule, voronoi_tolerance, elem_rad)\n",
    "    # 2) Create Molecule object with adsorbate and interacting metal atoms\n",
    "    new_atoms = []\n",
    "    non_metal_atoms = [atom for atom in molecule.atoms if atom.element not in metals]\n",
    "    # 3) Collect atoms\n",
    "    for atom in non_metal_atoms:\n",
    "        for neighbour in atom.connections + [atom]:\n",
    "            if neighbour not in new_atoms:\n",
    "                new_atoms.append(neighbour)\n",
    "    # 3b) Collect metal neighbours of the metal atoms directly in contact with adsorbate\n",
    "    if second_order:\n",
    "        for atom in new_atoms:\n",
    "            if atom in metals:\n",
    "                for neighbour in atom.connections + [atom]:\n",
    "                    if neighbour not in new_atoms:\n",
    "                        new_atoms.append(neighbour)\n",
    "            else:\n",
    "                pass\n",
    "    new_atoms = [atom.copy() for atom in new_atoms]\n",
    "    new_molecule = Molecule(\"\")\n",
    "    new_molecule.atom_add_list(new_atoms)\n",
    "    new_molecule.connection_clear()\n",
    "    new_molecule.cell_p_add(molecule.cell_p.copy())\n",
    "    # 4) Define connectivity of the final ensemble\n",
    "    new_molecule = connectivity_search_voronoi(new_molecule, voronoi_tolerance, elem_rad)\n",
    "    return new_molecule"
   ]
  },
  {
   "cell_type": "code",
   "execution_count": null,
   "id": "5b04d7e0-3942-4b70-9d62-93c3dec75369",
   "metadata": {},
   "outputs": [],
   "source": [
    "from pyRDTP.geomio import VaspContcar, MolObj\n",
    "\n",
    "def vasp_str_read(s):\n",
    "    contcar = VaspContcar()\n",
    "    contcar.read(s)\n",
    "    mol_tmp = MolObj()\n",
    "    mol_tmp.universal_read(contcar.universal_convert())\n",
    "    return mol_tmp.write(bulk=False)\n",
    "\n",
    "def mol_vasp_write(m):\n",
    "    mol_obj = MolObj()\n",
    "    mol_obj.read(m)\n",
    "    contcar = VaspContcar()\n",
    "    contcar.universal_read(mol_obj.universal_convert())\n",
    "    return contcar.write()\n",
    "    \n",
    "def to_ensemble_str(s):\n",
    "    return mol_vasp_write(\n",
    "        mol_to_ensemble( \n",
    "        molecule=vasp_str_read(s)\n",
    "        , voronoi_tolerance=VORONOI_TOLERANCE\n",
    "        , scaling_factor=CORDERO_SCALING_FACTOR\n",
    "        , second_order=False\n",
    "        , metals=METALS\n",
    "        , mol_elem=MOL_ELEM\n",
    "        , radii=CORDERO))"
   ]
  },
  {
   "cell_type": "markdown",
   "id": "9bd383c1-46f6-4e32-a7ed-094f39310a5f",
   "metadata": {},
   "source": [
    "## Tarball"
   ]
  },
  {
   "cell_type": "code",
   "execution_count": null,
   "id": "9d505397-2268-4c33-a693-1ed40a5be1c7",
   "metadata": {},
   "outputs": [],
   "source": [
    "import re\n",
    "from io import BytesIO\n",
    "import tarfile\n",
    "\n",
    "def tar_string(s, fn, tar):\n",
    "    buf = BytesIO(s)\n",
    "    info = tarfile.TarInfo(name=fn)\n",
    "    info.size=len(s)\n",
    "    tar.addfile(tarinfo=info, fileobj=buf)\n",
    "    \n",
    "def get_energy_from_dict(s, ener_dict, special_dict):\n",
    "    if s in special_dict:\n",
    "        return float(ener_dict[s]) - special_dict[s]\n",
    "    match s.split('-'):\n",
    "        case x if len(x) == 1: return float(ener_dict[s])\n",
    "        case [x, '0000']: return float(ener_dict[s])\n",
    "        case [x, *_]: return float(ener_dict[s]) - float(ener_dict[f\"{x}-0000\"]) \n",
    "\n",
    "# Regex Comp\n",
    "M_RE = re.compile(\".*-0000\\.(contcar|poscar)\")\n",
    "C_RE = re.compile(\".*\\.*(contcar|poscar)\")\n",
    "E_RE = re.compile(\".*energies.*dat\")\n",
    "def tar_file(fn, tar, tar_dest, special_dict):\n",
    "\n",
    "    \n",
    "    print(fn)\n",
    "    match fn:\n",
    "        case s if M_RE.match(s):\n",
    "            tar_string(tar.extractfile(s).read(), s, tar_dest)\n",
    "        case s if C_RE.match(s):\n",
    "            byte_lines = map(\n",
    "                lambda x: x.decode(\"utf-8\")\n",
    "                , tar.extractfile(s).readlines()) \n",
    "            geom = to_ensemble_str(byte_lines)\n",
    "            tar_string(geom.encode(\"utf-8\"), s, tar_dest)\n",
    "        case s if E_RE.match(s): \n",
    "            energies_dict = dict(map(\n",
    "                lambda x: x.split()\n",
    "                , tar.extractfile(s).read().decode('utf-8').rstrip().split('\\n')))\n",
    "            tar_string(\n",
    "                b'\\n'.join(map(\n",
    "                    lambda x: f'{x} {get_energy_from_dict(x, energies_dict, special_dict)}'.encode(\"utf-8\")\n",
    "                    , energies_dict.keys()))\n",
    "                , s\n",
    "                , tar_dest)\n",
    "        case s if \"groups.dat\" in s: tar_string(tar.extractfile(s).read(), s, tar_dest)\n",
    "        case _:\n",
    "            info = tarfile.TarInfo(fn)\n",
    "            info.type = tarfile.DIRTYPE\n",
    "            tar_dest.addfile(info)"
   ]
  },
  {
   "cell_type": "code",
   "execution_count": null,
   "id": "f2ed1ee5-4e20-4fbd-9b9f-98cbda6ff438",
   "metadata": {},
   "outputs": [],
   "source": [
    "from collections import deque\n",
    "\n",
    "tar_ds = tarfile.open(TARBALL, mode=\"r:xz\")\n",
    "tar_target = tarfile.open(TARBALL_DEST, mode=\"w:xz\")\n",
    "names = tar_ds.getnames()\n",
    "deque(map( lambda s: tar_file(s, tar_ds, tar_target, SPECIAL_SURF)\n",
    "          , tar_ds.getnames()))\n",
    "tar_ds.close()\n",
    "tar_target.close()"
   ]
  }
 ],
 "metadata": {
  "kernelspec": {
   "display_name": "Python 3 (ipykernel)",
   "language": "python",
   "name": "python3"
  },
  "language_info": {
   "codemirror_mode": {
    "name": "ipython",
    "version": 3
   },
   "file_extension": ".py",
   "mimetype": "text/x-python",
   "name": "python",
   "nbconvert_exporter": "python",
   "pygments_lexer": "ipython3",
   "version": "3.10.9"
  }
 },
 "nbformat": 4,
 "nbformat_minor": 5
}
